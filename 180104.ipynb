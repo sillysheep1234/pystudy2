{
 "cells": [
  {
   "cell_type": "code",
   "execution_count": 6,
   "metadata": {
    "scrolled": true
   },
   "outputs": [
    {
     "name": "stdout",
     "output_type": "stream",
     "text": [
      "Hamlet\n",
      "Macbeth\n",
      "King Lear\n"
     ]
    }
   ],
   "source": [
    "plays =['Hamlet', 'Macbeth', 'King Lear']\n",
    "n=len(plays)\n",
    "i=0\n",
    "while i<=n-1:\n",
    "    print(plays[i])\n",
    "    i=i+1"
   ]
  },
  {
   "cell_type": "code",
   "execution_count": 5,
   "metadata": {},
   "outputs": [
    {
     "ename": "TypeError",
     "evalue": "'set' object does not support indexing",
     "output_type": "error",
     "traceback": [
      "\u001b[1;31m---------------------------------------------------------------------------\u001b[0m",
      "\u001b[1;31mTypeError\u001b[0m                                 Traceback (most recent call last)",
      "\u001b[1;32m<ipython-input-5-b7ae5195b895>\u001b[0m in \u001b[0;36m<module>\u001b[1;34m()\u001b[0m\n\u001b[0;32m      1\u001b[0m \u001b[0mplays\u001b[0m \u001b[1;33m=\u001b[0m \u001b[0mset\u001b[0m\u001b[1;33m(\u001b[0m\u001b[1;33m[\u001b[0m\u001b[1;34m'Hamlet'\u001b[0m\u001b[1;33m,\u001b[0m \u001b[1;34m'Macbeth'\u001b[0m\u001b[1;33m,\u001b[0m \u001b[1;34m'King Lear'\u001b[0m\u001b[1;33m]\u001b[0m\u001b[1;33m)\u001b[0m\u001b[1;33m\u001b[0m\u001b[0m\n\u001b[1;32m----> 2\u001b[1;33m \u001b[0mplays\u001b[0m\u001b[1;33m[\u001b[0m\u001b[1;36m1\u001b[0m\u001b[1;33m]\u001b[0m\u001b[1;33m\u001b[0m\u001b[0m\n\u001b[0m",
      "\u001b[1;31mTypeError\u001b[0m: 'set' object does not support indexing"
     ]
    }
   ],
   "source": [
    "plays = set(['Hamlet', 'Macbeth', 'King Lear'])\n",
    "plays[1]"
   ]
  },
  {
   "cell_type": "code",
   "execution_count": null,
   "metadata": {
    "collapsed": true
   },
   "outputs": [],
   "source": [
    "values = [10, 21, 4, 7, 12]\n",
    "squares = [x**2 for x in values if x <= 10]\n",
    "print squares"
   ]
  },
  {
   "cell_type": "code",
   "execution_count": 8,
   "metadata": {},
   "outputs": [
    {
     "data": {
      "text/plain": [
       "[100, 16, 49]"
      ]
     },
     "execution_count": 8,
     "metadata": {},
     "output_type": "execute_result"
    }
   ],
   "source": [
    "values = [10, 21, 4, 7, 12]\n",
    "squares=[]\n",
    "for x in values:\n",
    "    if x<=10:\n",
    "        squares.append(x**2)\n",
    "#    else:\n",
    "#       continue\n",
    "squares"
   ]
  },
  {
   "cell_type": "code",
   "execution_count": 13,
   "metadata": {},
   "outputs": [
    {
     "data": {
      "text/plain": [
       "99"
      ]
     },
     "execution_count": 13,
     "metadata": {},
     "output_type": "execute_result"
    }
   ],
   "source": [
    "x=range(100)\n",
    "total=sum([i**2 for i in x])\n",
    "y=[i**2 for i in x]\n",
    "y\n",
    "max(x)"
   ]
  },
  {
   "cell_type": "code",
   "execution_count": 14,
   "metadata": {
    "scrolled": true
   },
   "outputs": [
    {
     "name": "stdout",
     "output_type": "stream",
     "text": [
      " 驱动器 C 中的卷是 Windows\n",
      " 卷的序列号是 781C-54BE\n",
      "\n",
      " C:\\Users\\Zhenqi\\py_script 的目录\n",
      "\n",
      "2018/01/05  01:02    <DIR>          .\n",
      "2018/01/05  01:02    <DIR>          ..\n",
      "2018/01/04  23:56    <DIR>          .ipynb_checkpoints\n",
      "2017/12/31  03:28             7,358 171231.ipynb\n",
      "2018/01/02  00:20            69,238 180101.ipynb\n",
      "2018/01/03  00:54             3,298 180102.ipynb\n",
      "2018/01/05  01:00             3,260 180104.ipynb\n",
      "2018/01/01  00:37             1,140 list&set.ipynb\n",
      "2018/01/05  01:02             1,071 study plan.ipynb\n",
      "2018/01/01  22:53                72 Untitled.ipynb\n",
      "               7 个文件         85,437 字节\n",
      "               3 个目录 33,547,358,208 可用字节\n"
     ]
    }
   ],
   "source": [
    "%ls"
   ]
  },
  {
   "cell_type": "code",
   "execution_count": 16,
   "metadata": {},
   "outputs": [
    {
     "name": "stdout",
     "output_type": "stream",
     "text": [
      "天涯海角\n",
      "\n",
      "海枯石烂\n"
     ]
    }
   ],
   "source": [
    "f = open('test.txt')\n",
    "for lines in f:\n",
    "    print(lines)"
   ]
  }
 ],
 "metadata": {
  "kernelspec": {
   "display_name": "Python 3",
   "language": "python",
   "name": "python3"
  },
  "language_info": {
   "codemirror_mode": {
    "name": "ipython",
    "version": 3
   },
   "file_extension": ".py",
   "mimetype": "text/x-python",
   "name": "python",
   "nbconvert_exporter": "python",
   "pygments_lexer": "ipython3",
   "version": "3.6.3"
  }
 },
 "nbformat": 4,
 "nbformat_minor": 2
}
