{
 "cells": [
  {
   "cell_type": "code",
   "execution_count": 4,
   "metadata": {},
   "outputs": [
    {
     "ename": "SyntaxError",
     "evalue": "'break' outside loop (<ipython-input-4-58b44e8d08a2>, line 5)",
     "output_type": "error",
     "traceback": [
      "\u001b[1;36m  File \u001b[1;32m\"<ipython-input-4-58b44e8d08a2>\"\u001b[1;36m, line \u001b[1;32m5\u001b[0m\n\u001b[1;33m    break\u001b[0m\n\u001b[1;37m    ^\u001b[0m\n\u001b[1;31mSyntaxError\u001b[0m\u001b[1;31m:\u001b[0m 'break' outside loop\n"
     ]
    }
   ],
   "source": [
    "import math\n",
    "try:\n",
    "        text = input('> ')\n",
    "        if text == 'q':\n",
    "            break\n",
    "        x = float(text)\n",
    "        y = 1 / math.log10(x)\n",
    "        print(\"1 / log10({0}) = {1}\".format(x, y))\n",
    "except ValueError as exc:\n",
    "        print(exc)\n",
    "        if exc == \"math domain error\":\n",
    "            print(\"the value must be greater than 0\")\n",
    "#        else:\n",
    "#            print(\"could not convert '%s' to float\" % text)\n",
    "except ZeroDivisionError:\n",
    "        print(\"the value must not be 1\")\n",
    "except Exception as exc:\n",
    "        print(\"unexpected error:\", exc.message)"
   ]
  },
  {
   "cell_type": "code",
   "execution_count": 23,
   "metadata": {},
   "outputs": [
    {
     "name": "stdout",
     "output_type": "stream",
     "text": [
      "number:-1\n",
      "math domain error\n",
      "number 小于 0\n"
     ]
    }
   ],
   "source": [
    "import math\n",
    "x=float(input('number:'))\n",
    "try:\n",
    "    y=math.log10(x)\n",
    "    print('y=',int(y))\n",
    "except ValueError as err:\n",
    "    print(err)\n",
    "    if str(err)=='math domain error':\n",
    "        print('number 小于 0')\n",
    "    else:\n",
    "        print('err无法显示')"
   ]
  },
  {
   "cell_type": "code",
   "execution_count": 33,
   "metadata": {},
   "outputs": [
    {
     "name": "stdout",
     "output_type": "stream",
     "text": [
      "> d9sc\n",
      "Invalid commmand: d9sc\n"
     ]
    }
   ],
   "source": [
    "class CommandError(ValueError):\n",
    "    pass\n",
    "valid_commands = {'start', 'stop', 'pause'}\n",
    "command = input('> ')\n",
    "try:\n",
    "    if command.lower() not in valid_commands:\n",
    "        raise CommandError('Invalid commmand: %s' % command)\n",
    "        print('%s is not in valid_commands' %command)\n",
    "except ValueError as err:\n",
    "    print(err)"
   ]
  }
 ],
 "metadata": {
  "kernelspec": {
   "display_name": "Python 3",
   "language": "python",
   "name": "python3"
  }
 },
 "nbformat": 4,
 "nbformat_minor": 2
}
