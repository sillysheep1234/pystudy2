{
 "cells": [
  {
   "cell_type": "markdown",
   "metadata": {
    "collapsed": true
   },
   "source": [
    "## Plan\n",
    "### 1.Python基础知识及爬虫\n",
    "* 18/1/1 02.05 索引和分片\n",
    "* 18/1/2 02.10 字典\n",
    "* 18/1/3 02.14 判断语句\n",
    "* 18/1/4 02.16 列表推导式\n",
    "* 18/1/6 02.18 模块和包\n",
    "* 18/1/14 03.05 数组的方法，goto 08.面向对象的编程\n",
    "* 18/1/15 08.06 属性\n",
    "* 18/1/16 https://ask.hellobi.com/blog/qinlu/8929 学习python数据分析\n",
    "\n",
    "### 2.模拟项目-计算交易用户的购买间隔\n",
    "\n",
    "### 3.模拟项目http://bbs.ngacn.cc/read.php?tid=10142726\n",
    "* 爬虫Scrapy\n",
    "* 英雄榜没有角色列表，所以我是先去某狗上爬了一波公会名，再根据公会名去英雄榜爬公会成员信息 \n",
    "\n",
    "### 4.Python建站知识\n",
    "### 5.阿里云建站\n",
    "\n",
    "\n",
    "\n",
    "\n",
    "\n",
    "### 奥法 5E 1.68m dps  单绿棒，无药水，无嗜血"
   ]
  }
 ],
 "metadata": {
  "kernelspec": {
   "display_name": "Python 3",
   "language": "python",
   "name": "python3"
  },
  "language_info": {
   "codemirror_mode": {
    "name": "ipython",
    "version": 3
   },
   "file_extension": ".py",
   "mimetype": "text/x-python",
   "name": "python",
   "nbconvert_exporter": "python",
   "pygments_lexer": "ipython3",
   "version": "3.6.3"
  }
 },
 "nbformat": 4,
 "nbformat_minor": 2
}
