{
 "cells": [
  {
   "cell_type": "code",
   "execution_count": 14,
   "metadata": {},
   "outputs": [
    {
     "data": {
      "text/html": [
       "<div>\n",
       "<style>\n",
       "    .dataframe thead tr:only-child th {\n",
       "        text-align: right;\n",
       "    }\n",
       "\n",
       "    .dataframe thead th {\n",
       "        text-align: left;\n",
       "    }\n",
       "\n",
       "    .dataframe tbody tr th {\n",
       "        vertical-align: top;\n",
       "    }\n",
       "</style>\n",
       "<table border=\"1\" class=\"dataframe\">\n",
       "  <thead>\n",
       "    <tr style=\"text-align: right;\">\n",
       "      <th></th>\n",
       "      <th>b</th>\n",
       "      <th>c</th>\n",
       "    </tr>\n",
       "    <tr>\n",
       "      <th>a</th>\n",
       "      <th></th>\n",
       "      <th></th>\n",
       "    </tr>\n",
       "  </thead>\n",
       "  <tbody>\n",
       "    <tr>\n",
       "      <th>1</th>\n",
       "      <td>2</td>\n",
       "      <td>3</td>\n",
       "    </tr>\n",
       "    <tr>\n",
       "      <th>4</th>\n",
       "      <td>5</td>\n",
       "      <td>6</td>\n",
       "    </tr>\n",
       "  </tbody>\n",
       "</table>\n",
       "</div>"
      ],
      "text/plain": [
       "   b  c\n",
       "a      \n",
       "1  2  3\n",
       "4  5  6"
      ]
     },
     "execution_count": 14,
     "metadata": {},
     "output_type": "execute_result"
    }
   ],
   "source": [
    "df2=df.set_index('a')\n",
    "df2"
   ]
  },
  {
   "cell_type": "code",
   "execution_count": 19,
   "metadata": {
    "scrolled": true
   },
   "outputs": [
    {
     "name": "stderr",
     "output_type": "stream",
     "text": [
      "D:\\Anaconda3\\lib\\site-packages\\ipykernel_launcher.py:1: DeprecationWarning: \n",
      ".ix is deprecated. Please use\n",
      ".loc for label based indexing or\n",
      ".iloc for positional indexing\n",
      "\n",
      "See the documentation here:\n",
      "http://pandas.pydata.org/pandas-docs/stable/indexing.html#ix-indexer-is-deprecated\n",
      "  \"\"\"Entry point for launching an IPython kernel.\n"
     ]
    },
    {
     "data": {
      "text/plain": [
       "b    2\n",
       "c    3\n",
       "Name: 1, dtype: int64"
      ]
     },
     "execution_count": 19,
     "metadata": {},
     "output_type": "execute_result"
    }
   ],
   "source": [
    "df2.ix[1]"
   ]
  },
  {
   "cell_type": "code",
   "execution_count": 32,
   "metadata": {},
   "outputs": [
    {
     "data": {
      "text/plain": [
       "'2017-04-22'"
      ]
     },
     "execution_count": 32,
     "metadata": {},
     "output_type": "execute_result"
    }
   ],
   "source": [
    "#随机生成日期\n",
    "import random\n",
    "import pandas as pd\n",
    "from datetime import datetime\n",
    "def datelist(beginDate, endDate):\n",
    "    # beginDate, endDate是形如‘20160601’的字符串或datetime格式\n",
    "    date_l=[datetime.strftime(x,'%Y-%m-%d') for x in list(pd.date_range(start=beginDate, end=endDate))]\n",
    "    return date_l\n",
    "datelist('2017-03-01', '2017-04-30')\n",
    "\n",
    "i=len(datelist('2017-03-01', '2017-04-30'))\n",
    "j=random.randint(1,i)\n",
    "date_2=datelist('2017-03-01', '2017-04-30')[j]\n",
    "date_2"
   ]
  },
  {
   "cell_type": "code",
   "execution_count": 50,
   "metadata": {
    "collapsed": true
   },
   "outputs": [],
   "source": [
    "#重新建立transaction data\n",
    "#schema: transaction_id,member_id,date,amount,payment\n",
    "f = open('transaction_data_v2.txt','w')\n",
    "f.write('transaction_id,member_id,date,amount,payment'+'\\n')\n",
    "for i in range(1,101):\n",
    "    transaction_id=str(i)\n",
    "    member_id=str(10000+random.randint(1,20))\n",
    "    i=len(datelist('2017-03-01', '2017-04-30'))\n",
    "    j=random.randint(0,i-1)\n",
    "    date_2=datelist('2017-03-01', '2017-04-30')[j]\n",
    "    amount=str(random.randint(1,20))\n",
    "    payment=str(random.randint(10,1000))\n",
    "    f.write(transaction_id+','+member_id+','+date_2+','+amount+','+payment+'\\n')\n",
    "f.close()\n",
    "\n"
   ]
  },
  {
   "cell_type": "code",
   "execution_count": 51,
   "metadata": {},
   "outputs": [
    {
     "name": "stdout",
     "output_type": "stream",
     "text": [
      "transaction_id,member_id,date,amount,payment\n",
      "\n",
      "1,10004,2017-03-12,14,552\n",
      "\n",
      "2,10004,2017-04-09,7,608\n",
      "\n",
      "3,10007,2017-04-27,17,89\n",
      "\n",
      "4,10008,2017-04-24,8,602\n",
      "\n",
      "5,10011,2017-03-09,11,275\n",
      "\n",
      "6,10016,2017-04-11,16,193\n",
      "\n",
      "7,10014,2017-03-23,8,105\n",
      "\n",
      "8,10012,2017-04-25,10,664\n",
      "\n",
      "9,10002,2017-03-24,18,410\n",
      "\n",
      "10,10005,2017-03-10,2,277\n",
      "\n",
      "11,10020,2017-04-16,20,27\n",
      "\n",
      "12,10020,2017-03-07,5,282\n",
      "\n",
      "13,10013,2017-04-01,19,848\n",
      "\n",
      "14,10005,2017-03-15,5,183\n",
      "\n",
      "15,10014,2017-03-17,15,29\n",
      "\n",
      "16,10015,2017-03-21,13,412\n",
      "\n",
      "17,10014,2017-04-06,16,437\n",
      "\n",
      "18,10019,2017-04-04,10,926\n",
      "\n",
      "19,10007,2017-03-07,20,939\n",
      "\n",
      "20,10017,2017-03-24,12,618\n",
      "\n",
      "21,10006,2017-03-04,19,956\n",
      "\n",
      "22,10011,2017-03-25,10,560\n",
      "\n",
      "23,10004,2017-03-22,7,723\n",
      "\n",
      "24,10001,2017-03-13,18,842\n",
      "\n",
      "25,10002,2017-04-02,4,791\n",
      "\n",
      "26,10005,2017-04-14,13,472\n",
      "\n",
      "27,10012,2017-03-17,20,71\n",
      "\n",
      "28,10007,2017-03-02,2,580\n",
      "\n",
      "29,10003,2017-03-04,17,233\n",
      "\n",
      "30,10004,2017-03-06,5,989\n",
      "\n",
      "31,10013,2017-04-27,19,610\n",
      "\n",
      "32,10014,2017-03-05,1,234\n",
      "\n",
      "33,10015,2017-03-14,14,615\n",
      "\n",
      "34,10020,2017-04-08,13,215\n",
      "\n",
      "35,10017,2017-04-15,20,216\n",
      "\n",
      "36,10014,2017-04-30,7,519\n",
      "\n",
      "37,10001,2017-04-19,6,721\n",
      "\n",
      "38,10002,2017-03-12,17,99\n",
      "\n",
      "39,10006,2017-03-25,16,676\n",
      "\n",
      "40,10012,2017-03-29,13,202\n",
      "\n",
      "41,10010,2017-03-03,6,327\n",
      "\n",
      "42,10005,2017-04-16,19,439\n",
      "\n",
      "43,10001,2017-03-13,9,572\n",
      "\n",
      "44,10018,2017-04-04,5,235\n",
      "\n",
      "45,10002,2017-04-19,8,887\n",
      "\n",
      "46,10020,2017-03-17,2,884\n",
      "\n",
      "47,10011,2017-04-20,12,642\n",
      "\n",
      "48,10012,2017-04-23,9,278\n",
      "\n",
      "49,10014,2017-03-12,19,278\n",
      "\n",
      "50,10009,2017-03-01,10,70\n",
      "\n",
      "51,10005,2017-04-16,7,144\n",
      "\n",
      "52,10018,2017-04-19,4,55\n",
      "\n",
      "53,10016,2017-04-21,3,96\n",
      "\n",
      "54,10015,2017-04-21,6,903\n",
      "\n",
      "55,10012,2017-04-04,13,255\n",
      "\n",
      "56,10009,2017-04-23,7,450\n",
      "\n",
      "57,10007,2017-04-11,20,141\n",
      "\n",
      "58,10008,2017-03-07,20,876\n",
      "\n",
      "59,10012,2017-03-05,15,802\n",
      "\n",
      "60,10020,2017-03-27,14,208\n",
      "\n",
      "61,10006,2017-04-28,13,835\n",
      "\n",
      "62,10013,2017-03-13,2,567\n",
      "\n",
      "63,10009,2017-03-27,9,765\n",
      "\n",
      "64,10018,2017-04-29,4,543\n",
      "\n",
      "65,10006,2017-04-30,16,645\n",
      "\n",
      "66,10005,2017-04-06,12,940\n",
      "\n",
      "67,10013,2017-03-25,7,362\n",
      "\n",
      "68,10016,2017-04-08,5,511\n",
      "\n",
      "69,10002,2017-04-16,9,652\n",
      "\n",
      "70,10008,2017-04-16,16,247\n",
      "\n",
      "71,10002,2017-03-26,4,973\n",
      "\n",
      "72,10019,2017-04-03,11,436\n",
      "\n",
      "73,10017,2017-03-20,11,558\n",
      "\n",
      "74,10012,2017-04-26,13,577\n",
      "\n",
      "75,10006,2017-04-10,2,737\n",
      "\n",
      "76,10009,2017-04-25,6,308\n",
      "\n",
      "77,10019,2017-03-27,6,930\n",
      "\n",
      "78,10010,2017-04-07,17,109\n",
      "\n",
      "79,10018,2017-03-31,17,422\n",
      "\n",
      "80,10014,2017-04-05,5,387\n",
      "\n",
      "81,10012,2017-03-09,3,394\n",
      "\n",
      "82,10020,2017-03-13,3,940\n",
      "\n",
      "83,10006,2017-03-03,8,479\n",
      "\n",
      "84,10018,2017-04-07,10,242\n",
      "\n",
      "85,10003,2017-03-24,19,924\n",
      "\n",
      "86,10013,2017-04-22,17,829\n",
      "\n",
      "87,10011,2017-03-23,8,772\n",
      "\n",
      "88,10006,2017-03-22,11,735\n",
      "\n",
      "89,10013,2017-04-02,5,151\n",
      "\n",
      "90,10012,2017-03-28,14,624\n",
      "\n",
      "91,10018,2017-03-06,11,669\n",
      "\n",
      "92,10008,2017-04-18,17,847\n",
      "\n",
      "93,10019,2017-04-14,12,310\n",
      "\n",
      "94,10016,2017-03-15,7,688\n",
      "\n",
      "95,10018,2017-03-09,15,705\n",
      "\n",
      "96,10002,2017-04-24,9,212\n",
      "\n",
      "97,10008,2017-03-13,19,369\n",
      "\n",
      "98,10014,2017-03-03,9,391\n",
      "\n",
      "99,10016,2017-04-13,14,651\n",
      "\n",
      "100,10003,2017-03-31,17,815\n",
      "\n"
     ]
    }
   ],
   "source": [
    "g = open('transaction_data_v2.txt','r')\n",
    "for lines in g:\n",
    "    print(lines)"
   ]
  },
  {
   "cell_type": "code",
   "execution_count": 204,
   "metadata": {},
   "outputs": [
    {
     "data": {
      "text/html": [
       "<div>\n",
       "<style>\n",
       "    .dataframe thead tr:only-child th {\n",
       "        text-align: right;\n",
       "    }\n",
       "\n",
       "    .dataframe thead th {\n",
       "        text-align: left;\n",
       "    }\n",
       "\n",
       "    .dataframe tbody tr th {\n",
       "        vertical-align: top;\n",
       "    }\n",
       "</style>\n",
       "<table border=\"1\" class=\"dataframe\">\n",
       "  <thead>\n",
       "    <tr style=\"text-align: right;\">\n",
       "      <th></th>\n",
       "      <th>member_id</th>\n",
       "      <th>date</th>\n",
       "      <th>amount</th>\n",
       "      <th>payment</th>\n",
       "    </tr>\n",
       "    <tr>\n",
       "      <th>transaction_id</th>\n",
       "      <th></th>\n",
       "      <th></th>\n",
       "      <th></th>\n",
       "      <th></th>\n",
       "    </tr>\n",
       "  </thead>\n",
       "  <tbody>\n",
       "    <tr>\n",
       "      <th>1</th>\n",
       "      <td>10004</td>\n",
       "      <td>2017-03-12</td>\n",
       "      <td>14</td>\n",
       "      <td>552</td>\n",
       "    </tr>\n",
       "    <tr>\n",
       "      <th>2</th>\n",
       "      <td>10004</td>\n",
       "      <td>2017-04-09</td>\n",
       "      <td>7</td>\n",
       "      <td>608</td>\n",
       "    </tr>\n",
       "    <tr>\n",
       "      <th>3</th>\n",
       "      <td>10007</td>\n",
       "      <td>2017-04-27</td>\n",
       "      <td>17</td>\n",
       "      <td>89</td>\n",
       "    </tr>\n",
       "    <tr>\n",
       "      <th>4</th>\n",
       "      <td>10008</td>\n",
       "      <td>2017-04-24</td>\n",
       "      <td>8</td>\n",
       "      <td>602</td>\n",
       "    </tr>\n",
       "    <tr>\n",
       "      <th>5</th>\n",
       "      <td>10011</td>\n",
       "      <td>2017-03-09</td>\n",
       "      <td>11</td>\n",
       "      <td>275</td>\n",
       "    </tr>\n",
       "  </tbody>\n",
       "</table>\n",
       "</div>"
      ],
      "text/plain": [
       "                member_id        date  amount  payment\n",
       "transaction_id                                        \n",
       "1                   10004  2017-03-12      14      552\n",
       "2                   10004  2017-04-09       7      608\n",
       "3                   10007  2017-04-27      17       89\n",
       "4                   10008  2017-04-24       8      602\n",
       "5                   10011  2017-03-09      11      275"
      ]
     },
     "execution_count": 204,
     "metadata": {},
     "output_type": "execute_result"
    }
   ],
   "source": [
    "df = pd.read_csv('transaction_data_v2.txt', index_col=0)\n",
    "df.head()"
   ]
  },
  {
   "cell_type": "code",
   "execution_count": 69,
   "metadata": {},
   "outputs": [
    {
     "name": "stdout",
     "output_type": "stream",
     "text": [
      "2013-01-03 00:00:00 2\n"
     ]
    }
   ],
   "source": [
    "dates = pd.date_range('20130101', periods=6)\n",
    "i=random.randint(0,len(dates)-1)\n"
   ]
  },
  {
   "cell_type": "code",
   "execution_count": 73,
   "metadata": {},
   "outputs": [
    {
     "ename": "NameError",
     "evalue": "name 'datediff' is not defined",
     "output_type": "error",
     "traceback": [
      "\u001b[1;31m---------------------------------------------------------------------------\u001b[0m",
      "\u001b[1;31mNameError\u001b[0m                                 Traceback (most recent call last)",
      "\u001b[1;32m<ipython-input-73-164ca3cab252>\u001b[0m in \u001b[0;36m<module>\u001b[1;34m()\u001b[0m\n\u001b[0;32m      1\u001b[0m \u001b[0md1\u001b[0m\u001b[1;33m=\u001b[0m\u001b[0mdates\u001b[0m\u001b[1;33m[\u001b[0m\u001b[1;36m0\u001b[0m\u001b[1;33m]\u001b[0m\u001b[1;33m\u001b[0m\u001b[0m\n\u001b[0;32m      2\u001b[0m \u001b[0md3\u001b[0m\u001b[1;33m=\u001b[0m\u001b[0mdates\u001b[0m\u001b[1;33m[\u001b[0m\u001b[1;36m2\u001b[0m\u001b[1;33m]\u001b[0m\u001b[1;33m\u001b[0m\u001b[0m\n\u001b[1;32m----> 3\u001b[1;33m \u001b[0mdatediff\u001b[0m\u001b[1;33m(\u001b[0m\u001b[0md3\u001b[0m\u001b[1;33m,\u001b[0m\u001b[0md1\u001b[0m\u001b[1;33m)\u001b[0m\u001b[1;33m\u001b[0m\u001b[0m\n\u001b[0m",
      "\u001b[1;31mNameError\u001b[0m: name 'datediff' is not defined"
     ]
    }
   ],
   "source": [
    "d1=dates[0]\n",
    "d3=dates[2]"
   ]
  },
  {
   "cell_type": "code",
   "execution_count": 74,
   "metadata": {},
   "outputs": [
    {
     "data": {
      "text/html": [
       "<div>\n",
       "<style>\n",
       "    .dataframe thead tr:only-child th {\n",
       "        text-align: right;\n",
       "    }\n",
       "\n",
       "    .dataframe thead th {\n",
       "        text-align: left;\n",
       "    }\n",
       "\n",
       "    .dataframe tbody tr th {\n",
       "        vertical-align: top;\n",
       "    }\n",
       "</style>\n",
       "<table border=\"1\" class=\"dataframe\">\n",
       "  <thead>\n",
       "    <tr style=\"text-align: right;\">\n",
       "      <th></th>\n",
       "      <th>member_id</th>\n",
       "      <th>date</th>\n",
       "      <th>amount</th>\n",
       "      <th>payment</th>\n",
       "    </tr>\n",
       "    <tr>\n",
       "      <th>transaction_id</th>\n",
       "      <th></th>\n",
       "      <th></th>\n",
       "      <th></th>\n",
       "      <th></th>\n",
       "    </tr>\n",
       "  </thead>\n",
       "  <tbody>\n",
       "    <tr>\n",
       "      <th>1</th>\n",
       "      <td>10004</td>\n",
       "      <td>2017-03-12</td>\n",
       "      <td>14</td>\n",
       "      <td>552</td>\n",
       "    </tr>\n",
       "    <tr>\n",
       "      <th>2</th>\n",
       "      <td>10004</td>\n",
       "      <td>2017-04-09</td>\n",
       "      <td>7</td>\n",
       "      <td>608</td>\n",
       "    </tr>\n",
       "    <tr>\n",
       "      <th>3</th>\n",
       "      <td>10007</td>\n",
       "      <td>2017-04-27</td>\n",
       "      <td>17</td>\n",
       "      <td>89</td>\n",
       "    </tr>\n",
       "    <tr>\n",
       "      <th>4</th>\n",
       "      <td>10008</td>\n",
       "      <td>2017-04-24</td>\n",
       "      <td>8</td>\n",
       "      <td>602</td>\n",
       "    </tr>\n",
       "    <tr>\n",
       "      <th>5</th>\n",
       "      <td>10011</td>\n",
       "      <td>2017-03-09</td>\n",
       "      <td>11</td>\n",
       "      <td>275</td>\n",
       "    </tr>\n",
       "  </tbody>\n",
       "</table>\n",
       "</div>"
      ],
      "text/plain": [
       "                member_id        date  amount  payment\n",
       "transaction_id                                        \n",
       "1                   10004  2017-03-12      14      552\n",
       "2                   10004  2017-04-09       7      608\n",
       "3                   10007  2017-04-27      17       89\n",
       "4                   10008  2017-04-24       8      602\n",
       "5                   10011  2017-03-09      11      275"
      ]
     },
     "execution_count": 74,
     "metadata": {},
     "output_type": "execute_result"
    }
   ],
   "source": [
    "df.head()"
   ]
  },
  {
   "cell_type": "code",
   "execution_count": 76,
   "metadata": {},
   "outputs": [
    {
     "data": {
      "text/plain": [
       "Index(['member_id', 'date', 'amount', 'payment'], dtype='object')"
      ]
     },
     "execution_count": 76,
     "metadata": {},
     "output_type": "execute_result"
    }
   ],
   "source": [
    "df.columns"
   ]
  },
  {
   "cell_type": "code",
   "execution_count": 79,
   "metadata": {},
   "outputs": [
    {
     "data": {
      "text/plain": [
       "array([10004, 10004, 10007, 10008, 10011, 10016, 10014, 10012, 10002,\n",
       "       10005, 10020, 10020, 10013, 10005, 10014, 10015, 10014, 10019,\n",
       "       10007, 10017, 10006, 10011, 10004, 10001, 10002, 10005, 10012,\n",
       "       10007, 10003, 10004, 10013, 10014, 10015, 10020, 10017, 10014,\n",
       "       10001, 10002, 10006, 10012, 10010, 10005, 10001, 10018, 10002,\n",
       "       10020, 10011, 10012, 10014, 10009, 10005, 10018, 10016, 10015,\n",
       "       10012, 10009, 10007, 10008, 10012, 10020, 10006, 10013, 10009,\n",
       "       10018, 10006, 10005, 10013, 10016, 10002, 10008, 10002, 10019,\n",
       "       10017, 10012, 10006, 10009, 10019, 10010, 10018, 10014, 10012,\n",
       "       10020, 10006, 10018, 10003, 10013, 10011, 10006, 10013, 10012,\n",
       "       10018, 10008, 10019, 10016, 10018, 10002, 10008, 10014, 10016, 10003], dtype=int64)"
      ]
     },
     "execution_count": 79,
     "metadata": {},
     "output_type": "execute_result"
    }
   ],
   "source": [
    "df.member_id.values"
   ]
  },
  {
   "cell_type": "code",
   "execution_count": 84,
   "metadata": {},
   "outputs": [
    {
     "name": "stdout",
     "output_type": "stream",
     "text": [
      "\n",
      "正在 Ping www.a.shifen.com [115.239.211.112] 具有 32 字节的数据:\n",
      "来自 115.239.211.112 的回复: 字节=32 时间=15ms TTL=54\n",
      "来自 115.239.211.112 的回复: 字节=32 时间=15ms TTL=54\n",
      "来自 115.239.211.112 的回复: 字节=32 时间=15ms TTL=54\n",
      "来自 115.239.211.112 的回复: 字节=32 时间=15ms TTL=54\n",
      "\n",
      "115.239.211.112 的 Ping 统计信息:\n",
      "    数据包: 已发送 = 4，已接收 = 4，丢失 = 0 (0% 丢失)，\n",
      "往返行程的估计时间(以毫秒为单位):\n",
      "    最短 = 15ms，最长 = 15ms，平均 = 15ms\n"
     ]
    }
   ],
   "source": [
    "!ping www.baidu.com"
   ]
  },
  {
   "cell_type": "code",
   "execution_count": 85,
   "metadata": {},
   "outputs": [
    {
     "name": "stdout",
     "output_type": "stream",
     "text": [
      " 驱动器 C 中的卷没有标签。\n",
      " 卷的序列号是 D620-CD7D\n",
      "\n",
      " C:\\Users\\Black\\Python Script 的目录\n",
      "\n",
      "2018/01/05  01:19               786  django.ipynb\n",
      "2018/02/15  00:39    <DIR>          .\n",
      "2018/02/15  00:39    <DIR>          ..\n",
      "2018/02/14  22:27    <DIR>          .ipynb_checkpoints\n",
      "2018/01/07  02:17    <DIR>          __pycache__\n",
      "2017/12/31  03:28             7,358 171231.ipynb\n",
      "2018/01/02  00:20            69,238 180101.ipynb\n",
      "2018/01/03  00:54             3,298 180102.ipynb\n",
      "2018/01/05  01:07             4,754 180104.ipynb\n",
      "2018/01/07  03:08             7,566 180106.ipynb\n",
      "2018/01/15  01:23           132,747 180114.ipynb\n",
      "2018/02/15  00:39            17,347 DataFrame研究.ipynb\n",
      "2018/01/02  09:45    <DIR>          HDFS download\n",
      "2018/01/21  23:13    <DIR>          history\n",
      "2018/01/02  09:46    <DIR>          kennethreitz-requests-ddf7df9\n",
      "2018/01/01  00:37             1,140 list&set.ipynb\n",
      "2018/01/02  09:46    <DIR>          Pillow-3.3.1\n",
      "2018/02/15  00:36             1,882 study plan.ipynb\n",
      "2018/02/15  00:07             2,787 transaction_data_v2.txt\n",
      "2018/01/15  23:45             2,509 transaction_demo\n",
      "2018/02/14  22:23           128,034 transaction_interval_calculate.ipynb\n",
      "              13 个文件        379,446 字节\n",
      "               8 个目录  8,449,306,624 可用字节\n"
     ]
    }
   ],
   "source": [
    "%ls"
   ]
  },
  {
   "cell_type": "code",
   "execution_count": 86,
   "metadata": {},
   "outputs": [
    {
     "data": {
      "application/json": {
       "cell": {
        "!": "OSMagics",
        "HTML": "Other",
        "SVG": "Other",
        "bash": "Other",
        "capture": "ExecutionMagics",
        "cmd": "Other",
        "debug": "ExecutionMagics",
        "file": "Other",
        "html": "DisplayMagics",
        "javascript": "DisplayMagics",
        "js": "DisplayMagics",
        "latex": "DisplayMagics",
        "markdown": "DisplayMagics",
        "perl": "Other",
        "prun": "ExecutionMagics",
        "pypy": "Other",
        "python": "Other",
        "python2": "Other",
        "python3": "Other",
        "ruby": "Other",
        "script": "ScriptMagics",
        "sh": "Other",
        "svg": "DisplayMagics",
        "sx": "OSMagics",
        "system": "OSMagics",
        "time": "ExecutionMagics",
        "timeit": "ExecutionMagics",
        "writefile": "OSMagics"
       },
       "line": {
        "alias": "OSMagics",
        "alias_magic": "BasicMagics",
        "autocall": "AutoMagics",
        "automagic": "AutoMagics",
        "autosave": "KernelMagics",
        "bookmark": "OSMagics",
        "cd": "OSMagics",
        "clear": "KernelMagics",
        "cls": "KernelMagics",
        "colors": "BasicMagics",
        "config": "ConfigMagics",
        "connect_info": "KernelMagics",
        "copy": "Other",
        "ddir": "Other",
        "debug": "ExecutionMagics",
        "dhist": "OSMagics",
        "dirs": "OSMagics",
        "doctest_mode": "BasicMagics",
        "echo": "Other",
        "ed": "Other",
        "edit": "KernelMagics",
        "env": "OSMagics",
        "gui": "BasicMagics",
        "hist": "Other",
        "history": "HistoryMagics",
        "killbgscripts": "ScriptMagics",
        "ldir": "Other",
        "less": "KernelMagics",
        "load": "CodeMagics",
        "load_ext": "ExtensionMagics",
        "loadpy": "CodeMagics",
        "logoff": "LoggingMagics",
        "logon": "LoggingMagics",
        "logstart": "LoggingMagics",
        "logstate": "LoggingMagics",
        "logstop": "LoggingMagics",
        "ls": "Other",
        "lsmagic": "BasicMagics",
        "macro": "ExecutionMagics",
        "magic": "BasicMagics",
        "matplotlib": "PylabMagics",
        "mkdir": "Other",
        "more": "KernelMagics",
        "notebook": "BasicMagics",
        "page": "BasicMagics",
        "pastebin": "CodeMagics",
        "pdb": "ExecutionMagics",
        "pdef": "NamespaceMagics",
        "pdoc": "NamespaceMagics",
        "pfile": "NamespaceMagics",
        "pinfo": "NamespaceMagics",
        "pinfo2": "NamespaceMagics",
        "pip": "BasicMagics",
        "popd": "OSMagics",
        "pprint": "BasicMagics",
        "precision": "BasicMagics",
        "profile": "BasicMagics",
        "prun": "ExecutionMagics",
        "psearch": "NamespaceMagics",
        "psource": "NamespaceMagics",
        "pushd": "OSMagics",
        "pwd": "OSMagics",
        "pycat": "OSMagics",
        "pylab": "PylabMagics",
        "qtconsole": "KernelMagics",
        "quickref": "BasicMagics",
        "recall": "HistoryMagics",
        "rehashx": "OSMagics",
        "reload_ext": "ExtensionMagics",
        "ren": "Other",
        "rep": "Other",
        "rerun": "HistoryMagics",
        "reset": "NamespaceMagics",
        "reset_selective": "NamespaceMagics",
        "rmdir": "Other",
        "run": "ExecutionMagics",
        "save": "CodeMagics",
        "sc": "OSMagics",
        "set_env": "OSMagics",
        "store": "StoreMagics",
        "sx": "OSMagics",
        "system": "OSMagics",
        "tb": "ExecutionMagics",
        "time": "ExecutionMagics",
        "timeit": "ExecutionMagics",
        "unalias": "OSMagics",
        "unload_ext": "ExtensionMagics",
        "who": "NamespaceMagics",
        "who_ls": "NamespaceMagics",
        "whos": "NamespaceMagics",
        "xdel": "NamespaceMagics",
        "xmode": "BasicMagics"
       }
      },
      "text/plain": [
       "Available line magics:\n",
       "%alias  %alias_magic  %autocall  %automagic  %autosave  %bookmark  %cd  %clear  %cls  %colors  %config  %connect_info  %copy  %ddir  %debug  %dhist  %dirs  %doctest_mode  %echo  %ed  %edit  %env  %gui  %hist  %history  %killbgscripts  %ldir  %less  %load  %load_ext  %loadpy  %logoff  %logon  %logstart  %logstate  %logstop  %ls  %lsmagic  %macro  %magic  %matplotlib  %mkdir  %more  %notebook  %page  %pastebin  %pdb  %pdef  %pdoc  %pfile  %pinfo  %pinfo2  %popd  %pprint  %precision  %profile  %prun  %psearch  %psource  %pushd  %pwd  %pycat  %pylab  %qtconsole  %quickref  %recall  %rehashx  %reload_ext  %ren  %rep  %rerun  %reset  %reset_selective  %rmdir  %run  %save  %sc  %set_env  %store  %sx  %system  %tb  %time  %timeit  %unalias  %unload_ext  %who  %who_ls  %whos  %xdel  %xmode\n",
       "\n",
       "Available cell magics:\n",
       "%%!  %%HTML  %%SVG  %%bash  %%capture  %%cmd  %%debug  %%file  %%html  %%javascript  %%js  %%latex  %%markdown  %%perl  %%prun  %%pypy  %%python  %%python2  %%python3  %%ruby  %%script  %%sh  %%svg  %%sx  %%system  %%time  %%timeit  %%writefile\n",
       "\n",
       "Automagic is ON, % prefix IS NOT needed for line magics."
      ]
     },
     "execution_count": 86,
     "metadata": {},
     "output_type": "execute_result"
    }
   ],
   "source": [
    "%lsmagic"
   ]
  },
  {
   "cell_type": "code",
   "execution_count": 94,
   "metadata": {
    "collapsed": true
   },
   "outputs": [],
   "source": [
    "%pycat transaction_data_v2.txt"
   ]
  },
  {
   "cell_type": "code",
   "execution_count": 92,
   "metadata": {},
   "outputs": [
    {
     "name": "stdout",
     "output_type": "stream",
     "text": [
      " 驱动器 C 中的卷没有标签。\n",
      " 卷的序列号是 D620-CD7D\n",
      "\n",
      " C:\\Users\\Black\\Python Script 的目录\n",
      "\n",
      "2018/02/15  00:41    <DIR>          .\n",
      "2018/02/15  00:41    <DIR>          ..\n",
      "2018/01/05  01:19               786  django.ipynb\n",
      "2018/02/14  22:27    <DIR>          .ipynb_checkpoints\n",
      "2017/12/31  03:28             7,358 171231.ipynb\n",
      "2018/01/02  00:20            69,238 180101.ipynb\n",
      "2018/01/03  00:54             3,298 180102.ipynb\n",
      "2018/01/05  01:07             4,754 180104.ipynb\n",
      "2018/01/07  03:08             7,566 180106.ipynb\n",
      "2018/01/15  01:23           132,747 180114.ipynb\n",
      "2018/02/15  00:41            27,189 DataFrame研究.ipynb\n",
      "2018/01/02  09:45    <DIR>          HDFS download\n",
      "2018/01/21  23:13    <DIR>          history\n",
      "2018/01/02  09:46    <DIR>          kennethreitz-requests-ddf7df9\n",
      "2018/01/01  00:37             1,140 list&set.ipynb\n",
      "2018/01/02  09:46    <DIR>          Pillow-3.3.1\n",
      "2018/02/15  00:36             1,882 study plan.ipynb\n",
      "2018/02/15  00:07             2,787 transaction_data_v2.txt\n",
      "2018/01/15  23:45             2,509 transaction_demo\n",
      "2018/02/14  22:23           128,034 transaction_interval_calculate.ipynb\n",
      "2018/01/07  02:17    <DIR>          __pycache__\n",
      "              13 个文件        389,288 字节\n",
      "               8 个目录  8,449,855,488 可用字节\n"
     ]
    }
   ],
   "source": [
    "!dir"
   ]
  },
  {
   "cell_type": "code",
   "execution_count": 98,
   "metadata": {
    "scrolled": true
   },
   "outputs": [
    {
     "name": "stdout",
     "output_type": "stream",
     "text": [
      "10004\n",
      "10004\n",
      "10007\n",
      "10008\n",
      "10011\n",
      "10016\n",
      "10014\n",
      "10012\n",
      "10002\n",
      "10005\n",
      "10020\n",
      "10020\n",
      "10013\n",
      "10005\n",
      "10014\n",
      "10015\n",
      "10014\n",
      "10019\n",
      "10007\n",
      "10017\n",
      "10006\n",
      "10011\n",
      "10004\n",
      "10001\n",
      "10002\n",
      "10005\n",
      "10012\n",
      "10007\n",
      "10003\n",
      "10004\n",
      "10013\n",
      "10014\n",
      "10015\n",
      "10020\n",
      "10017\n",
      "10014\n",
      "10001\n",
      "10002\n",
      "10006\n",
      "10012\n",
      "10010\n",
      "10005\n",
      "10001\n",
      "10018\n",
      "10002\n",
      "10020\n",
      "10011\n",
      "10012\n",
      "10014\n",
      "10009\n",
      "10005\n",
      "10018\n",
      "10016\n",
      "10015\n",
      "10012\n",
      "10009\n",
      "10007\n",
      "10008\n",
      "10012\n",
      "10020\n",
      "10006\n",
      "10013\n",
      "10009\n",
      "10018\n",
      "10006\n",
      "10005\n",
      "10013\n",
      "10016\n",
      "10002\n",
      "10008\n",
      "10002\n",
      "10019\n",
      "10017\n",
      "10012\n",
      "10006\n",
      "10009\n",
      "10019\n",
      "10010\n",
      "10018\n",
      "10014\n",
      "10012\n",
      "10020\n",
      "10006\n",
      "10018\n",
      "10003\n",
      "10013\n",
      "10011\n",
      "10006\n",
      "10013\n",
      "10012\n",
      "10018\n",
      "10008\n",
      "10019\n",
      "10016\n",
      "10018\n",
      "10002\n",
      "10008\n",
      "10014\n",
      "10016\n",
      "10003\n"
     ]
    }
   ],
   "source": [
    "for x in df.member_id:\n",
    "    print(x)"
   ]
  },
  {
   "cell_type": "code",
   "execution_count": 125,
   "metadata": {},
   "outputs": [
    {
     "data": {
      "text/html": [
       "<div>\n",
       "<style>\n",
       "    .dataframe thead tr:only-child th {\n",
       "        text-align: right;\n",
       "    }\n",
       "\n",
       "    .dataframe thead th {\n",
       "        text-align: left;\n",
       "    }\n",
       "\n",
       "    .dataframe tbody tr th {\n",
       "        vertical-align: top;\n",
       "    }\n",
       "</style>\n",
       "<table border=\"1\" class=\"dataframe\">\n",
       "  <thead>\n",
       "    <tr style=\"text-align: right;\">\n",
       "      <th></th>\n",
       "      <th>member_id</th>\n",
       "      <th>date</th>\n",
       "      <th>amount</th>\n",
       "      <th>payment</th>\n",
       "    </tr>\n",
       "    <tr>\n",
       "      <th>transaction_id</th>\n",
       "      <th></th>\n",
       "      <th></th>\n",
       "      <th></th>\n",
       "      <th></th>\n",
       "    </tr>\n",
       "  </thead>\n",
       "  <tbody>\n",
       "    <tr>\n",
       "      <th>2</th>\n",
       "      <td>10004</td>\n",
       "      <td>2017-04-09</td>\n",
       "      <td>7</td>\n",
       "      <td>608</td>\n",
       "    </tr>\n",
       "    <tr>\n",
       "      <th>3</th>\n",
       "      <td>10007</td>\n",
       "      <td>2017-04-27</td>\n",
       "      <td>17</td>\n",
       "      <td>89</td>\n",
       "    </tr>\n",
       "  </tbody>\n",
       "</table>\n",
       "</div>"
      ],
      "text/plain": [
       "                member_id        date  amount  payment\n",
       "transaction_id                                        \n",
       "2                   10004  2017-04-09       7      608\n",
       "3                   10007  2017-04-27      17       89"
      ]
     },
     "execution_count": 125,
     "metadata": {},
     "output_type": "execute_result"
    }
   ],
   "source": [
    "df.loc[2:3]"
   ]
  },
  {
   "cell_type": "code",
   "execution_count": 127,
   "metadata": {},
   "outputs": [
    {
     "data": {
      "text/html": [
       "<div>\n",
       "<style>\n",
       "    .dataframe thead tr:only-child th {\n",
       "        text-align: right;\n",
       "    }\n",
       "\n",
       "    .dataframe thead th {\n",
       "        text-align: left;\n",
       "    }\n",
       "\n",
       "    .dataframe tbody tr th {\n",
       "        vertical-align: top;\n",
       "    }\n",
       "</style>\n",
       "<table border=\"1\" class=\"dataframe\">\n",
       "  <thead>\n",
       "    <tr style=\"text-align: right;\">\n",
       "      <th></th>\n",
       "      <th>member_id</th>\n",
       "      <th>date</th>\n",
       "    </tr>\n",
       "    <tr>\n",
       "      <th>transaction_id</th>\n",
       "      <th></th>\n",
       "      <th></th>\n",
       "    </tr>\n",
       "  </thead>\n",
       "  <tbody>\n",
       "    <tr>\n",
       "      <th>2</th>\n",
       "      <td>10004</td>\n",
       "      <td>2017-04-09</td>\n",
       "    </tr>\n",
       "    <tr>\n",
       "      <th>3</th>\n",
       "      <td>10007</td>\n",
       "      <td>2017-04-27</td>\n",
       "    </tr>\n",
       "  </tbody>\n",
       "</table>\n",
       "</div>"
      ],
      "text/plain": [
       "                member_id        date\n",
       "transaction_id                       \n",
       "2                   10004  2017-04-09\n",
       "3                   10007  2017-04-27"
      ]
     },
     "execution_count": 127,
     "metadata": {},
     "output_type": "execute_result"
    }
   ],
   "source": [
    "df.loc[2:3,['member_id','date']]"
   ]
  },
  {
   "cell_type": "code",
   "execution_count": 133,
   "metadata": {},
   "outputs": [
    {
     "data": {
      "text/plain": [
       "member_id         10004\n",
       "date         2017-04-09\n",
       "Name: 2, dtype: object"
      ]
     },
     "execution_count": 133,
     "metadata": {},
     "output_type": "execute_result"
    }
   ],
   "source": [
    "df.loc[2,['member_id','date']]"
   ]
  },
  {
   "cell_type": "code",
   "execution_count": 141,
   "metadata": {},
   "outputs": [
    {
     "data": {
      "text/html": [
       "<div>\n",
       "<style>\n",
       "    .dataframe thead tr:only-child th {\n",
       "        text-align: right;\n",
       "    }\n",
       "\n",
       "    .dataframe thead th {\n",
       "        text-align: left;\n",
       "    }\n",
       "\n",
       "    .dataframe tbody tr th {\n",
       "        vertical-align: top;\n",
       "    }\n",
       "</style>\n",
       "<table border=\"1\" class=\"dataframe\">\n",
       "  <thead>\n",
       "    <tr style=\"text-align: right;\">\n",
       "      <th></th>\n",
       "      <th>a</th>\n",
       "      <th>b</th>\n",
       "      <th>c</th>\n",
       "    </tr>\n",
       "  </thead>\n",
       "  <tbody>\n",
       "    <tr>\n",
       "      <th>d</th>\n",
       "      <td>1</td>\n",
       "      <td>2</td>\n",
       "      <td>3</td>\n",
       "    </tr>\n",
       "    <tr>\n",
       "      <th>e</th>\n",
       "      <td>4</td>\n",
       "      <td>5</td>\n",
       "      <td>6</td>\n",
       "    </tr>\n",
       "  </tbody>\n",
       "</table>\n",
       "</div>"
      ],
      "text/plain": [
       "   a  b  c\n",
       "d  1  2  3\n",
       "e  4  5  6"
      ]
     },
     "execution_count": 141,
     "metadata": {},
     "output_type": "execute_result"
    }
   ],
   "source": [
    "data = [[1,2,3],[4,5,6]]    \n",
    "index = ['d','e']    \n",
    "columns=['a','b','c']    \n",
    "dg = pd.DataFrame(data=data, index=index, columns=columns)   \n",
    "dg"
   ]
  },
  {
   "cell_type": "code",
   "execution_count": 142,
   "metadata": {},
   "outputs": [
    {
     "data": {
      "text/plain": [
       "a    1\n",
       "b    2\n",
       "c    3\n",
       "Name: d, dtype: int64"
      ]
     },
     "execution_count": 142,
     "metadata": {},
     "output_type": "execute_result"
    }
   ],
   "source": [
    "dg.loc['d']"
   ]
  },
  {
   "cell_type": "code",
   "execution_count": 146,
   "metadata": {},
   "outputs": [
    {
     "data": {
      "text/plain": [
       "a    1\n",
       "b    2\n",
       "c    3\n",
       "Name: d, dtype: int64"
      ]
     },
     "execution_count": 146,
     "metadata": {},
     "output_type": "execute_result"
    }
   ],
   "source": [
    "dg.iloc[0]"
   ]
  },
  {
   "cell_type": "code",
   "execution_count": 149,
   "metadata": {},
   "outputs": [
    {
     "data": {
      "text/plain": [
       "member_id\n",
       "10001    2017-03-13\n",
       "10002    2017-03-12\n",
       "10003    2017-03-04\n",
       "10004    2017-03-06\n",
       "10005    2017-03-10\n",
       "10006    2017-03-03\n",
       "10007    2017-03-02\n",
       "10008    2017-03-07\n",
       "10009    2017-03-01\n",
       "10010    2017-03-03\n",
       "10011    2017-03-09\n",
       "10012    2017-03-05\n",
       "10013    2017-03-13\n",
       "10014    2017-03-03\n",
       "10015    2017-03-14\n",
       "10016    2017-03-15\n",
       "10017    2017-03-20\n",
       "10018    2017-03-06\n",
       "10019    2017-03-27\n",
       "10020    2017-03-07\n",
       "Name: date, dtype: object"
      ]
     },
     "execution_count": 149,
     "metadata": {},
     "output_type": "execute_result"
    }
   ],
   "source": [
    "df.groupby('member_id').date.min()"
   ]
  },
  {
   "cell_type": "code",
   "execution_count": 236,
   "metadata": {},
   "outputs": [
    {
     "data": {
      "text/plain": [
       "member_id\n",
       "10001    2017-03-13\n",
       "10002    2017-03-12\n",
       "10003    2017-03-04\n",
       "10004    2017-03-06\n",
       "10005    2017-03-10\n",
       "10006    2017-03-03\n",
       "10007    2017-03-02\n",
       "10008    2017-03-07\n",
       "10009    2017-03-01\n",
       "10010    2017-03-03\n",
       "10011    2017-03-09\n",
       "10012    2017-03-05\n",
       "10013    2017-03-13\n",
       "10014    2017-03-03\n",
       "10015    2017-03-14\n",
       "10016    2017-03-15\n",
       "10017    2017-03-20\n",
       "10018    2017-03-06\n",
       "10019    2017-03-27\n",
       "10020    2017-03-07\n",
       "Name: date, dtype: object"
      ]
     },
     "execution_count": 236,
     "metadata": {},
     "output_type": "execute_result"
    }
   ],
   "source": [
    "#分用户最初购买时间\n",
    "df2= df.groupby('member_id').date.min()\n",
    "df3=df.groupby('member_id').date.max()\n",
    "df2\n"
   ]
  },
  {
   "cell_type": "code",
   "execution_count": 254,
   "metadata": {
    "scrolled": true
   },
   "outputs": [
    {
     "data": {
      "text/plain": [
       "member_id\n",
       "10001    3\n",
       "10002    7\n",
       "10003    3\n",
       "10004    4\n",
       "10005    6\n",
       "10006    7\n",
       "10007    4\n",
       "10008    5\n",
       "10009    4\n",
       "10010    2\n",
       "10011    4\n",
       "10012    9\n",
       "10013    6\n",
       "10014    8\n",
       "10015    3\n",
       "10016    5\n",
       "10017    3\n",
       "10018    7\n",
       "10019    4\n",
       "10020    6\n",
       "Name: date, dtype: int64"
      ]
     },
     "execution_count": 254,
     "metadata": {},
     "output_type": "execute_result"
    }
   ],
   "source": [
    "#分用户购买次数\n",
    "df4=df.groupby('member_id').date.count()\n",
    "df4"
   ]
  },
  {
   "cell_type": "code",
   "execution_count": 188,
   "metadata": {
    "scrolled": true
   },
   "outputs": [
    {
     "data": {
      "text/plain": [
       "53"
      ]
     },
     "execution_count": 188,
     "metadata": {},
     "output_type": "execute_result"
    }
   ],
   "source": [
    "#distinct计算\n",
    "df.date.nunique()"
   ]
  },
  {
   "cell_type": "code",
   "execution_count": 203,
   "metadata": {},
   "outputs": [
    {
     "name": "stdout",
     "output_type": "stream",
     "text": [
      "Variable         Type             Data/Info\n",
      "-------------------------------------------\n",
      "a                ndarray          6: 6 elems, type `float64`, 48 bytes\n",
      "amount           str              17\n",
      "b                DatetimeIndex    DatetimeIndex(['2012-03-0<...>atetime64[ns]', freq='D')\n",
      "columns          list             n=3\n",
      "d1               Timestamp        2013-01-01 00:00:00\n",
      "d3               Timestamp        2013-01-03 00:00:00\n",
      "data             list             n=2\n",
      "date_2           str              2017-03-31\n",
      "datelist         function         <function datelist at 0x0000000007C76840>\n",
      "dates            DatetimeIndex    DatetimeIndex(['2013-01-0<...>atetime64[ns]', freq='D')\n",
      "datetime         type             <class 'datetime.datetime'>\n",
      "df               DataFrame                        member_id<...>n\\n[100 rows x 4 columns]\n",
      "df2              Series           member_id\\n10001    2017-<...>Name: date, dtype: object\n",
      "df3              Series           member_id\\n10001    2017-<...>Name: date, dtype: object\n",
      "dg               DataFrame           a  b  c\\nd  1  2  3\\ne  4  5  6\n",
      "f                TextIOWrapper    <_io.TextIOWrapper name='<...>ode='w' encoding='cp936'>\n",
      "g                TextIOWrapper    <_io.TextIOWrapper name='<...>ode='r' encoding='cp936'>\n",
      "i                int              2\n",
      "index            list             n=2\n",
      "j                int              30\n",
      "lines            str              100,10003,2017-03-31,17,815\\n\n",
      "member_id        str              10003\n",
      "np               module           <module 'numpy' from 'D:\\<...>ges\\\\numpy\\\\__init__.py'>\n",
      "payment          str              815\n",
      "pd               module           <module 'pandas' from 'D:<...>es\\\\pandas\\\\__init__.py'>\n",
      "random           module           <module 'random' from 'D:<...>aconda3\\\\lib\\\\random.py'>\n",
      "transaction_id   str              100\n",
      "x                int64            10003\n"
     ]
    }
   ],
   "source": [
    "a=np.random.randn(6)\n",
    "b=pd.date_range('3/6/2012 00:00', periods=5, freq='D')\n",
    "%whos"
   ]
  },
  {
   "cell_type": "code",
   "execution_count": 233,
   "metadata": {},
   "outputs": [
    {
     "data": {
      "text/html": [
       "<div>\n",
       "<style>\n",
       "    .dataframe thead tr:only-child th {\n",
       "        text-align: right;\n",
       "    }\n",
       "\n",
       "    .dataframe thead th {\n",
       "        text-align: left;\n",
       "    }\n",
       "\n",
       "    .dataframe tbody tr th {\n",
       "        vertical-align: top;\n",
       "    }\n",
       "</style>\n",
       "<table border=\"1\" class=\"dataframe\">\n",
       "  <thead>\n",
       "    <tr style=\"text-align: right;\">\n",
       "      <th></th>\n",
       "      <th>member_id,</th>\n",
       "      <th>date</th>\n",
       "    </tr>\n",
       "    <tr>\n",
       "      <th>member_id</th>\n",
       "      <th></th>\n",
       "      <th></th>\n",
       "    </tr>\n",
       "  </thead>\n",
       "  <tbody>\n",
       "    <tr>\n",
       "      <th>10001</th>\n",
       "      <td>NaN</td>\n",
       "      <td>2017-03-13</td>\n",
       "    </tr>\n",
       "    <tr>\n",
       "      <th>10002</th>\n",
       "      <td>NaN</td>\n",
       "      <td>2017-03-12</td>\n",
       "    </tr>\n",
       "    <tr>\n",
       "      <th>10003</th>\n",
       "      <td>NaN</td>\n",
       "      <td>2017-03-04</td>\n",
       "    </tr>\n",
       "    <tr>\n",
       "      <th>10004</th>\n",
       "      <td>NaN</td>\n",
       "      <td>2017-03-06</td>\n",
       "    </tr>\n",
       "    <tr>\n",
       "      <th>10005</th>\n",
       "      <td>NaN</td>\n",
       "      <td>2017-03-10</td>\n",
       "    </tr>\n",
       "    <tr>\n",
       "      <th>10006</th>\n",
       "      <td>NaN</td>\n",
       "      <td>2017-03-03</td>\n",
       "    </tr>\n",
       "    <tr>\n",
       "      <th>10007</th>\n",
       "      <td>NaN</td>\n",
       "      <td>2017-03-02</td>\n",
       "    </tr>\n",
       "    <tr>\n",
       "      <th>10008</th>\n",
       "      <td>NaN</td>\n",
       "      <td>2017-03-07</td>\n",
       "    </tr>\n",
       "    <tr>\n",
       "      <th>10009</th>\n",
       "      <td>NaN</td>\n",
       "      <td>2017-03-01</td>\n",
       "    </tr>\n",
       "    <tr>\n",
       "      <th>10010</th>\n",
       "      <td>NaN</td>\n",
       "      <td>2017-03-03</td>\n",
       "    </tr>\n",
       "    <tr>\n",
       "      <th>10011</th>\n",
       "      <td>NaN</td>\n",
       "      <td>2017-03-09</td>\n",
       "    </tr>\n",
       "    <tr>\n",
       "      <th>10012</th>\n",
       "      <td>NaN</td>\n",
       "      <td>2017-03-05</td>\n",
       "    </tr>\n",
       "    <tr>\n",
       "      <th>10013</th>\n",
       "      <td>NaN</td>\n",
       "      <td>2017-03-13</td>\n",
       "    </tr>\n",
       "    <tr>\n",
       "      <th>10014</th>\n",
       "      <td>NaN</td>\n",
       "      <td>2017-03-03</td>\n",
       "    </tr>\n",
       "    <tr>\n",
       "      <th>10015</th>\n",
       "      <td>NaN</td>\n",
       "      <td>2017-03-14</td>\n",
       "    </tr>\n",
       "    <tr>\n",
       "      <th>10016</th>\n",
       "      <td>NaN</td>\n",
       "      <td>2017-03-15</td>\n",
       "    </tr>\n",
       "    <tr>\n",
       "      <th>10017</th>\n",
       "      <td>NaN</td>\n",
       "      <td>2017-03-20</td>\n",
       "    </tr>\n",
       "    <tr>\n",
       "      <th>10018</th>\n",
       "      <td>NaN</td>\n",
       "      <td>2017-03-06</td>\n",
       "    </tr>\n",
       "    <tr>\n",
       "      <th>10019</th>\n",
       "      <td>NaN</td>\n",
       "      <td>2017-03-27</td>\n",
       "    </tr>\n",
       "    <tr>\n",
       "      <th>10020</th>\n",
       "      <td>NaN</td>\n",
       "      <td>2017-03-07</td>\n",
       "    </tr>\n",
       "  </tbody>\n",
       "</table>\n",
       "</div>"
      ],
      "text/plain": [
       "          member_id,        date\n",
       "member_id                       \n",
       "10001            NaN  2017-03-13\n",
       "10002            NaN  2017-03-12\n",
       "10003            NaN  2017-03-04\n",
       "10004            NaN  2017-03-06\n",
       "10005            NaN  2017-03-10\n",
       "10006            NaN  2017-03-03\n",
       "10007            NaN  2017-03-02\n",
       "10008            NaN  2017-03-07\n",
       "10009            NaN  2017-03-01\n",
       "10010            NaN  2017-03-03\n",
       "10011            NaN  2017-03-09\n",
       "10012            NaN  2017-03-05\n",
       "10013            NaN  2017-03-13\n",
       "10014            NaN  2017-03-03\n",
       "10015            NaN  2017-03-14\n",
       "10016            NaN  2017-03-15\n",
       "10017            NaN  2017-03-20\n",
       "10018            NaN  2017-03-06\n",
       "10019            NaN  2017-03-27\n",
       "10020            NaN  2017-03-07"
      ]
     },
     "execution_count": 233,
     "metadata": {},
     "output_type": "execute_result"
    }
   ],
   "source": [
    "dg=pd.DataFrame(df2,columns=['member_id,','date'])\n"
   ]
  },
  {
   "cell_type": "code",
   "execution_count": 223,
   "metadata": {},
   "outputs": [
    {
     "data": {
      "text/html": [
       "<div>\n",
       "<style>\n",
       "    .dataframe thead tr:only-child th {\n",
       "        text-align: right;\n",
       "    }\n",
       "\n",
       "    .dataframe thead th {\n",
       "        text-align: left;\n",
       "    }\n",
       "\n",
       "    .dataframe tbody tr th {\n",
       "        vertical-align: top;\n",
       "    }\n",
       "</style>\n",
       "<table border=\"1\" class=\"dataframe\">\n",
       "  <thead>\n",
       "    <tr style=\"text-align: right;\">\n",
       "      <th></th>\n",
       "      <th>max_date</th>\n",
       "    </tr>\n",
       "    <tr>\n",
       "      <th>member_id</th>\n",
       "      <th></th>\n",
       "    </tr>\n",
       "  </thead>\n",
       "  <tbody>\n",
       "    <tr>\n",
       "      <th>10001</th>\n",
       "      <td>2017-04-19</td>\n",
       "    </tr>\n",
       "    <tr>\n",
       "      <th>10002</th>\n",
       "      <td>2017-04-24</td>\n",
       "    </tr>\n",
       "    <tr>\n",
       "      <th>10003</th>\n",
       "      <td>2017-03-31</td>\n",
       "    </tr>\n",
       "    <tr>\n",
       "      <th>10004</th>\n",
       "      <td>2017-04-09</td>\n",
       "    </tr>\n",
       "    <tr>\n",
       "      <th>10005</th>\n",
       "      <td>2017-04-16</td>\n",
       "    </tr>\n",
       "  </tbody>\n",
       "</table>\n",
       "</div>"
      ],
      "text/plain": [
       "             max_date\n",
       "member_id            \n",
       "10001      2017-04-19\n",
       "10002      2017-04-24\n",
       "10003      2017-03-31\n",
       "10004      2017-04-09\n",
       "10005      2017-04-16"
      ]
     },
     "execution_count": 223,
     "metadata": {},
     "output_type": "execute_result"
    }
   ],
   "source": [
    "dg2=pd.DataFrame(df3)\n",
    "dg2.columns=['max_date']\n",
    "dg2.head()"
   ]
  },
  {
   "cell_type": "code",
   "execution_count": 237,
   "metadata": {},
   "outputs": [
    {
     "ename": "ValueError",
     "evalue": "can not merge DataFrame with instance of type <class 'pandas.core.series.Series'>",
     "output_type": "error",
     "traceback": [
      "\u001b[1;31m---------------------------------------------------------------------------\u001b[0m",
      "\u001b[1;31mValueError\u001b[0m                                Traceback (most recent call last)",
      "\u001b[1;32m<ipython-input-237-aa71a208b777>\u001b[0m in \u001b[0;36m<module>\u001b[1;34m()\u001b[0m\n\u001b[1;32m----> 1\u001b[1;33m \u001b[0mdh\u001b[0m\u001b[1;33m=\u001b[0m\u001b[0mpd\u001b[0m\u001b[1;33m.\u001b[0m\u001b[0mmerge\u001b[0m\u001b[1;33m(\u001b[0m\u001b[0mdf2\u001b[0m\u001b[1;33m,\u001b[0m \u001b[0mdf3\u001b[0m\u001b[1;33m,\u001b[0m \u001b[0mon\u001b[0m\u001b[1;33m=\u001b[0m\u001b[1;34m'member_id'\u001b[0m\u001b[1;33m)\u001b[0m\u001b[1;33m\u001b[0m\u001b[0m\n\u001b[0m\u001b[0;32m      2\u001b[0m \u001b[0mdh\u001b[0m\u001b[1;33m\u001b[0m\u001b[0m\n",
      "\u001b[1;32mD:\\Anaconda3\\lib\\site-packages\\pandas\\core\\reshape\\merge.py\u001b[0m in \u001b[0;36mmerge\u001b[1;34m(left, right, how, on, left_on, right_on, left_index, right_index, sort, suffixes, copy, indicator)\u001b[0m\n\u001b[0;32m     51\u001b[0m                          \u001b[0mright_on\u001b[0m\u001b[1;33m=\u001b[0m\u001b[0mright_on\u001b[0m\u001b[1;33m,\u001b[0m \u001b[0mleft_index\u001b[0m\u001b[1;33m=\u001b[0m\u001b[0mleft_index\u001b[0m\u001b[1;33m,\u001b[0m\u001b[1;33m\u001b[0m\u001b[0m\n\u001b[0;32m     52\u001b[0m                          \u001b[0mright_index\u001b[0m\u001b[1;33m=\u001b[0m\u001b[0mright_index\u001b[0m\u001b[1;33m,\u001b[0m \u001b[0msort\u001b[0m\u001b[1;33m=\u001b[0m\u001b[0msort\u001b[0m\u001b[1;33m,\u001b[0m \u001b[0msuffixes\u001b[0m\u001b[1;33m=\u001b[0m\u001b[0msuffixes\u001b[0m\u001b[1;33m,\u001b[0m\u001b[1;33m\u001b[0m\u001b[0m\n\u001b[1;32m---> 53\u001b[1;33m                          copy=copy, indicator=indicator)\n\u001b[0m\u001b[0;32m     54\u001b[0m     \u001b[1;32mreturn\u001b[0m \u001b[0mop\u001b[0m\u001b[1;33m.\u001b[0m\u001b[0mget_result\u001b[0m\u001b[1;33m(\u001b[0m\u001b[1;33m)\u001b[0m\u001b[1;33m\u001b[0m\u001b[0m\n\u001b[0;32m     55\u001b[0m \u001b[1;33m\u001b[0m\u001b[0m\n",
      "\u001b[1;32mD:\\Anaconda3\\lib\\site-packages\\pandas\\core\\reshape\\merge.py\u001b[0m in \u001b[0;36m__init__\u001b[1;34m(self, left, right, how, on, left_on, right_on, axis, left_index, right_index, sort, suffixes, copy, indicator)\u001b[0m\n\u001b[0;32m    529\u001b[0m             raise ValueError(\n\u001b[0;32m    530\u001b[0m                 \u001b[1;34m'can not merge DataFrame with instance of '\u001b[0m\u001b[1;33m\u001b[0m\u001b[0m\n\u001b[1;32m--> 531\u001b[1;33m                 'type {0}'.format(type(left)))\n\u001b[0m\u001b[0;32m    532\u001b[0m         \u001b[1;32mif\u001b[0m \u001b[1;32mnot\u001b[0m \u001b[0misinstance\u001b[0m\u001b[1;33m(\u001b[0m\u001b[0mright\u001b[0m\u001b[1;33m,\u001b[0m \u001b[0mDataFrame\u001b[0m\u001b[1;33m)\u001b[0m\u001b[1;33m:\u001b[0m\u001b[1;33m\u001b[0m\u001b[0m\n\u001b[0;32m    533\u001b[0m             raise ValueError(\n",
      "\u001b[1;31mValueError\u001b[0m: can not merge DataFrame with instance of type <class 'pandas.core.series.Series'>"
     ]
    }
   ],
   "source": [
    "dh=pd.merge(df2, df3, on='member_id')\n",
    "dh"
   ]
  },
  {
   "cell_type": "code",
   "execution_count": 291,
   "metadata": {},
   "outputs": [
    {
     "data": {
      "text/html": [
       "<div>\n",
       "<style>\n",
       "    .dataframe thead tr:only-child th {\n",
       "        text-align: right;\n",
       "    }\n",
       "\n",
       "    .dataframe thead th {\n",
       "        text-align: left;\n",
       "    }\n",
       "\n",
       "    .dataframe tbody tr th {\n",
       "        vertical-align: top;\n",
       "    }\n",
       "</style>\n",
       "<table border=\"1\" class=\"dataframe\">\n",
       "  <thead>\n",
       "    <tr style=\"text-align: right;\">\n",
       "      <th></th>\n",
       "      <th>max_date</th>\n",
       "    </tr>\n",
       "    <tr>\n",
       "      <th>member_id</th>\n",
       "      <th></th>\n",
       "    </tr>\n",
       "  </thead>\n",
       "  <tbody>\n",
       "    <tr>\n",
       "      <th>10001</th>\n",
       "      <td>2017-04-19</td>\n",
       "    </tr>\n",
       "    <tr>\n",
       "      <th>10002</th>\n",
       "      <td>2017-04-24</td>\n",
       "    </tr>\n",
       "    <tr>\n",
       "      <th>10003</th>\n",
       "      <td>2017-03-31</td>\n",
       "    </tr>\n",
       "    <tr>\n",
       "      <th>10004</th>\n",
       "      <td>2017-04-09</td>\n",
       "    </tr>\n",
       "    <tr>\n",
       "      <th>10005</th>\n",
       "      <td>2017-04-16</td>\n",
       "    </tr>\n",
       "  </tbody>\n",
       "</table>\n",
       "</div>"
      ],
      "text/plain": [
       "             max_date\n",
       "member_id            \n",
       "10001      2017-04-19\n",
       "10002      2017-04-24\n",
       "10003      2017-03-31\n",
       "10004      2017-04-09\n",
       "10005      2017-04-16"
      ]
     },
     "execution_count": 291,
     "metadata": {},
     "output_type": "execute_result"
    }
   ],
   "source": [
    "dg2=pd.DataFrame(df3)\n",
    "dg2.columns=['max_date']\n",
    "dg2.head()"
   ]
  },
  {
   "cell_type": "code",
   "execution_count": 297,
   "metadata": {},
   "outputs": [],
   "source": [
    "#将每个用户的最初，最终购买时间，购买次数放到一张表\n",
    "d = {'min_date' : df2,\n",
    "     'max_date' : df3,\n",
    "        'times':df4,}\n",
    "dg = pd.DataFrame(d)\n",
    "dg['std_min_date']=pd.to_datetime(dg.min_date,format='%Y-%m-%d')\n",
    "dg['std_max_date']=pd.to_datetime(dg.max_date,format='%Y-%m-%d')\n",
    "dg['average_interval']=(dg.std_max_date-dg.std_min_date)/(dg.times-1)\n",
    "\n",
    "dg['test2']=dg.times*2"
   ]
  },
  {
   "cell_type": "code",
   "execution_count": 299,
   "metadata": {
    "scrolled": true
   },
   "outputs": [
    {
     "data": {
      "text/html": [
       "<div>\n",
       "<style>\n",
       "    .dataframe thead tr:only-child th {\n",
       "        text-align: right;\n",
       "    }\n",
       "\n",
       "    .dataframe thead th {\n",
       "        text-align: left;\n",
       "    }\n",
       "\n",
       "    .dataframe tbody tr th {\n",
       "        vertical-align: top;\n",
       "    }\n",
       "</style>\n",
       "<table border=\"1\" class=\"dataframe\">\n",
       "  <thead>\n",
       "    <tr style=\"text-align: right;\">\n",
       "      <th></th>\n",
       "      <th>max_date</th>\n",
       "      <th>min_date</th>\n",
       "      <th>times</th>\n",
       "      <th>std_min_date</th>\n",
       "      <th>std_max_date</th>\n",
       "      <th>average_interval</th>\n",
       "      <th>test2</th>\n",
       "    </tr>\n",
       "    <tr>\n",
       "      <th>member_id</th>\n",
       "      <th></th>\n",
       "      <th></th>\n",
       "      <th></th>\n",
       "      <th></th>\n",
       "      <th></th>\n",
       "      <th></th>\n",
       "      <th></th>\n",
       "    </tr>\n",
       "  </thead>\n",
       "  <tbody>\n",
       "    <tr>\n",
       "      <th>10001</th>\n",
       "      <td>2017-04-19</td>\n",
       "      <td>2017-03-13</td>\n",
       "      <td>3</td>\n",
       "      <td>2017-03-13</td>\n",
       "      <td>2017-04-19</td>\n",
       "      <td>18 days 12:00:00</td>\n",
       "      <td>6</td>\n",
       "    </tr>\n",
       "    <tr>\n",
       "      <th>10002</th>\n",
       "      <td>2017-04-24</td>\n",
       "      <td>2017-03-12</td>\n",
       "      <td>7</td>\n",
       "      <td>2017-03-12</td>\n",
       "      <td>2017-04-24</td>\n",
       "      <td>7 days 04:00:00</td>\n",
       "      <td>14</td>\n",
       "    </tr>\n",
       "    <tr>\n",
       "      <th>10003</th>\n",
       "      <td>2017-03-31</td>\n",
       "      <td>2017-03-04</td>\n",
       "      <td>3</td>\n",
       "      <td>2017-03-04</td>\n",
       "      <td>2017-03-31</td>\n",
       "      <td>13 days 12:00:00</td>\n",
       "      <td>6</td>\n",
       "    </tr>\n",
       "    <tr>\n",
       "      <th>10004</th>\n",
       "      <td>2017-04-09</td>\n",
       "      <td>2017-03-06</td>\n",
       "      <td>4</td>\n",
       "      <td>2017-03-06</td>\n",
       "      <td>2017-04-09</td>\n",
       "      <td>11 days 08:00:00</td>\n",
       "      <td>8</td>\n",
       "    </tr>\n",
       "    <tr>\n",
       "      <th>10005</th>\n",
       "      <td>2017-04-16</td>\n",
       "      <td>2017-03-10</td>\n",
       "      <td>6</td>\n",
       "      <td>2017-03-10</td>\n",
       "      <td>2017-04-16</td>\n",
       "      <td>7 days 09:36:00</td>\n",
       "      <td>12</td>\n",
       "    </tr>\n",
       "  </tbody>\n",
       "</table>\n",
       "</div>"
      ],
      "text/plain": [
       "             max_date    min_date  times std_min_date std_max_date  \\\n",
       "member_id                                                            \n",
       "10001      2017-04-19  2017-03-13      3   2017-03-13   2017-04-19   \n",
       "10002      2017-04-24  2017-03-12      7   2017-03-12   2017-04-24   \n",
       "10003      2017-03-31  2017-03-04      3   2017-03-04   2017-03-31   \n",
       "10004      2017-04-09  2017-03-06      4   2017-03-06   2017-04-09   \n",
       "10005      2017-04-16  2017-03-10      6   2017-03-10   2017-04-16   \n",
       "\n",
       "          average_interval  test2  \n",
       "member_id                          \n",
       "10001     18 days 12:00:00      6  \n",
       "10002      7 days 04:00:00     14  \n",
       "10003     13 days 12:00:00      6  \n",
       "10004     11 days 08:00:00      8  \n",
       "10005      7 days 09:36:00     12  "
      ]
     },
     "execution_count": 299,
     "metadata": {},
     "output_type": "execute_result"
    }
   ],
   "source": [
    "dg.head()"
   ]
  },
  {
   "cell_type": "code",
   "execution_count": 300,
   "metadata": {},
   "outputs": [
    {
     "name": "stdout",
     "output_type": "stream",
     "text": [
      "<class 'pandas.core.frame.DataFrame'>\n",
      "Int64Index: 20 entries, 10001 to 10020\n",
      "Data columns (total 7 columns):\n",
      "max_date            20 non-null object\n",
      "min_date            20 non-null object\n",
      "times               20 non-null int64\n",
      "std_min_date        20 non-null datetime64[ns]\n",
      "std_max_date        20 non-null datetime64[ns]\n",
      "average_interval    20 non-null timedelta64[ns]\n",
      "test2               20 non-null int64\n",
      "dtypes: datetime64[ns](2), int64(2), object(2), timedelta64[ns](1)\n",
      "memory usage: 1.9+ KB\n"
     ]
    }
   ],
   "source": [
    "dg.info()"
   ]
  },
  {
   "cell_type": "code",
   "execution_count": null,
   "metadata": {},
   "outputs": [],
   "source": [
    "from datetime import timedelta\n",
    "from datetime import datetime\n",
    "import time\n",
    "\n",
    "d1 = datetime.now()\n",
    "time.sleep(10)\n",
    "eclipseTimes = datetime.now() - d1\n",
    "print(eclipseTimes)\n",
    "print(d1)"
   ]
  },
  {
   "cell_type": "code",
   "execution_count": null,
   "metadata": {
    "collapsed": true
   },
   "outputs": [],
   "source": [
    "print('a')"
   ]
  },
  {
   "cell_type": "code",
   "execution_count": null,
   "metadata": {
    "collapsed": true
   },
   "outputs": [],
   "source": []
  }
 ],
 "metadata": {
  "kernelspec": {
   "display_name": "Python 3",
   "language": "python",
   "name": "python3"
  },
  "language_info": {
   "codemirror_mode": {
    "name": "ipython",
    "version": 3
   },
   "file_extension": ".py",
   "mimetype": "text/x-python",
   "name": "python",
   "nbconvert_exporter": "python",
   "pygments_lexer": "ipython3",
   "version": "3.6.3"
  }
 },
 "nbformat": 4,
 "nbformat_minor": 2
}
