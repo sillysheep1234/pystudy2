{
 "cells": [
  {
   "cell_type": "markdown",
   "metadata": {},
   "source": [
    "# 一、地址\n",
    "https://www.bilibili.com/video/av35313572/?p=3\n",
    "\n",
    "# 二、学习进度及笔记\n",
    "\n",
    "## 2/22 分布式通讯协议分析（上）\n",
    "1. 网络通讯是分布式技术的基础\n",
    "2. TCP/IP 和UDP/IP\n",
    "3. TCP 五层模型和OSI 七层模型"
   ]
  }
 ],
 "metadata": {
  "kernelspec": {
   "display_name": "Python 3",
   "language": "python",
   "name": "python3"
  },
  "language_info": {
   "codemirror_mode": {
    "name": "ipython",
    "version": 3
   },
   "file_extension": ".py",
   "mimetype": "text/x-python",
   "name": "python",
   "nbconvert_exporter": "python",
   "pygments_lexer": "ipython3",
   "version": "3.6.3"
  }
 },
 "nbformat": 4,
 "nbformat_minor": 2
}
