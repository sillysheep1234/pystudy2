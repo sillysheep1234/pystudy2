{
 "cells": [
  {
   "cell_type": "code",
   "execution_count": 1,
   "metadata": {
    "collapsed": true
   },
   "outputs": [],
   "source": [
    "import warnings\n"
   ]
  },
  {
   "cell_type": "code",
   "execution_count": 6,
   "metadata": {},
   "outputs": [
    {
     "name": "stderr",
     "output_type": "stream",
     "text": [
      "C:\\Users\\Zhenqi\\Anaconda3\\lib\\site-packages\\ipykernel_launcher.py:4: RuntimeWarning: month 13 is not between 1 and 12\n",
      "  after removing the cwd from sys.path.\n"
     ]
    }
   ],
   "source": [
    "def month_warning(m):\n",
    "    if not 1<= m <= 12:\n",
    "        msg = \"month %d is not between 1 and 12\" % m\n",
    "        warnings.warn(msg, RuntimeWarning)\n",
    "    else:\n",
    "        return str(m),'pass'\n",
    "\n",
    "month_warning(13)"
   ]
  },
  {
   "cell_type": "code",
   "execution_count": 7,
   "metadata": {},
   "outputs": [
    {
     "name": "stdout",
     "output_type": "stream",
     "text": [
      "Overwriting test.txt\n"
     ]
    }
   ],
   "source": [
    "%%writefile test.txt\n",
    "this is a test file.\n",
    "hello world!\n",
    "python is good!\n",
    "today is a good day."
   ]
  },
  {
   "cell_type": "code",
   "execution_count": 8,
   "metadata": {},
   "outputs": [
    {
     "name": "stdout",
     "output_type": "stream",
     "text": [
      " 驱动器 C 中的卷是 Windows\n",
      " 卷的序列号是 781C-54BE\n",
      "\n",
      " C:\\Users\\Zhenqi\\py_script 的目录\n",
      "\n",
      "2018/01/05  01:19               786  django.ipynb\n",
      "2018/01/14  19:54    <DIR>          .\n",
      "2018/01/14  19:54    <DIR>          ..\n",
      "2018/01/14  18:12    <DIR>          .ipynb_checkpoints\n",
      "2018/01/07  02:17    <DIR>          __pycache__\n",
      "2017/12/31  03:28             7,358 171231.ipynb\n",
      "2018/01/02  00:20            69,238 180101.ipynb\n",
      "2018/01/03  00:54             3,298 180102.ipynb\n",
      "2018/01/05  01:07             4,754 180104.ipynb\n",
      "2018/01/07  03:08             7,566 180106.ipynb\n",
      "2018/01/14  19:54             1,310 180114.ipynb\n",
      "2018/01/07  02:05               159 ex1.py\n",
      "2018/01/07  02:20               324 ex2.py\n",
      "2018/01/01  00:37             1,140 list&set.ipynb\n",
      "2018/01/07  03:10             1,226 study plan.ipynb\n",
      "2018/01/14  19:55                73 test.txt\n",
      "2018/01/07  03:00             2,860 Untitled.ipynb\n",
      "              13 个文件        100,092 字节\n",
      "               4 个目录 34,025,017,344 可用字节\n"
     ]
    }
   ],
   "source": [
    "%ls"
   ]
  },
  {
   "cell_type": "code",
   "execution_count": 10,
   "metadata": {},
   "outputs": [
    {
     "name": "stdout",
     "output_type": "stream",
     "text": [
      "this is a test file.\n",
      "\n",
      "hello world!\n",
      "\n",
      "python is good!\n",
      "\n",
      "today is a good day.\n"
     ]
    }
   ],
   "source": [
    "f=open('test.txt')\n",
    "for line in f:\n",
    "    print(line)"
   ]
  },
  {
   "cell_type": "code",
   "execution_count": 13,
   "metadata": {},
   "outputs": [
    {
     "name": "stdout",
     "output_type": "stream",
     "text": [
      "this is a test file.\n",
      "hello world!\n",
      "python is good!\n",
      "today is a good day.\n"
     ]
    }
   ],
   "source": [
    "f=open('test.txt')\n",
    "text=f.read()\n",
    "print(text)"
   ]
  },
  {
   "cell_type": "code",
   "execution_count": 14,
   "metadata": {
    "collapsed": true
   },
   "outputs": [],
   "source": [
    "f.close()"
   ]
  },
  {
   "cell_type": "code",
   "execution_count": 15,
   "metadata": {},
   "outputs": [
    {
     "name": "stdout",
     "output_type": "stream",
     "text": [
      "this is a test file.\n",
      "hello world!\n",
      "python is good!\n",
      "today is a good day.\n"
     ]
    }
   ],
   "source": [
    "print(text)"
   ]
  },
  {
   "cell_type": "code",
   "execution_count": 16,
   "metadata": {
    "collapsed": true
   },
   "outputs": [],
   "source": [
    "f = open('myfile.txt', 'w')\n",
    "f.write('hello world!')\n",
    "f.close()"
   ]
  },
  {
   "cell_type": "code",
   "execution_count": 18,
   "metadata": {},
   "outputs": [
    {
     "name": "stdout",
     "output_type": "stream",
     "text": [
      "hello world!\n"
     ]
    }
   ],
   "source": [
    "print(open('myfile.txt').read())"
   ]
  },
  {
   "cell_type": "code",
   "execution_count": 20,
   "metadata": {},
   "outputs": [
    {
     "data": {
      "text/plain": [
       "'this is first line'"
      ]
     },
     "execution_count": 20,
     "metadata": {},
     "output_type": "execute_result"
    }
   ],
   "source": [
    "f=open('myfile1.txt','w')\n",
    "f.write('this is first line')\n",
    "f.close()\n",
    "f1=open('myfile1.txt')\n",
    "f1.read()"
   ]
  },
  {
   "cell_type": "code",
   "execution_count": 22,
   "metadata": {
    "collapsed": true
   },
   "outputs": [],
   "source": [
    "import os"
   ]
  },
  {
   "cell_type": "code",
   "execution_count": 26,
   "metadata": {
    "collapsed": true
   },
   "outputs": [],
   "source": [
    "\n",
    "\n",
    "os.remove('test.txt')"
   ]
  },
  {
   "cell_type": "code",
   "execution_count": 27,
   "metadata": {},
   "outputs": [
    {
     "name": "stdout",
     "output_type": "stream",
     "text": [
      "Using matplotlib backend: Qt5Agg\n",
      "Populating the interactive namespace from numpy and matplotlib\n"
     ]
    },
    {
     "name": "stderr",
     "output_type": "stream",
     "text": [
      "C:\\Users\\Zhenqi\\Anaconda3\\lib\\site-packages\\IPython\\core\\magics\\pylab.py:160: UserWarning: pylab import has clobbered these variables: ['text', 'f']\n",
      "`%matplotlib` prevents importing * from pylab and numpy\n",
      "  \"\\n`%matplotlib` prevents importing * from pylab and numpy\"\n"
     ]
    }
   ],
   "source": [
    "%pylab"
   ]
  },
  {
   "cell_type": "code",
   "execution_count": 28,
   "metadata": {},
   "outputs": [
    {
     "data": {
      "text/plain": [
       "<function RandomState.f>"
      ]
     },
     "execution_count": 28,
     "metadata": {},
     "output_type": "execute_result"
    }
   ],
   "source": []
  },
  {
   "cell_type": "code",
   "execution_count": 45,
   "metadata": {},
   "outputs": [
    {
     "data": {
      "text/plain": [
       "array([2, 3, 4, 5])"
      ]
     },
     "execution_count": 45,
     "metadata": {},
     "output_type": "execute_result"
    }
   ],
   "source": [
    "a=array([1,2,3,4])\n",
    "a\n",
    "a+1"
   ]
  },
  {
   "cell_type": "code",
   "execution_count": 40,
   "metadata": {},
   "outputs": [
    {
     "data": {
      "text/plain": [
       "array([2, 3, 4, 5])"
      ]
     },
     "execution_count": 40,
     "metadata": {},
     "output_type": "execute_result"
    }
   ],
   "source": [
    "b=array([2,3,4,5])\n",
    "b"
   ]
  },
  {
   "cell_type": "code",
   "execution_count": 46,
   "metadata": {},
   "outputs": [
    {
     "data": {
      "text/plain": [
       "array([3, 5, 7, 9])"
      ]
     },
     "execution_count": 46,
     "metadata": {},
     "output_type": "execute_result"
    }
   ],
   "source": [
    "a+b"
   ]
  },
  {
   "cell_type": "code",
   "execution_count": 47,
   "metadata": {},
   "outputs": [
    {
     "data": {
      "text/plain": [
       "array([ 2,  6, 12, 20])"
      ]
     },
     "execution_count": 47,
     "metadata": {},
     "output_type": "execute_result"
    }
   ],
   "source": [
    "a*b"
   ]
  },
  {
   "cell_type": "code",
   "execution_count": 51,
   "metadata": {},
   "outputs": [
    {
     "data": {
      "text/plain": [
       "array([-10.    ,  -9.98  ,  -9.96  ,  -9.9399,  -9.9199,  -9.8999,\n",
       "        -9.8799,  -9.8599,  -9.8398,  -9.8198,  -9.7998,  -9.7798,\n",
       "        -9.7598,  -9.7397,  -9.7197,  -9.6997,  -9.6797,  -9.6597,\n",
       "        -9.6396,  -9.6196,  -9.5996,  -9.5796,  -9.5596,  -9.5395,\n",
       "        -9.5195,  -9.4995,  -9.4795,  -9.4595,  -9.4394,  -9.4194,\n",
       "        -9.3994,  -9.3794,  -9.3594,  -9.3393,  -9.3193,  -9.2993,\n",
       "        -9.2793,  -9.2593,  -9.2392,  -9.2192,  -9.1992,  -9.1792,\n",
       "        -9.1592,  -9.1391,  -9.1191,  -9.0991,  -9.0791,  -9.0591,\n",
       "        -9.039 ,  -9.019 ,  -8.999 ,  -8.979 ,  -8.959 ,  -8.9389,\n",
       "        -8.9189,  -8.8989,  -8.8789,  -8.8589,  -8.8388,  -8.8188,\n",
       "        -8.7988,  -8.7788,  -8.7588,  -8.7387,  -8.7187,  -8.6987,\n",
       "        -8.6787,  -8.6587,  -8.6386,  -8.6186,  -8.5986,  -8.5786,\n",
       "        -8.5586,  -8.5385,  -8.5185,  -8.4985,  -8.4785,  -8.4585,\n",
       "        -8.4384,  -8.4184,  -8.3984,  -8.3784,  -8.3584,  -8.3383,\n",
       "        -8.3183,  -8.2983,  -8.2783,  -8.2583,  -8.2382,  -8.2182,\n",
       "        -8.1982,  -8.1782,  -8.1582,  -8.1381,  -8.1181,  -8.0981,\n",
       "        -8.0781,  -8.0581,  -8.038 ,  -8.018 ,  -7.998 ,  -7.978 ,\n",
       "        -7.958 ,  -7.9379,  -7.9179,  -7.8979,  -7.8779,  -7.8579,\n",
       "        -7.8378,  -7.8178,  -7.7978,  -7.7778,  -7.7578,  -7.7377,\n",
       "        -7.7177,  -7.6977,  -7.6777,  -7.6577,  -7.6376,  -7.6176,\n",
       "        -7.5976,  -7.5776,  -7.5576,  -7.5375,  -7.5175,  -7.4975,\n",
       "        -7.4775,  -7.4575,  -7.4374,  -7.4174,  -7.3974,  -7.3774,\n",
       "        -7.3574,  -7.3373,  -7.3173,  -7.2973,  -7.2773,  -7.2573,\n",
       "        -7.2372,  -7.2172,  -7.1972,  -7.1772,  -7.1572,  -7.1371,\n",
       "        -7.1171,  -7.0971,  -7.0771,  -7.0571,  -7.037 ,  -7.017 ,\n",
       "        -6.997 ,  -6.977 ,  -6.957 ,  -6.9369,  -6.9169,  -6.8969,\n",
       "        -6.8769,  -6.8569,  -6.8368,  -6.8168,  -6.7968,  -6.7768,\n",
       "        -6.7568,  -6.7367,  -6.7167,  -6.6967,  -6.6767,  -6.6567,\n",
       "        -6.6366,  -6.6166,  -6.5966,  -6.5766,  -6.5566,  -6.5365,\n",
       "        -6.5165,  -6.4965,  -6.4765,  -6.4565,  -6.4364,  -6.4164,\n",
       "        -6.3964,  -6.3764,  -6.3564,  -6.3363,  -6.3163,  -6.2963,\n",
       "        -6.2763,  -6.2563,  -6.2362,  -6.2162,  -6.1962,  -6.1762,\n",
       "        -6.1562,  -6.1361,  -6.1161,  -6.0961,  -6.0761,  -6.0561,\n",
       "        -6.036 ,  -6.016 ,  -5.996 ,  -5.976 ,  -5.956 ,  -5.9359,\n",
       "        -5.9159,  -5.8959,  -5.8759,  -5.8559,  -5.8358,  -5.8158,\n",
       "        -5.7958,  -5.7758,  -5.7558,  -5.7357,  -5.7157,  -5.6957,\n",
       "        -5.6757,  -5.6557,  -5.6356,  -5.6156,  -5.5956,  -5.5756,\n",
       "        -5.5556,  -5.5355,  -5.5155,  -5.4955,  -5.4755,  -5.4555,\n",
       "        -5.4354,  -5.4154,  -5.3954,  -5.3754,  -5.3554,  -5.3353,\n",
       "        -5.3153,  -5.2953,  -5.2753,  -5.2553,  -5.2352,  -5.2152,\n",
       "        -5.1952,  -5.1752,  -5.1552,  -5.1351,  -5.1151,  -5.0951,\n",
       "        -5.0751,  -5.0551,  -5.035 ,  -5.015 ,  -4.995 ,  -4.975 ,\n",
       "        -4.955 ,  -4.9349,  -4.9149,  -4.8949,  -4.8749,  -4.8549,\n",
       "        -4.8348,  -4.8148,  -4.7948,  -4.7748,  -4.7548,  -4.7347,\n",
       "        -4.7147,  -4.6947,  -4.6747,  -4.6547,  -4.6346,  -4.6146,\n",
       "        -4.5946,  -4.5746,  -4.5546,  -4.5345,  -4.5145,  -4.4945,\n",
       "        -4.4745,  -4.4545,  -4.4344,  -4.4144,  -4.3944,  -4.3744,\n",
       "        -4.3544,  -4.3343,  -4.3143,  -4.2943,  -4.2743,  -4.2543,\n",
       "        -4.2342,  -4.2142,  -4.1942,  -4.1742,  -4.1542,  -4.1341,\n",
       "        -4.1141,  -4.0941,  -4.0741,  -4.0541,  -4.034 ,  -4.014 ,\n",
       "        -3.994 ,  -3.974 ,  -3.954 ,  -3.9339,  -3.9139,  -3.8939,\n",
       "        -3.8739,  -3.8539,  -3.8338,  -3.8138,  -3.7938,  -3.7738,\n",
       "        -3.7538,  -3.7337,  -3.7137,  -3.6937,  -3.6737,  -3.6537,\n",
       "        -3.6336,  -3.6136,  -3.5936,  -3.5736,  -3.5536,  -3.5335,\n",
       "        -3.5135,  -3.4935,  -3.4735,  -3.4535,  -3.4334,  -3.4134,\n",
       "        -3.3934,  -3.3734,  -3.3534,  -3.3333,  -3.3133,  -3.2933,\n",
       "        -3.2733,  -3.2533,  -3.2332,  -3.2132,  -3.1932,  -3.1732,\n",
       "        -3.1532,  -3.1331,  -3.1131,  -3.0931,  -3.0731,  -3.0531,\n",
       "        -3.033 ,  -3.013 ,  -2.993 ,  -2.973 ,  -2.953 ,  -2.9329,\n",
       "        -2.9129,  -2.8929,  -2.8729,  -2.8529,  -2.8328,  -2.8128,\n",
       "        -2.7928,  -2.7728,  -2.7528,  -2.7327,  -2.7127,  -2.6927,\n",
       "        -2.6727,  -2.6527,  -2.6326,  -2.6126,  -2.5926,  -2.5726,\n",
       "        -2.5526,  -2.5325,  -2.5125,  -2.4925,  -2.4725,  -2.4525,\n",
       "        -2.4324,  -2.4124,  -2.3924,  -2.3724,  -2.3524,  -2.3323,\n",
       "        -2.3123,  -2.2923,  -2.2723,  -2.2523,  -2.2322,  -2.2122,\n",
       "        -2.1922,  -2.1722,  -2.1522,  -2.1321,  -2.1121,  -2.0921,\n",
       "        -2.0721,  -2.0521,  -2.032 ,  -2.012 ,  -1.992 ,  -1.972 ,\n",
       "        -1.952 ,  -1.9319,  -1.9119,  -1.8919,  -1.8719,  -1.8519,\n",
       "        -1.8318,  -1.8118,  -1.7918,  -1.7718,  -1.7518,  -1.7317,\n",
       "        -1.7117,  -1.6917,  -1.6717,  -1.6517,  -1.6316,  -1.6116,\n",
       "        -1.5916,  -1.5716,  -1.5516,  -1.5315,  -1.5115,  -1.4915,\n",
       "        -1.4715,  -1.4515,  -1.4314,  -1.4114,  -1.3914,  -1.3714,\n",
       "        -1.3514,  -1.3313,  -1.3113,  -1.2913,  -1.2713,  -1.2513,\n",
       "        -1.2312,  -1.2112,  -1.1912,  -1.1712,  -1.1512,  -1.1311,\n",
       "        -1.1111,  -1.0911,  -1.0711,  -1.0511,  -1.031 ,  -1.011 ,\n",
       "        -0.991 ,  -0.971 ,  -0.951 ,  -0.9309,  -0.9109,  -0.8909,\n",
       "        -0.8709,  -0.8509,  -0.8308,  -0.8108,  -0.7908,  -0.7708,\n",
       "        -0.7508,  -0.7307,  -0.7107,  -0.6907,  -0.6707,  -0.6507,\n",
       "        -0.6306,  -0.6106,  -0.5906,  -0.5706,  -0.5506,  -0.5305,\n",
       "        -0.5105,  -0.4905,  -0.4705,  -0.4505,  -0.4304,  -0.4104,\n",
       "        -0.3904,  -0.3704,  -0.3504,  -0.3303,  -0.3103,  -0.2903,\n",
       "        -0.2703,  -0.2503,  -0.2302,  -0.2102,  -0.1902,  -0.1702,\n",
       "        -0.1502,  -0.1301,  -0.1101,  -0.0901,  -0.0701,  -0.0501,\n",
       "        -0.03  ,  -0.01  ,   0.01  ,   0.03  ,   0.0501,   0.0701,\n",
       "         0.0901,   0.1101,   0.1301,   0.1502,   0.1702,   0.1902,\n",
       "         0.2102,   0.2302,   0.2503,   0.2703,   0.2903,   0.3103,\n",
       "         0.3303,   0.3504,   0.3704,   0.3904,   0.4104,   0.4304,\n",
       "         0.4505,   0.4705,   0.4905,   0.5105,   0.5305,   0.5506,\n",
       "         0.5706,   0.5906,   0.6106,   0.6306,   0.6507,   0.6707,\n",
       "         0.6907,   0.7107,   0.7307,   0.7508,   0.7708,   0.7908,\n",
       "         0.8108,   0.8308,   0.8509,   0.8709,   0.8909,   0.9109,\n",
       "         0.9309,   0.951 ,   0.971 ,   0.991 ,   1.011 ,   1.031 ,\n",
       "         1.0511,   1.0711,   1.0911,   1.1111,   1.1311,   1.1512,\n",
       "         1.1712,   1.1912,   1.2112,   1.2312,   1.2513,   1.2713,\n",
       "         1.2913,   1.3113,   1.3313,   1.3514,   1.3714,   1.3914,\n",
       "         1.4114,   1.4314,   1.4515,   1.4715,   1.4915,   1.5115,\n",
       "         1.5315,   1.5516,   1.5716,   1.5916,   1.6116,   1.6316,\n",
       "         1.6517,   1.6717,   1.6917,   1.7117,   1.7317,   1.7518,\n",
       "         1.7718,   1.7918,   1.8118,   1.8318,   1.8519,   1.8719,\n",
       "         1.8919,   1.9119,   1.9319,   1.952 ,   1.972 ,   1.992 ,\n",
       "         2.012 ,   2.032 ,   2.0521,   2.0721,   2.0921,   2.1121,\n",
       "         2.1321,   2.1522,   2.1722,   2.1922,   2.2122,   2.2322,\n",
       "         2.2523,   2.2723,   2.2923,   2.3123,   2.3323,   2.3524,\n",
       "         2.3724,   2.3924,   2.4124,   2.4324,   2.4525,   2.4725,\n",
       "         2.4925,   2.5125,   2.5325,   2.5526,   2.5726,   2.5926,\n",
       "         2.6126,   2.6326,   2.6527,   2.6727,   2.6927,   2.7127,\n",
       "         2.7327,   2.7528,   2.7728,   2.7928,   2.8128,   2.8328,\n",
       "         2.8529,   2.8729,   2.8929,   2.9129,   2.9329,   2.953 ,\n",
       "         2.973 ,   2.993 ,   3.013 ,   3.033 ,   3.0531,   3.0731,\n",
       "         3.0931,   3.1131,   3.1331,   3.1532,   3.1732,   3.1932,\n",
       "         3.2132,   3.2332,   3.2533,   3.2733,   3.2933,   3.3133,\n",
       "         3.3333,   3.3534,   3.3734,   3.3934,   3.4134,   3.4334,\n",
       "         3.4535,   3.4735,   3.4935,   3.5135,   3.5335,   3.5536,\n",
       "         3.5736,   3.5936,   3.6136,   3.6336,   3.6537,   3.6737,\n",
       "         3.6937,   3.7137,   3.7337,   3.7538,   3.7738,   3.7938,\n",
       "         3.8138,   3.8338,   3.8539,   3.8739,   3.8939,   3.9139,\n",
       "         3.9339,   3.954 ,   3.974 ,   3.994 ,   4.014 ,   4.034 ,\n",
       "         4.0541,   4.0741,   4.0941,   4.1141,   4.1341,   4.1542,\n",
       "         4.1742,   4.1942,   4.2142,   4.2342,   4.2543,   4.2743,\n",
       "         4.2943,   4.3143,   4.3343,   4.3544,   4.3744,   4.3944,\n",
       "         4.4144,   4.4344,   4.4545,   4.4745,   4.4945,   4.5145,\n",
       "         4.5345,   4.5546,   4.5746,   4.5946,   4.6146,   4.6346,\n",
       "         4.6547,   4.6747,   4.6947,   4.7147,   4.7347,   4.7548,\n",
       "         4.7748,   4.7948,   4.8148,   4.8348,   4.8549,   4.8749,\n",
       "         4.8949,   4.9149,   4.9349,   4.955 ,   4.975 ,   4.995 ,\n",
       "         5.015 ,   5.035 ,   5.0551,   5.0751,   5.0951,   5.1151,\n",
       "         5.1351,   5.1552,   5.1752,   5.1952,   5.2152,   5.2352,\n",
       "         5.2553,   5.2753,   5.2953,   5.3153,   5.3353,   5.3554,\n",
       "         5.3754,   5.3954,   5.4154,   5.4354,   5.4555,   5.4755,\n",
       "         5.4955,   5.5155,   5.5355,   5.5556,   5.5756,   5.5956,\n",
       "         5.6156,   5.6356,   5.6557,   5.6757,   5.6957,   5.7157,\n",
       "         5.7357,   5.7558,   5.7758,   5.7958,   5.8158,   5.8358,\n",
       "         5.8559,   5.8759,   5.8959,   5.9159,   5.9359,   5.956 ,\n",
       "         5.976 ,   5.996 ,   6.016 ,   6.036 ,   6.0561,   6.0761,\n",
       "         6.0961,   6.1161,   6.1361,   6.1562,   6.1762,   6.1962,\n",
       "         6.2162,   6.2362,   6.2563,   6.2763,   6.2963,   6.3163,\n",
       "         6.3363,   6.3564,   6.3764,   6.3964,   6.4164,   6.4364,\n",
       "         6.4565,   6.4765,   6.4965,   6.5165,   6.5365,   6.5566,\n",
       "         6.5766,   6.5966,   6.6166,   6.6366,   6.6567,   6.6767,\n",
       "         6.6967,   6.7167,   6.7367,   6.7568,   6.7768,   6.7968,\n",
       "         6.8168,   6.8368,   6.8569,   6.8769,   6.8969,   6.9169,\n",
       "         6.9369,   6.957 ,   6.977 ,   6.997 ,   7.017 ,   7.037 ,\n",
       "         7.0571,   7.0771,   7.0971,   7.1171,   7.1371,   7.1572,\n",
       "         7.1772,   7.1972,   7.2172,   7.2372,   7.2573,   7.2773,\n",
       "         7.2973,   7.3173,   7.3373,   7.3574,   7.3774,   7.3974,\n",
       "         7.4174,   7.4374,   7.4575,   7.4775,   7.4975,   7.5175,\n",
       "         7.5375,   7.5576,   7.5776,   7.5976,   7.6176,   7.6376,\n",
       "         7.6577,   7.6777,   7.6977,   7.7177,   7.7377,   7.7578,\n",
       "         7.7778,   7.7978,   7.8178,   7.8378,   7.8579,   7.8779,\n",
       "         7.8979,   7.9179,   7.9379,   7.958 ,   7.978 ,   7.998 ,\n",
       "         8.018 ,   8.038 ,   8.0581,   8.0781,   8.0981,   8.1181,\n",
       "         8.1381,   8.1582,   8.1782,   8.1982,   8.2182,   8.2382,\n",
       "         8.2583,   8.2783,   8.2983,   8.3183,   8.3383,   8.3584,\n",
       "         8.3784,   8.3984,   8.4184,   8.4384,   8.4585,   8.4785,\n",
       "         8.4985,   8.5185,   8.5385,   8.5586,   8.5786,   8.5986,\n",
       "         8.6186,   8.6386,   8.6587,   8.6787,   8.6987,   8.7187,\n",
       "         8.7387,   8.7588,   8.7788,   8.7988,   8.8188,   8.8388,\n",
       "         8.8589,   8.8789,   8.8989,   8.9189,   8.9389,   8.959 ,\n",
       "         8.979 ,   8.999 ,   9.019 ,   9.039 ,   9.0591,   9.0791,\n",
       "         9.0991,   9.1191,   9.1391,   9.1592,   9.1792,   9.1992,\n",
       "         9.2192,   9.2392,   9.2593,   9.2793,   9.2993,   9.3193,\n",
       "         9.3393,   9.3594,   9.3794,   9.3994,   9.4194,   9.4394,\n",
       "         9.4595,   9.4795,   9.4995,   9.5195,   9.5395,   9.5596,\n",
       "         9.5796,   9.5996,   9.6196,   9.6396,   9.6597,   9.6797,\n",
       "         9.6997,   9.7197,   9.7397,   9.7598,   9.7798,   9.7998,\n",
       "         9.8198,   9.8398,   9.8599,   9.8799,   9.8999,   9.9199,\n",
       "         9.9399,   9.96  ,   9.98  ,  10.    ])"
      ]
     },
     "execution_count": 51,
     "metadata": {},
     "output_type": "execute_result"
    }
   ],
   "source": [
    "a = linspace(-10, 10, 1000)\n",
    "%precision 4\n",
    "a"
   ]
  },
  {
   "cell_type": "code",
   "execution_count": 52,
   "metadata": {},
   "outputs": [
    {
     "data": {
      "text/plain": [
       "array([ 0.544 ,  0.5271,  0.51  ,  0.4927,  0.4752,  0.4574,  0.4396,\n",
       "        0.4215,  0.4032,  0.3848,  0.3663,  0.3476,  0.3288,  0.3098,\n",
       "        0.2907,  0.2715,  0.2522,  0.2327,  0.2132,  0.1936,  0.1739,\n",
       "        0.1542,  0.1344,  0.1145,  0.0946,  0.0747,  0.0547,  0.0347,\n",
       "        0.0147, -0.0054, -0.0254, -0.0454, -0.0654, -0.0853, -0.1053,\n",
       "       -0.1251, -0.145 , -0.1648, -0.1845, -0.2041, -0.2237, -0.2431,\n",
       "       -0.2625, -0.2818, -0.3009, -0.32  , -0.3389, -0.3576, -0.3762,\n",
       "       -0.3947, -0.413 , -0.4312, -0.4492, -0.467 , -0.4846, -0.502 ,\n",
       "       -0.5192, -0.5362, -0.553 , -0.5696, -0.5859, -0.602 , -0.6179,\n",
       "       -0.6335, -0.6488, -0.6639, -0.6788, -0.6933, -0.7076, -0.7216,\n",
       "       -0.7353, -0.7488, -0.7619, -0.7747, -0.7872, -0.7994, -0.8113,\n",
       "       -0.8228, -0.834 , -0.8449, -0.8554, -0.8656, -0.8755, -0.885 ,\n",
       "       -0.8941, -0.9029, -0.9113, -0.9194, -0.9271, -0.9344, -0.9413,\n",
       "       -0.9479, -0.9541, -0.9599, -0.9653, -0.9704, -0.975 , -0.9792,\n",
       "       -0.9831, -0.9866, -0.9896, -0.9923, -0.9946, -0.9965, -0.998 ,\n",
       "       -0.999 , -0.9997, -1.    , -0.9999, -0.9993, -0.9984, -0.9971,\n",
       "       -0.9954, -0.9933, -0.9907, -0.9878, -0.9845, -0.9808, -0.9767,\n",
       "       -0.9722, -0.9673, -0.962 , -0.9564, -0.9503, -0.9439, -0.9371,\n",
       "       -0.93  , -0.9224, -0.9145, -0.9062, -0.8976, -0.8886, -0.8792,\n",
       "       -0.8695, -0.8594, -0.849 , -0.8383, -0.8272, -0.8158, -0.804 ,\n",
       "       -0.792 , -0.7796, -0.7669, -0.7539, -0.7406, -0.727 , -0.7131,\n",
       "       -0.6989, -0.6845, -0.6697, -0.6547, -0.6395, -0.6239, -0.6082,\n",
       "       -0.5922, -0.5759, -0.5594, -0.5427, -0.5258, -0.5087, -0.4913,\n",
       "       -0.4738, -0.4561, -0.4382, -0.4201, -0.4018, -0.3834, -0.3648,\n",
       "       -0.3461, -0.3273, -0.3083, -0.2892, -0.27  , -0.2506, -0.2312,\n",
       "       -0.2117, -0.1921, -0.1724, -0.1527, -0.1328, -0.113 , -0.0931,\n",
       "       -0.0731, -0.0531, -0.0331, -0.0131,  0.0069,  0.0269,  0.0469,\n",
       "        0.0669,  0.0869,  0.1068,  0.1267,  0.1465,  0.1663,  0.186 ,\n",
       "        0.2056,  0.2252,  0.2446,  0.264 ,  0.2833,  0.3024,  0.3214,\n",
       "        0.3403,  0.3591,  0.3777,  0.3961,  0.4144,  0.4326,  0.4505,\n",
       "        0.4683,  0.4859,  0.5033,  0.5205,  0.5375,  0.5543,  0.5708,\n",
       "        0.5871,  0.6032,  0.6191,  0.6347,  0.65  ,  0.6651,  0.6799,\n",
       "        0.6945,  0.7087,  0.7227,  0.7364,  0.7498,  0.7629,  0.7757,\n",
       "        0.7882,  0.8003,  0.8122,  0.8237,  0.8349,  0.8457,  0.8562,\n",
       "        0.8664,  0.8762,  0.8857,  0.8948,  0.9036,  0.912 ,  0.92  ,\n",
       "        0.9277,  0.9349,  0.9419,  0.9484,  0.9546,  0.9603,  0.9657,\n",
       "        0.9707,  0.9753,  0.9796,  0.9834,  0.9868,  0.9899,  0.9925,\n",
       "        0.9948,  0.9966,  0.9981,  0.9991,  0.9998,  1.    ,  0.9998,\n",
       "        0.9993,  0.9983,  0.997 ,  0.9952,  0.9931,  0.9905,  0.9876,\n",
       "        0.9842,  0.9805,  0.9764,  0.9718,  0.9669,  0.9616,  0.9559,\n",
       "        0.9499,  0.9434,  0.9366,  0.9294,  0.9218,  0.9139,  0.9056,\n",
       "        0.8969,  0.8878,  0.8785,  0.8687,  0.8586,  0.8482,  0.8374,\n",
       "        0.8263,  0.8149,  0.8031,  0.791 ,  0.7786,  0.7659,  0.7529,\n",
       "        0.7395,  0.7259,  0.712 ,  0.6978,  0.6833,  0.6686,  0.6535,\n",
       "        0.6383,  0.6227,  0.6069,  0.5909,  0.5746,  0.5581,  0.5414,\n",
       "        0.5245,  0.5073,  0.49  ,  0.4724,  0.4547,  0.4368,  0.4187,\n",
       "        0.4004,  0.382 ,  0.3634,  0.3447,  0.3258,  0.3068,  0.2877,\n",
       "        0.2685,  0.2491,  0.2297,  0.2102,  0.1906,  0.1709,  0.1511,\n",
       "        0.1313,  0.1114,  0.0915,  0.0716,  0.0516,  0.0316,  0.0116,\n",
       "       -0.0085, -0.0285, -0.0485, -0.0685, -0.0884, -0.1083, -0.1282,\n",
       "       -0.1481, -0.1678, -0.1875, -0.2071, -0.2267, -0.2461, -0.2655,\n",
       "       -0.2847, -0.3039, -0.3229, -0.3418, -0.3605, -0.3791, -0.3976,\n",
       "       -0.4159, -0.434 , -0.4519, -0.4697, -0.4873, -0.5047, -0.5218,\n",
       "       -0.5388, -0.5556, -0.5721, -0.5884, -0.6045, -0.6203, -0.6359,\n",
       "       -0.6512, -0.6663, -0.6811, -0.6956, -0.7098, -0.7238, -0.7374,\n",
       "       -0.7508, -0.7639, -0.7767, -0.7891, -0.8012, -0.8131, -0.8246,\n",
       "       -0.8357, -0.8465, -0.857 , -0.8672, -0.877 , -0.8864, -0.8955,\n",
       "       -0.9042, -0.9126, -0.9206, -0.9282, -0.9355, -0.9424, -0.9489,\n",
       "       -0.955 , -0.9608, -0.9661, -0.9711, -0.9757, -0.9799, -0.9837,\n",
       "       -0.9871, -0.9901, -0.9927, -0.9949, -0.9967, -0.9982, -0.9992,\n",
       "       -0.9998, -1.    , -0.9998, -0.9992, -0.9982, -0.9969, -0.9951,\n",
       "       -0.9929, -0.9903, -0.9873, -0.984 , -0.9802, -0.976 , -0.9715,\n",
       "       -0.9665, -0.9612, -0.9555, -0.9494, -0.9429, -0.936 , -0.9288,\n",
       "       -0.9212, -0.9132, -0.9049, -0.8962, -0.8871, -0.8777, -0.8679,\n",
       "       -0.8578, -0.8474, -0.8366, -0.8254, -0.814 , -0.8022, -0.7901,\n",
       "       -0.7776, -0.7649, -0.7518, -0.7385, -0.7248, -0.7109, -0.6967,\n",
       "       -0.6822, -0.6674, -0.6524, -0.6371, -0.6215, -0.6057, -0.5897,\n",
       "       -0.5734, -0.5569, -0.5401, -0.5232, -0.506 , -0.4886, -0.4711,\n",
       "       -0.4533, -0.4354, -0.4173, -0.399 , -0.3805, -0.362 , -0.3432,\n",
       "       -0.3244, -0.3054, -0.2862, -0.267 , -0.2476, -0.2282, -0.2087,\n",
       "       -0.189 , -0.1694, -0.1496, -0.1298, -0.1099, -0.09  , -0.07  ,\n",
       "       -0.05  , -0.03  , -0.01  ,  0.01  ,  0.03  ,  0.05  ,  0.07  ,\n",
       "        0.09  ,  0.1099,  0.1298,  0.1496,  0.1694,  0.189 ,  0.2087,\n",
       "        0.2282,  0.2476,  0.267 ,  0.2862,  0.3054,  0.3244,  0.3432,\n",
       "        0.362 ,  0.3805,  0.399 ,  0.4173,  0.4354,  0.4533,  0.4711,\n",
       "        0.4886,  0.506 ,  0.5232,  0.5401,  0.5569,  0.5734,  0.5897,\n",
       "        0.6057,  0.6215,  0.6371,  0.6524,  0.6674,  0.6822,  0.6967,\n",
       "        0.7109,  0.7248,  0.7385,  0.7518,  0.7649,  0.7776,  0.7901,\n",
       "        0.8022,  0.814 ,  0.8254,  0.8366,  0.8474,  0.8578,  0.8679,\n",
       "        0.8777,  0.8871,  0.8962,  0.9049,  0.9132,  0.9212,  0.9288,\n",
       "        0.936 ,  0.9429,  0.9494,  0.9555,  0.9612,  0.9665,  0.9715,\n",
       "        0.976 ,  0.9802,  0.984 ,  0.9873,  0.9903,  0.9929,  0.9951,\n",
       "        0.9969,  0.9982,  0.9992,  0.9998,  1.    ,  0.9998,  0.9992,\n",
       "        0.9982,  0.9967,  0.9949,  0.9927,  0.9901,  0.9871,  0.9837,\n",
       "        0.9799,  0.9757,  0.9711,  0.9661,  0.9608,  0.955 ,  0.9489,\n",
       "        0.9424,  0.9355,  0.9282,  0.9206,  0.9126,  0.9042,  0.8955,\n",
       "        0.8864,  0.877 ,  0.8672,  0.857 ,  0.8465,  0.8357,  0.8246,\n",
       "        0.8131,  0.8012,  0.7891,  0.7767,  0.7639,  0.7508,  0.7374,\n",
       "        0.7238,  0.7098,  0.6956,  0.6811,  0.6663,  0.6512,  0.6359,\n",
       "        0.6203,  0.6045,  0.5884,  0.5721,  0.5556,  0.5388,  0.5218,\n",
       "        0.5047,  0.4873,  0.4697,  0.4519,  0.434 ,  0.4159,  0.3976,\n",
       "        0.3791,  0.3605,  0.3418,  0.3229,  0.3039,  0.2847,  0.2655,\n",
       "        0.2461,  0.2267,  0.2071,  0.1875,  0.1678,  0.1481,  0.1282,\n",
       "        0.1083,  0.0884,  0.0685,  0.0485,  0.0285,  0.0085, -0.0116,\n",
       "       -0.0316, -0.0516, -0.0716, -0.0915, -0.1114, -0.1313, -0.1511,\n",
       "       -0.1709, -0.1906, -0.2102, -0.2297, -0.2491, -0.2685, -0.2877,\n",
       "       -0.3068, -0.3258, -0.3447, -0.3634, -0.382 , -0.4004, -0.4187,\n",
       "       -0.4368, -0.4547, -0.4724, -0.49  , -0.5073, -0.5245, -0.5414,\n",
       "       -0.5581, -0.5746, -0.5909, -0.6069, -0.6227, -0.6383, -0.6535,\n",
       "       -0.6686, -0.6833, -0.6978, -0.712 , -0.7259, -0.7395, -0.7529,\n",
       "       -0.7659, -0.7786, -0.791 , -0.8031, -0.8149, -0.8263, -0.8374,\n",
       "       -0.8482, -0.8586, -0.8687, -0.8785, -0.8878, -0.8969, -0.9056,\n",
       "       -0.9139, -0.9218, -0.9294, -0.9366, -0.9434, -0.9499, -0.9559,\n",
       "       -0.9616, -0.9669, -0.9718, -0.9764, -0.9805, -0.9842, -0.9876,\n",
       "       -0.9905, -0.9931, -0.9952, -0.997 , -0.9983, -0.9993, -0.9998,\n",
       "       -1.    , -0.9998, -0.9991, -0.9981, -0.9966, -0.9948, -0.9925,\n",
       "       -0.9899, -0.9868, -0.9834, -0.9796, -0.9753, -0.9707, -0.9657,\n",
       "       -0.9603, -0.9546, -0.9484, -0.9419, -0.9349, -0.9277, -0.92  ,\n",
       "       -0.912 , -0.9036, -0.8948, -0.8857, -0.8762, -0.8664, -0.8562,\n",
       "       -0.8457, -0.8349, -0.8237, -0.8122, -0.8003, -0.7882, -0.7757,\n",
       "       -0.7629, -0.7498, -0.7364, -0.7227, -0.7087, -0.6945, -0.6799,\n",
       "       -0.6651, -0.65  , -0.6347, -0.6191, -0.6032, -0.5871, -0.5708,\n",
       "       -0.5543, -0.5375, -0.5205, -0.5033, -0.4859, -0.4683, -0.4505,\n",
       "       -0.4326, -0.4144, -0.3961, -0.3777, -0.3591, -0.3403, -0.3214,\n",
       "       -0.3024, -0.2833, -0.264 , -0.2446, -0.2252, -0.2056, -0.186 ,\n",
       "       -0.1663, -0.1465, -0.1267, -0.1068, -0.0869, -0.0669, -0.0469,\n",
       "       -0.0269, -0.0069,  0.0131,  0.0331,  0.0531,  0.0731,  0.0931,\n",
       "        0.113 ,  0.1328,  0.1527,  0.1724,  0.1921,  0.2117,  0.2312,\n",
       "        0.2506,  0.27  ,  0.2892,  0.3083,  0.3273,  0.3461,  0.3648,\n",
       "        0.3834,  0.4018,  0.4201,  0.4382,  0.4561,  0.4738,  0.4913,\n",
       "        0.5087,  0.5258,  0.5427,  0.5594,  0.5759,  0.5922,  0.6082,\n",
       "        0.6239,  0.6395,  0.6547,  0.6697,  0.6845,  0.6989,  0.7131,\n",
       "        0.727 ,  0.7406,  0.7539,  0.7669,  0.7796,  0.792 ,  0.804 ,\n",
       "        0.8158,  0.8272,  0.8383,  0.849 ,  0.8594,  0.8695,  0.8792,\n",
       "        0.8886,  0.8976,  0.9062,  0.9145,  0.9224,  0.93  ,  0.9371,\n",
       "        0.9439,  0.9503,  0.9564,  0.962 ,  0.9673,  0.9722,  0.9767,\n",
       "        0.9808,  0.9845,  0.9878,  0.9907,  0.9933,  0.9954,  0.9971,\n",
       "        0.9984,  0.9993,  0.9999,  1.    ,  0.9997,  0.999 ,  0.998 ,\n",
       "        0.9965,  0.9946,  0.9923,  0.9896,  0.9866,  0.9831,  0.9792,\n",
       "        0.975 ,  0.9704,  0.9653,  0.9599,  0.9541,  0.9479,  0.9413,\n",
       "        0.9344,  0.9271,  0.9194,  0.9113,  0.9029,  0.8941,  0.885 ,\n",
       "        0.8755,  0.8656,  0.8554,  0.8449,  0.834 ,  0.8228,  0.8113,\n",
       "        0.7994,  0.7872,  0.7747,  0.7619,  0.7488,  0.7353,  0.7216,\n",
       "        0.7076,  0.6933,  0.6788,  0.6639,  0.6488,  0.6335,  0.6179,\n",
       "        0.602 ,  0.5859,  0.5696,  0.553 ,  0.5362,  0.5192,  0.502 ,\n",
       "        0.4846,  0.467 ,  0.4492,  0.4312,  0.413 ,  0.3947,  0.3762,\n",
       "        0.3576,  0.3389,  0.32  ,  0.3009,  0.2818,  0.2625,  0.2431,\n",
       "        0.2237,  0.2041,  0.1845,  0.1648,  0.145 ,  0.1251,  0.1053,\n",
       "        0.0853,  0.0654,  0.0454,  0.0254,  0.0054, -0.0147, -0.0347,\n",
       "       -0.0547, -0.0747, -0.0946, -0.1145, -0.1344, -0.1542, -0.1739,\n",
       "       -0.1936, -0.2132, -0.2327, -0.2522, -0.2715, -0.2907, -0.3098,\n",
       "       -0.3288, -0.3476, -0.3663, -0.3848, -0.4032, -0.4215, -0.4396,\n",
       "       -0.4574, -0.4752, -0.4927, -0.51  , -0.5271, -0.544 ])"
      ]
     },
     "execution_count": 52,
     "metadata": {},
     "output_type": "execute_result"
    }
   ],
   "source": [
    "b=sin(a)\n",
    "b"
   ]
  },
  {
   "cell_type": "code",
   "execution_count": 53,
   "metadata": {},
   "outputs": [
    {
     "data": {
      "text/plain": [
       "[<matplotlib.lines.Line2D at 0x17b92ea38d0>]"
      ]
     },
     "execution_count": 53,
     "metadata": {},
     "output_type": "execute_result"
    },
    {
     "data": {
      "image/png": "[encoded data removed]",
      "text/plain": [
       "<matplotlib.figure.Figure at 0x17b92c17eb8>"
      ]
     },
     "metadata": {},
     "output_type": "display_data"
    }
   ],
   "source": [
    "%matplotlib inline\n",
    "plot(a, b)"
   ]
  },
  {
   "cell_type": "code",
   "execution_count": 54,
   "metadata": {},
   "outputs": [
    {
     "data": {
      "text/plain": [
       "array([ True,  True,  True,  True,  True,  True,  True,  True,  True,\n",
       "        True,  True,  True,  True,  True,  True,  True,  True,  True,\n",
       "        True,  True,  True,  True,  True,  True,  True,  True,  True,\n",
       "        True,  True, False, False, False, False, False, False, False,\n",
       "       False, False, False, False, False, False, False, False, False,\n",
       "       False, False, False, False, False, False, False, False, False,\n",
       "       False, False, False, False, False, False, False, False, False,\n",
       "       False, False, False, False, False, False, False, False, False,\n",
       "       False, False, False, False, False, False, False, False, False,\n",
       "       False, False, False, False, False, False, False, False, False,\n",
       "       False, False, False, False, False, False, False, False, False,\n",
       "       False, False, False, False, False, False, False, False, False,\n",
       "       False, False, False, False, False, False, False, False, False,\n",
       "       False, False, False, False, False, False, False, False, False,\n",
       "       False, False, False, False, False, False, False, False, False,\n",
       "       False, False, False, False, False, False, False, False, False,\n",
       "       False, False, False, False, False, False, False, False, False,\n",
       "       False, False, False, False, False, False, False, False, False,\n",
       "       False, False, False, False, False, False, False, False, False,\n",
       "       False, False, False, False, False, False, False, False, False,\n",
       "       False, False, False, False, False, False,  True,  True,  True,\n",
       "        True,  True,  True,  True,  True,  True,  True,  True,  True,\n",
       "        True,  True,  True,  True,  True,  True,  True,  True,  True,\n",
       "        True,  True,  True,  True,  True,  True,  True,  True,  True,\n",
       "        True,  True,  True,  True,  True,  True,  True,  True,  True,\n",
       "        True,  True,  True,  True,  True,  True,  True,  True,  True,\n",
       "        True,  True,  True,  True,  True,  True,  True,  True,  True,\n",
       "        True,  True,  True,  True,  True,  True,  True,  True,  True,\n",
       "        True,  True,  True,  True,  True,  True,  True,  True,  True,\n",
       "        True,  True,  True,  True,  True,  True,  True,  True,  True,\n",
       "        True,  True,  True,  True,  True,  True,  True,  True,  True,\n",
       "        True,  True,  True,  True,  True,  True,  True,  True,  True,\n",
       "        True,  True,  True,  True,  True,  True,  True,  True,  True,\n",
       "        True,  True,  True,  True,  True,  True,  True,  True,  True,\n",
       "        True,  True,  True,  True,  True,  True,  True,  True,  True,\n",
       "        True,  True,  True,  True,  True,  True,  True,  True,  True,\n",
       "        True,  True,  True,  True,  True,  True,  True,  True,  True,\n",
       "        True,  True,  True,  True,  True,  True,  True,  True,  True,\n",
       "        True, False, False, False, False, False, False, False, False,\n",
       "       False, False, False, False, False, False, False, False, False,\n",
       "       False, False, False, False, False, False, False, False, False,\n",
       "       False, False, False, False, False, False, False, False, False,\n",
       "       False, False, False, False, False, False, False, False, False,\n",
       "       False, False, False, False, False, False, False, False, False,\n",
       "       False, False, False, False, False, False, False, False, False,\n",
       "       False, False, False, False, False, False, False, False, False,\n",
       "       False, False, False, False, False, False, False, False, False,\n",
       "       False, False, False, False, False, False, False, False, False,\n",
       "       False, False, False, False, False, False, False, False, False,\n",
       "       False, False, False, False, False, False, False, False, False,\n",
       "       False, False, False, False, False, False, False, False, False,\n",
       "       False, False, False, False, False, False, False, False, False,\n",
       "       False, False, False, False, False, False, False, False, False,\n",
       "       False, False, False, False, False, False, False, False, False,\n",
       "       False, False, False, False, False, False, False, False, False,\n",
       "       False, False, False, False, False,  True,  True,  True,  True,\n",
       "        True,  True,  True,  True,  True,  True,  True,  True,  True,\n",
       "        True,  True,  True,  True,  True,  True,  True,  True,  True,\n",
       "        True,  True,  True,  True,  True,  True,  True,  True,  True,\n",
       "        True,  True,  True,  True,  True,  True,  True,  True,  True,\n",
       "        True,  True,  True,  True,  True,  True,  True,  True,  True,\n",
       "        True,  True,  True,  True,  True,  True,  True,  True,  True,\n",
       "        True,  True,  True,  True,  True,  True,  True,  True,  True,\n",
       "        True,  True,  True,  True,  True,  True,  True,  True,  True,\n",
       "        True,  True,  True,  True,  True,  True,  True,  True,  True,\n",
       "        True,  True,  True,  True,  True,  True,  True,  True,  True,\n",
       "        True,  True,  True,  True,  True,  True,  True,  True,  True,\n",
       "        True,  True,  True,  True,  True,  True,  True,  True,  True,\n",
       "        True,  True,  True,  True,  True,  True,  True,  True,  True,\n",
       "        True,  True,  True,  True,  True,  True,  True,  True,  True,\n",
       "        True,  True,  True,  True,  True,  True,  True,  True,  True,\n",
       "        True,  True,  True,  True,  True,  True,  True,  True,  True,\n",
       "        True,  True,  True,  True,  True,  True,  True,  True,  True,\n",
       "       False, False, False, False, False, False, False, False, False,\n",
       "       False, False, False, False, False, False, False, False, False,\n",
       "       False, False, False, False, False, False, False, False, False,\n",
       "       False, False, False, False, False, False, False, False, False,\n",
       "       False, False, False, False, False, False, False, False, False,\n",
       "       False, False, False, False, False, False, False, False, False,\n",
       "       False, False, False, False, False, False, False, False, False,\n",
       "       False, False, False, False, False, False, False, False, False,\n",
       "       False, False, False, False, False, False, False, False, False,\n",
       "       False, False, False, False, False, False, False, False, False,\n",
       "       False, False, False, False, False, False, False, False, False,\n",
       "       False, False, False, False, False, False, False, False, False,\n",
       "       False, False, False, False, False, False, False, False, False,\n",
       "       False, False, False, False, False, False, False, False, False,\n",
       "       False, False, False, False, False, False, False, False, False,\n",
       "       False, False, False, False, False, False, False, False, False,\n",
       "       False, False, False, False, False, False, False, False, False,\n",
       "       False, False, False, False,  True,  True,  True,  True,  True,\n",
       "        True,  True,  True,  True,  True,  True,  True,  True,  True,\n",
       "        True,  True,  True,  True,  True,  True,  True,  True,  True,\n",
       "        True,  True,  True,  True,  True,  True,  True,  True,  True,\n",
       "        True,  True,  True,  True,  True,  True,  True,  True,  True,\n",
       "        True,  True,  True,  True,  True,  True,  True,  True,  True,\n",
       "        True,  True,  True,  True,  True,  True,  True,  True,  True,\n",
       "        True,  True,  True,  True,  True,  True,  True,  True,  True,\n",
       "        True,  True,  True,  True,  True,  True,  True,  True,  True,\n",
       "        True,  True,  True,  True,  True,  True,  True,  True,  True,\n",
       "        True,  True,  True,  True,  True,  True,  True,  True,  True,\n",
       "        True,  True,  True,  True,  True,  True,  True,  True,  True,\n",
       "        True,  True,  True,  True,  True,  True,  True,  True,  True,\n",
       "        True,  True,  True,  True,  True,  True,  True,  True,  True,\n",
       "        True,  True,  True,  True,  True,  True,  True,  True,  True,\n",
       "        True,  True,  True,  True,  True,  True,  True,  True,  True,\n",
       "        True,  True,  True,  True,  True,  True,  True,  True,  True,\n",
       "        True,  True,  True,  True,  True,  True,  True,  True, False,\n",
       "       False, False, False, False, False, False, False, False, False,\n",
       "       False, False, False, False, False, False, False, False, False,\n",
       "       False, False, False, False, False, False, False, False, False, False], dtype=bool)"
      ]
     },
     "execution_count": 54,
     "metadata": {},
     "output_type": "execute_result"
    }
   ],
   "source": [
    "mask = b >= 0\n",
    "mask"
   ]
  },
  {
   "cell_type": "code",
   "execution_count": 57,
   "metadata": {},
   "outputs": [
    {
     "data": {
      "text/plain": [
       "[<matplotlib.lines.Line2D at 0x17b9343b400>]"
      ]
     },
     "execution_count": 57,
     "metadata": {},
     "output_type": "execute_result"
    },
    {
     "data": {
      "image/png": "[encoded data removed]",
      "text/plain": [
       "<matplotlib.figure.Figure at 0x17b933e7160>"
      ]
     },
     "metadata": {},
     "output_type": "display_data"
    }
   ],
   "source": [
    "plot(a[mask], b[mask],'ro')"
   ]
  },
  {
   "cell_type": "code",
   "execution_count": 59,
   "metadata": {
    "collapsed": true
   },
   "outputs": [],
   "source": [
    "x=linspace(-10,10,1000)"
   ]
  },
  {
   "cell_type": "code",
   "execution_count": 62,
   "metadata": {
    "scrolled": true
   },
   "outputs": [
    {
     "data": {
      "text/plain": [
       "[<matplotlib.lines.Line2D at 0x17b934ba320>]"
      ]
     },
     "execution_count": 62,
     "metadata": {},
     "output_type": "execute_result"
    },
    {
     "data": {
      "image/png": "[encoded data removed]",
      "text/plain": [
       "<matplotlib.figure.Figure at 0x17b934ba400>"
      ]
     },
     "metadata": {},
     "output_type": "display_data"
    }
   ],
   "source": [
    "plot(x,sin(x))\n",
    "plot(x,sin(2*x))"
   ]
  },
  {
   "cell_type": "code",
   "execution_count": 68,
   "metadata": {},
   "outputs": [
    {
     "data": {
      "text/plain": [
       "1000"
      ]
     },
     "execution_count": 68,
     "metadata": {},
     "output_type": "execute_result"
    }
   ],
   "source": [
    "size(a)"
   ]
  },
  {
   "cell_type": "code",
   "execution_count": 82,
   "metadata": {},
   "outputs": [
    {
     "name": "stdout",
     "output_type": "stream",
     "text": [
      "21000\n",
      "180\n",
      "60\n",
      "860\n",
      "300\n",
      "[21000, 180, 60, 860, 300]\n",
      "[180, 60, 860, 300]\n"
     ]
    }
   ],
   "source": [
    "od = array([21000, 21180, 21240, 22100, 22400])\n",
    "dist=[]\n",
    "m=0\n",
    "for n in od:\n",
    "    print(n-m)\n",
    "    dist.append(n-m)\n",
    "    m=n\n",
    "print(dist) \n",
    "print(dist[1:])"
   ]
  },
  {
   "cell_type": "code",
   "execution_count": 87,
   "metadata": {},
   "outputs": [
    {
     "data": {
      "text/plain": [
       "array([102, 111, 212], dtype=uint8)"
      ]
     },
     "execution_count": 87,
     "metadata": {},
     "output_type": "execute_result"
    }
   ],
   "source": [
    "a = array([102,111,212], \n",
    "          dtype=uint8)\n",
    "b=a.view(uint8)\n",
    "b"
   ]
  },
  {
   "cell_type": "code",
   "execution_count": 88,
   "metadata": {},
   "outputs": [
    {
     "data": {
      "text/plain": [
       "array([154, 153, 153, 153, 153, 153, 241,  63, 154, 153, 153, 153, 153,\n",
       "       153,   1,  64, 102, 102, 102, 102, 102, 102,  10,  64], dtype=uint8)"
      ]
     },
     "execution_count": 88,
     "metadata": {},
     "output_type": "execute_result"
    }
   ],
   "source": [
    "a=array([1.1,2.2,3.3])\n",
    "b=a.view(uint8)\n",
    "b"
   ]
  },
  {
   "cell_type": "code",
   "execution_count": 90,
   "metadata": {},
   "outputs": [
    {
     "data": {
      "text/plain": [
       "24"
      ]
     },
     "execution_count": 90,
     "metadata": {},
     "output_type": "execute_result"
    }
   ],
   "source": [
    "b.size"
   ]
  },
  {
   "cell_type": "code",
   "execution_count": 91,
   "metadata": {},
   "outputs": [
    {
     "data": {
      "text/plain": [
       "array([ 1.1,  2.2,  3.3])"
      ]
     },
     "execution_count": 91,
     "metadata": {},
     "output_type": "execute_result"
    }
   ],
   "source": [
    "a"
   ]
  },
  {
   "cell_type": "code",
   "execution_count": 93,
   "metadata": {},
   "outputs": [
    {
     "data": {
      "text/plain": [
       "0.9184"
      ]
     },
     "execution_count": 93,
     "metadata": {},
     "output_type": "execute_result"
    }
   ],
   "source": [
    "from numpy.random import rand\n",
    "a=rand()\n",
    "a"
   ]
  },
  {
   "cell_type": "code",
   "execution_count": 94,
   "metadata": {},
   "outputs": [
    {
     "data": {
      "text/plain": [
       "array([ 0.1111,  0.2545,  0.2904])"
      ]
     },
     "execution_count": 94,
     "metadata": {},
     "output_type": "execute_result"
    }
   ],
   "source": [
    "a=rand(3)\n",
    "a"
   ]
  },
  {
   "cell_type": "code",
   "execution_count": 95,
   "metadata": {},
   "outputs": [
    {
     "data": {
      "text/plain": [
       "array([[ 0.7719,  0.4555,  0.3404,  0.5559],\n",
       "       [ 0.0967,  0.5046,  0.2666,  0.8646],\n",
       "       [ 0.2474,  0.0286,  0.7529,  0.3558]])"
      ]
     },
     "execution_count": 95,
     "metadata": {},
     "output_type": "execute_result"
    }
   ],
   "source": [
    "a=rand(3,4)\n",
    "a"
   ]
  },
  {
   "cell_type": "code",
   "execution_count": 98,
   "metadata": {},
   "outputs": [
    {
     "data": {
      "text/plain": [
       "0.8646"
      ]
     },
     "execution_count": 98,
     "metadata": {},
     "output_type": "execute_result"
    }
   ],
   "source": [
    "a.max()"
   ]
  },
  {
   "cell_type": "code",
   "execution_count": 99,
   "metadata": {},
   "outputs": [
    {
     "data": {
      "text/plain": [
       "['C:\\\\Users\\\\Zhenqi\\\\Anaconda3\\\\lib\\\\site-packages\\\\ipykernel_launcher.py',\n",
       " '-f',\n",
       " 'C:\\\\Users\\\\Zhenqi\\\\AppData\\\\Roaming\\\\jupyter\\\\runtime\\\\kernel-267e90de-25ce-4e84-843d-b53a5d828c55.json']"
      ]
     },
     "execution_count": 99,
     "metadata": {},
     "output_type": "execute_result"
    }
   ],
   "source": [
    "import sys\n",
    "sys.argv"
   ]
  },
  {
   "cell_type": "code",
   "execution_count": 100,
   "metadata": {},
   "outputs": [
    {
     "data": {
      "text/plain": [
       "'win32'"
      ]
     },
     "execution_count": 100,
     "metadata": {},
     "output_type": "execute_result"
    }
   ],
   "source": [
    "sys.platform"
   ]
  },
  {
   "cell_type": "code",
   "execution_count": 101,
   "metadata": {},
   "outputs": [
    {
     "data": {
      "text/plain": [
       "'3.6.3 |Anaconda custom (64-bit)| (default, Oct 15 2017, 03:27:45) [MSC v.1900 64 bit (AMD64)]'"
      ]
     },
     "execution_count": 101,
     "metadata": {},
     "output_type": "execute_result"
    }
   ],
   "source": [
    "sys.version"
   ]
  },
  {
   "cell_type": "code",
   "execution_count": 102,
   "metadata": {},
   "outputs": [
    {
     "data": {
      "text/plain": [
       "'C:\\\\Users\\\\Zhenqi\\\\py_script'"
      ]
     },
     "execution_count": 102,
     "metadata": {},
     "output_type": "execute_result"
    }
   ],
   "source": [
    "os.getcwd()"
   ]
  },
  {
   "cell_type": "code",
   "execution_count": 107,
   "metadata": {},
   "outputs": [
    {
     "name": "stdout",
     "output_type": "stream",
     "text": [
      "Michael : 98\n"
     ]
    }
   ],
   "source": [
    "std1 = { 'name': 'Michael', 'score': 98 }\n",
    "std2 = { 'name': 'Bob', 'score': 81 }\n",
    "def print_score(std):\n",
    "    print(std['name'],':',std['score'])\n",
    "\n",
    "print_score(std1)"
   ]
  },
  {
   "cell_type": "code",
   "execution_count": null,
   "metadata": {
    "collapsed": true
   },
   "outputs": [],
   "source": [
    "a={''}"
   ]
  },
  {
   "cell_type": "code",
   "execution_count": 116,
   "metadata": {},
   "outputs": [
    {
     "name": "stdout",
     "output_type": "stream",
     "text": [
      "the tree is growing!\n",
      "there are 2 trees. tree1\n"
     ]
    }
   ],
   "source": [
    "class Forest(object):\n",
    "    \"\"\" Forest can grow trees which eventually die.\"\"\"\n",
    "    def __init__(self,name):\n",
    "        self.name=name\n",
    "    def grow(self):\n",
    "        print(\"the tree is growing!\")\n",
    "        \n",
    "    def number(self, num=1):\n",
    "        if num == 1:\n",
    "            print('there is 1 tree.')\n",
    "        else:\n",
    "            print('there are', num, 'trees.',self.name)\n",
    "tree1=Forest('tree1')\n",
    "tree1.grow()\n",
    "tree1.number(2)"
   ]
  },
  {
   "cell_type": "code",
   "execution_count": 117,
   "metadata": {
    "collapsed": true
   },
   "outputs": [],
   "source": [
    "import numpy as np\n",
    "\n",
    "class Forest(object):\n",
    "    \"\"\" Forest can grow trees which eventually die.\"\"\"\n",
    "    def __init__(self, size=(150,150)):\n",
    "        self.size = size\n",
    "        self.trees = np.zeros(self.size, dtype=bool)\n",
    "        self.fires = np.zeros((self.size), dtype=bool)\n",
    "        \n",
    "    def __repr__(self):\n",
    "        my_repr = \"{}(size={})\".format(self.__class__.__name__, self.size)\n",
    "        return my_repr\n",
    "    \n",
    "    def __str__(self):\n",
    "        return self.__class__.__name__"
   ]
  },
  {
   "cell_type": "code",
   "execution_count": 122,
   "metadata": {},
   "outputs": [
    {
     "name": "stdout",
     "output_type": "stream",
     "text": [
      "Forest\n"
     ]
    }
   ],
   "source": [
    "leaf=Forest((10,10))\n",
    "print(leaf)"
   ]
  },
  {
   "cell_type": "code",
   "execution_count": 131,
   "metadata": {
    "collapsed": true
   },
   "outputs": [],
   "source": [
    "class Leaf(object):\n",
    "    def __init__(self, mass_mg):\n",
    "        self.mass_mg = mass_mg\n",
    "    \n",
    "    # 这样 mass_oz 就变成属性了\n",
    "#    @property\n",
    "    def mass_oz(self):\n",
    "        return self.mass_mg * 3.53e-5"
   ]
  },
  {
   "cell_type": "code",
   "execution_count": 135,
   "metadata": {},
   "outputs": [
    {
     "name": "stdout",
     "output_type": "stream",
     "text": [
      "0.0035299999999999997\n"
     ]
    }
   ],
   "source": [
    "a=Leaf(200)\n",
    "a.mass_mg=100\n",
    "print(a.mass_oz())"
   ]
  },
  {
   "cell_type": "code",
   "execution_count": null,
   "metadata": {
    "collapsed": true
   },
   "outputs": [],
   "source": []
  }
 ],
 "metadata": {
  "kernelspec": {
   "display_name": "Python 3",
   "language": "python",
   "name": "python3"
  },
  "language_info": {
   "codemirror_mode": {
    "name": "ipython",
    "version": 3
   },
   "file_extension": ".py",
   "mimetype": "text/x-python",
   "name": "python",
   "nbconvert_exporter": "python",
   "pygments_lexer": "ipython3",
   "version": "3.6.3"
  }
 },
 "nbformat": 4,
 "nbformat_minor": 2
}
