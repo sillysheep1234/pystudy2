{
 "cells": [
  {
   "cell_type": "code",
   "execution_count": 39,
   "metadata": {
    "scrolled": false
   },
   "outputs": [
    {
     "name": "stdout",
     "output_type": "stream",
     "text": [
      "transaction_id\n",
      "update_flag\n",
      "transaction_status\n",
      "channel\n",
      "transaction_type\n",
      "transaction_sale_place\n",
      "transaction_sale_mode\n",
      "transaction_retail_type\n",
      "transaction_prod_qty\n",
      "payment\n",
      "retail_amount\n",
      "post_fee\n",
      "transaction_datetime\n",
      "goodreceive_datetime\n",
      "create_datetime\n",
      "modify_datetime\n",
      "marketing_program_id\n",
      "member_id\n",
      "buyer_nick\n",
      "consumer_type\n",
      "seller_nick\n",
      "store_id\n",
      "is_bycounter\n",
      "bc_id\n",
      "share_bc\n",
      "transaction_share_mode\n",
      "has_refund\n",
      "transaction_id_original\n",
      "refund_reason\n",
      "refund_desc\n",
      "refund_phase\n",
      "refund_version\n",
      "refund_fee\n",
      "transaction_products\n",
      "transaction_campaigns\n",
      "transaction_gifts\n"
     ]
    }
   ],
   "source": [
    "import json\n",
    "from pprint import pprint\n",
    "\n",
    "with open(\"linggo_eh_0704.txt\",encoding='utf-8') as f:\n",
    "    tc_json = json.load(f)\n",
    "\n",
    "#pprint(tc_json)\n",
    "\n",
    "for l3 in tc_json:\n",
    "    print(l3)\n",
    "\n",
    "#with open(\"tc_keys.txt\",'w',encoding='utf-8') as fw:\n",
    "#    for line in tc_json:\n",
    "#        fw.write(line+'\\n')\n",
    "#    \n",
    "#    fw.close()\n",
    "\n",
    "#pprint(info_from_file['age'])\n",
    "#type(info_from_file['ages for school'])"
   ]
  },
  {
   "cell_type": "code",
   "execution_count": 40,
   "metadata": {},
   "outputs": [
    {
     "name": "stdout",
     "output_type": "stream",
     "text": [
      "transaction_id|138817619989963464\n",
      "update_flag|I\n",
      "transaction_status|TRADE_FINISHED\n",
      "channel|Tmall\n",
      "transaction_type|normal\n",
      "transaction_sale_place|0\n",
      "transaction_sale_mode|0\n",
      "transaction_retail_type|1\n",
      "transaction_prod_qty|1\n",
      "payment|0.01\n",
      "retail_amount|0.01\n",
      "post_fee|0.00\n",
      "transaction_datetime|2018-04-26 11:27:54\n",
      "goodreceive_datetime|2018-04-30 09:28:42\n",
      "create_datetime|2018-04-26 11:27:54\n",
      "modify_datetime|2018-04-30 09:28:42\n",
      "marketing_program_id|38\n",
      "member_id|12341234123\n",
      "buyer_nick|AAFxz4OFAARizauWNUpP6Z9u\n",
      "consumer_type|\n",
      "seller_nick|leewentun\n",
      "store_id|8\n",
      "is_bycounter|\n",
      "bc_id|\n",
      "share_bc|\n",
      "transaction_share_mode|\n",
      "has_refund|0\n",
      "transaction_id_original|\n",
      "refund_reason|\n",
      "refund_desc|\n",
      "refund_phase|\n",
      "refund_version|\n",
      "refund_fee|\n",
      "transaction_products|[{'transaction_item_id': '38275581806_357', 'line_num': 1, 'Product_upc_id': '', 'product_num_id': '38275581806', 'product_sku_id': None, 'product_outer_id': None, 'product_name': '蓝调', 'product_qty': '1', 'porduct_real_amount': '0.01', 'porduct_retail_amount': '0.01', 'is_refund': 0, 'product_ship_datetime': '2018-04-26 11:28:17'}]\n",
      "transaction_campaigns|{'transaction_item_id': '', 'campaign_id': '', 'campaign_attend_qty': ''}\n",
      "transaction_gifts|{'transaction_item_id': '', 'gift_id': '', 'gift_qty': ''}\n"
     ]
    }
   ],
   "source": [
    "for key in tc_json.keys():\n",
    "    print('%s|%s' % (key,tc_json.get(key)))"
   ]
  },
  {
   "cell_type": "code",
   "execution_count": 37,
   "metadata": {},
   "outputs": [
    {
     "ename": "SyntaxError",
     "evalue": "invalid token (<ipython-input-37-a217e25208c4>, line 2)",
     "output_type": "error",
     "traceback": [
      "\u001b[1;36m  File \u001b[1;32m\"<ipython-input-37-a217e25208c4>\"\u001b[1;36m, line \u001b[1;32m2\u001b[0m\n\u001b[1;33m    1_json=json.load(x)\u001b[0m\n\u001b[1;37m     ^\u001b[0m\n\u001b[1;31mSyntaxError\u001b[0m\u001b[1;31m:\u001b[0m invalid token\n"
     ]
    }
   ],
   "source": [
    "x={'transaction_item_id':'','gift_id':'','gift_qty':''}\n",
    "1_json=json.load(x)\n",
    "for key in 1_json.keys():\n",
    "    print('%s|%s' % (key,1_json.get(key)))"
   ]
  },
  {
   "cell_type": "code",
   "execution_count": 38,
   "metadata": {},
   "outputs": [
    {
     "data": {
      "text/plain": [
       "{'campaign_attend_qty': '', 'campaign_id': '', 'transaction_item_id': ''}"
      ]
     },
     "execution_count": 38,
     "metadata": {},
     "output_type": "execute_result"
    }
   ],
   "source": [
    "tc_json['transaction_campaigns']"
   ]
  },
  {
   "cell_type": "code",
   "execution_count": 21,
   "metadata": {},
   "outputs": [
    {
     "ename": "AttributeError",
     "evalue": "'list' object has no attribute 'read'",
     "output_type": "error",
     "traceback": [
      "\u001b[1;31m---------------------------------------------------------------------------\u001b[0m",
      "\u001b[1;31mAttributeError\u001b[0m                            Traceback (most recent call last)",
      "\u001b[1;32m<ipython-input-21-7e2e17b08a4c>\u001b[0m in \u001b[0;36m<module>\u001b[1;34m()\u001b[0m\n\u001b[1;32m----> 1\u001b[1;33m \u001b[0mtc2_json\u001b[0m \u001b[1;33m=\u001b[0m \u001b[0mjson\u001b[0m\u001b[1;33m.\u001b[0m\u001b[0mload\u001b[0m\u001b[1;33m(\u001b[0m\u001b[0mtc_json\u001b[0m\u001b[1;33m[\u001b[0m\u001b[1;34m'transaction_products'\u001b[0m\u001b[1;33m]\u001b[0m\u001b[1;33m)\u001b[0m\u001b[1;33m\u001b[0m\u001b[0m\n\u001b[0m\u001b[0;32m      2\u001b[0m \u001b[1;33m\u001b[0m\u001b[0m\n",
      "\u001b[1;32mD:\\Anaconda3\\lib\\json\\__init__.py\u001b[0m in \u001b[0;36mload\u001b[1;34m(fp, cls, object_hook, parse_float, parse_int, parse_constant, object_pairs_hook, **kw)\u001b[0m\n\u001b[0;32m    294\u001b[0m \u001b[1;33m\u001b[0m\u001b[0m\n\u001b[0;32m    295\u001b[0m     \"\"\"\n\u001b[1;32m--> 296\u001b[1;33m     return loads(fp.read(),\n\u001b[0m\u001b[0;32m    297\u001b[0m         \u001b[0mcls\u001b[0m\u001b[1;33m=\u001b[0m\u001b[0mcls\u001b[0m\u001b[1;33m,\u001b[0m \u001b[0mobject_hook\u001b[0m\u001b[1;33m=\u001b[0m\u001b[0mobject_hook\u001b[0m\u001b[1;33m,\u001b[0m\u001b[1;33m\u001b[0m\u001b[0m\n\u001b[0;32m    298\u001b[0m         \u001b[0mparse_float\u001b[0m\u001b[1;33m=\u001b[0m\u001b[0mparse_float\u001b[0m\u001b[1;33m,\u001b[0m \u001b[0mparse_int\u001b[0m\u001b[1;33m=\u001b[0m\u001b[0mparse_int\u001b[0m\u001b[1;33m,\u001b[0m\u001b[1;33m\u001b[0m\u001b[0m\n",
      "\u001b[1;31mAttributeError\u001b[0m: 'list' object has no attribute 'read'"
     ]
    }
   ],
   "source": [
    "tc2_json = json.load(tc_json['transaction_products'])"
   ]
  },
  {
   "cell_type": "code",
   "execution_count": 9,
   "metadata": {},
   "outputs": [
    {
     "name": "stdout",
     "output_type": "stream",
     "text": [
      "24\t15\t['python', 'matlab', 'java', 'c', 'c++', 'ruby', 'scala']\t['sports', 'reading']\tFalse\techo\n",
      "34\t15\t['python2', 'matlab2', 'java2', 'c2', 'c++2', 'ruby2', 'scala2']\t['sports', 'reading']\tFalse\techo2\n"
     ]
    }
   ],
   "source": [
    "# -*- coding: utf-8 -*-\n",
    "import json   \n",
    "f = open('status.json','r',encoding='utf-8')\n",
    "fw = open('json_csv_2.csv','w',encoding='utf-8')\n",
    "f_json = json.load(f)\n",
    "fw.write('age'+'\\t'+'high school age'+'\\t'+'coding skills'+'\\t'+'hobby'+'\\t'+'married'+'\\t'+'name' + '\\n')\n",
    "for l1 in f_json:\n",
    "    age=l1['age']\n",
    "    high_school_age=l1['ages for school']['high school']\n",
    "    coding_skills=l1['coding skills']\n",
    "    hobby=l1['hobby']\n",
    "    married=l1['married']\n",
    "    name=l1['name']\n",
    "    line=str(age)+'\\t'+str(high_school_age)+'\\t'+str(coding_skills)+'\\t'+str(hobby)+'\\t'+str(married)+'\\t'+str(name)\n",
    "    print(line)\n",
    "    fw.write(line+'\\n')\n",
    "fw.close()\n",
    "\n"
   ]
  },
  {
   "cell_type": "code",
   "execution_count": 56,
   "metadata": {},
   "outputs": [
    {
     "data": {
      "text/plain": [
       "[{'trial_item_id': 3453547, 'trial_item_product_id': 137, 'trial_item_qty': 1}]"
      ]
     },
     "execution_count": 56,
     "metadata": {},
     "output_type": "execute_result"
    }
   ],
   "source": [
    "import json   \n",
    "f = open('tc_json_0627_v2.txt','r',encoding='utf-8')\n",
    "#fw = open('tc_output','w',encoding='utf-8')\n",
    "f_json = json.load(f)\n",
    "type(f_json)\n",
    "#for k in f_json.keys():\n",
    "#    print(k)\n",
    "f_json['trial_items']\n",
    "#    age=l1['age']\n",
    "#    high_school_age=l1['ages for school']['high school']\n",
    "#    coding_skills=l1['coding skills']\n",
    "#    hobby=l1['hobby']\n",
    "#    married=l1['married']\n",
    "#    name=l1['name']\n",
    "#    line=str(age)+'\\t'+str(high_school_age)+'\\t'+str(coding_skills)+'\\t'+str(hobby)+'\\t'+str(married)+'\\t'+str(name)\n",
    "#    print(line)\n",
    "#    fw.write(line+'\\n')\n",
    "#fw.close()"
   ]
  },
  {
   "cell_type": "code",
   "execution_count": 71,
   "metadata": {
    "scrolled": true
   },
   "outputs": [
    {
     "name": "stdout",
     "output_type": "stream",
     "text": [
      "age\thigh school age\tcoding skills\thobby\tmarried\tname\n",
      "24\t15\t['python', 'matlab', 'java', 'c', 'c++', 'ruby', 'scala']\t['sports', 'reading']\tFalse\techo\n",
      "34\t15\t['python2', 'matlab2', 'java2', 'c2', 'c++2', 'ruby2', 'scala2']\t['sports', 'reading']\tFalse\techo2\n",
      "\n"
     ]
    }
   ],
   "source": [
    "with open('json_csv_2.csv', 'r',encoding='utf-8') as f:\n",
    "    print(f.read())"
   ]
  },
  {
   "cell_type": "code",
   "execution_count": 1,
   "metadata": {},
   "outputs": [
    {
     "name": "stdout",
     "output_type": "stream",
     "text": [
      " 驱动器 C 中的卷没有标签。\n",
      " 卷的序列号是 D620-CD7D\n",
      "\n",
      " C:\\Users\\Black\\Python_Script\\json解析 的目录\n",
      "\n",
      "2018/04/28  12:35    <DIR>          .\n",
      "2018/04/28  12:35    <DIR>          ..\n",
      "2018/04/28  12:35    <DIR>          .ipynb_checkpoints\n",
      "2018/03/03  23:17             4,017 JSON 解析.ipynb\n",
      "2018/03/03  23:13               258 json_csv_2.csv\n",
      "2018/03/03  23:05               517 status.json\n",
      "               3 个文件          4,792 字节\n",
      "               3 个目录  6,275,837,952 可用字节\n"
     ]
    }
   ],
   "source": [
    "%ls"
   ]
  },
  {
   "cell_type": "code",
   "execution_count": null,
   "metadata": {
    "collapsed": true
   },
   "outputs": [],
   "source": []
  }
 ],
 "metadata": {
  "kernelspec": {
   "display_name": "Python 3",
   "language": "python",
   "name": "python3"
  },
  "language_info": {
   "codemirror_mode": {
    "name": "ipython",
    "version": 3
   },
   "file_extension": ".py",
   "mimetype": "text/x-python",
   "name": "python",
   "nbconvert_exporter": "python",
   "pygments_lexer": "ipython3",
   "version": "3.6.3"
  }
 },
 "nbformat": 4,
 "nbformat_minor": 2
}
