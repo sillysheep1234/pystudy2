{
 "cells": [
  {
   "cell_type": "code",
   "execution_count": 62,
   "metadata": {},
   "outputs": [
    {
     "name": "stdout",
     "output_type": "stream",
     "text": [
      "[{'age': 24,\n",
      "  'ages for school': {'high school': 15,\n",
      "                      'middle school': 9,\n",
      "                      'primary school': 6,\n",
      "                      'university': 18},\n",
      "  'coding skills': ['python', 'matlab', 'java', 'c', 'c++', 'ruby', 'scala'],\n",
      "  'hobby': ['sports', 'reading'],\n",
      "  'married': False,\n",
      "  'name': 'echo'},\n",
      " {'age': 34,\n",
      "  'ages for school': {'high school': 15,\n",
      "                      'middle school': 9,\n",
      "                      'primary school': 6,\n",
      "                      'university': 18},\n",
      "  'coding skills': ['python2',\n",
      "                    'matlab2',\n",
      "                    'java2',\n",
      "                    'c2',\n",
      "                    'c++2',\n",
      "                    'ruby2',\n",
      "                    'scala2'],\n",
      "  'hobby': ['sports', 'reading'],\n",
      "  'married': False,\n",
      "  'name': 'echo2'}]\n"
     ]
    }
   ],
   "source": [
    "import json\n",
    "from pprint import pprint\n",
    "\n",
    "with open(\"tc_json_180627\",encoding='utf-8') as f:\n",
    "    info_from_file = json.load(f)\n",
    "    \n",
    "pprint(info_from_file)\n",
    "\n",
    "#pprint(info_from_file['age'])\n",
    "#type(info_from_file['ages for school'])"
   ]
  },
  {
   "cell_type": "code",
   "execution_count": 69,
   "metadata": {},
   "outputs": [
    {
     "name": "stdout",
     "output_type": "stream",
     "text": [
      "24\t15\t['python', 'matlab', 'java', 'c', 'c++', 'ruby', 'scala']\t['sports', 'reading']\tFalse\techo\n",
      "34\t15\t['python2', 'matlab2', 'java2', 'c2', 'c++2', 'ruby2', 'scala2']\t['sports', 'reading']\tFalse\techo2\n"
     ]
    }
   ],
   "source": [
    "# -*- coding: utf-8 -*-\n",
    "\n",
    "import json   \n",
    "f = open('status.json','r',encoding='utf-8')\n",
    "fw = open('json_csv_2.csv','w',encoding='utf-8')\n",
    "f_json = json.load(f)\n",
    "fw.write('age'+'\\t'+'high school age'+'\\t'+'coding skills'+'\\t'+'hobby'+'\\t'+'married'+'\\t'+'name' + '\\n')\n",
    "for l1 in f_json:\n",
    "    age=l1['age']\n",
    "    high_school_age=l1['ages for school']['high school']\n",
    "    coding_skills=l1['coding skills']\n",
    "    hobby=l1['hobby']\n",
    "    married=l1['married']\n",
    "    name=l1['name']\n",
    "    line=str(age)+'\\t'+str(high_school_age)+'\\t'+str(coding_skills)+'\\t'+str(hobby)+'\\t'+str(married)+'\\t'+str(name)\n",
    "    print(line)\n",
    "    fw.write(line+'\\n')\n",
    "fw.close()\n",
    "\n"
   ]
  },
  {
   "cell_type": "code",
   "execution_count": 71,
   "metadata": {},
   "outputs": [
    {
     "name": "stdout",
     "output_type": "stream",
     "text": [
      "age\thigh school age\tcoding skills\thobby\tmarried\tname\n",
      "24\t15\t['python', 'matlab', 'java', 'c', 'c++', 'ruby', 'scala']\t['sports', 'reading']\tFalse\techo\n",
      "34\t15\t['python2', 'matlab2', 'java2', 'c2', 'c++2', 'ruby2', 'scala2']\t['sports', 'reading']\tFalse\techo2\n",
      "\n"
     ]
    }
   ],
   "source": [
    "with open('json_csv_2.csv', 'r',encoding='utf-8') as f:\n",
    "    print(f.read())"
   ]
  },
  {
   "cell_type": "code",
   "execution_count": 1,
   "metadata": {},
   "outputs": [
    {
     "name": "stdout",
     "output_type": "stream",
     "text": [
      " 驱动器 C 中的卷没有标签。\n",
      " 卷的序列号是 D620-CD7D\n",
      "\n",
      " C:\\Users\\Black\\Python_Script\\json解析 的目录\n",
      "\n",
      "2018/04/28  12:35    <DIR>          .\n",
      "2018/04/28  12:35    <DIR>          ..\n",
      "2018/04/28  12:35    <DIR>          .ipynb_checkpoints\n",
      "2018/03/03  23:17             4,017 JSON 解析.ipynb\n",
      "2018/03/03  23:13               258 json_csv_2.csv\n",
      "2018/03/03  23:05               517 status.json\n",
      "               3 个文件          4,792 字节\n",
      "               3 个目录  6,275,837,952 可用字节\n"
     ]
    }
   ],
   "source": [
    "%ls"
   ]
  },
  {
   "cell_type": "code",
   "execution_count": null,
   "metadata": {
    "collapsed": true
   },
   "outputs": [],
   "source": []
  }
 ],
 "metadata": {
  "kernelspec": {
   "display_name": "Python 3",
   "language": "python",
   "name": "python3"
  },
  "language_info": {
   "codemirror_mode": {
    "name": "ipython",
    "version": 3
   },
   "file_extension": ".py",
   "mimetype": "text/x-python",
   "name": "python",
   "nbconvert_exporter": "python",
   "pygments_lexer": "ipython3",
   "version": "3.6.3"
  }
 },
 "nbformat": 4,
 "nbformat_minor": 2
}
