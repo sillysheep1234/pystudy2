{
 "cells": [
  {
   "cell_type": "code",
   "execution_count": 78,
   "metadata": {},
   "outputs": [
    {
     "data": {
      "text/plain": [
       "                member_id        date  amount  payment\n",
       "transaction_id                                        \n",
       "1                   10004  2017-03-12      14      552\n",
       "2                   10004  2017-04-09       7      608\n",
       "3                   10007  2017-04-27      17       89\n",
       "4                   10008  2017-04-24       8      602\n",
       "5                   10011  2017-03-09      11      275"
      ]
     },
     "execution_count": 78,
     "metadata": {},
     "output_type": "execute_result"
    }
   ],
   "source": [
    "import pandas as pd\n",
    "df = pd.read_csv('transaction_data_v2.txt', index_col=0)\n",
    "df.head()"
   ]
  },
  {
   "cell_type": "code",
   "execution_count": 3,
   "metadata": {},
   "outputs": [
    {
     "data": {
      "text/plain": [
       "member_id\n",
       "10001    2017-03-13\n",
       "10002    2017-03-12\n",
       "10003    2017-03-04\n",
       "10004    2017-03-06\n",
       "10005    2017-03-10\n",
       "Name: date, dtype: object"
      ]
     },
     "execution_count": 3,
     "metadata": {},
     "output_type": "execute_result"
    }
   ],
   "source": [
    "#分用户最初购买时间\n",
    "df2=df.groupby('member_id').date.min()\n",
    "df3=df.groupby('member_id').date.max()\n",
    "df2.head()"
   ]
  },
  {
   "cell_type": "code",
   "execution_count": 4,
   "metadata": {},
   "outputs": [
    {
     "data": {
      "text/plain": [
       "member_id\n",
       "10001    2017-04-19\n",
       "10002    2017-04-24\n",
       "10003    2017-03-31\n",
       "10004    2017-04-09\n",
       "10005    2017-04-16\n",
       "Name: date, dtype: object"
      ]
     },
     "execution_count": 4,
     "metadata": {},
     "output_type": "execute_result"
    }
   ],
   "source": [
    "df3.head()"
   ]
  },
  {
   "cell_type": "code",
   "execution_count": 9,
   "metadata": {},
   "outputs": [
    {
     "data": {
      "text/plain": [
       "member_id\n",
       "10001    3\n",
       "10002    7\n",
       "10003    3\n",
       "10004    4\n",
       "10005    6\n",
       "Name: date, dtype: int64"
      ]
     },
     "execution_count": 9,
     "metadata": {},
     "output_type": "execute_result"
    }
   ],
   "source": [
    "#分用户购买次数\n",
    "df4=df.groupby('member_id').date.count()\n",
    "df4.head()"
   ]
  },
  {
   "cell_type": "code",
   "execution_count": 27,
   "metadata": {},
   "outputs": [
    {
     "data": {
      "text/html": [
       "<div>\n",
       "<style>\n",
       "    .dataframe thead tr:only-child th {\n",
       "        text-align: right;\n",
       "    }\n",
       "\n",
       "    .dataframe thead th {\n",
       "        text-align: left;\n",
       "    }\n",
       "\n",
       "    .dataframe tbody tr th {\n",
       "        vertical-align: top;\n",
       "    }\n",
       "</style>\n",
       "<table border=\"1\" class=\"dataframe\">\n",
       "  <thead>\n",
       "    <tr style=\"text-align: right;\">\n",
       "      <th></th>\n",
       "      <th>max_date</th>\n",
       "      <th>min_date</th>\n",
       "      <th>times</th>\n",
       "      <th>std_min_date</th>\n",
       "      <th>std_max_date</th>\n",
       "      <th>average_interval</th>\n",
       "    </tr>\n",
       "    <tr>\n",
       "      <th>member_id</th>\n",
       "      <th></th>\n",
       "      <th></th>\n",
       "      <th></th>\n",
       "      <th></th>\n",
       "      <th></th>\n",
       "      <th></th>\n",
       "    </tr>\n",
       "  </thead>\n",
       "  <tbody>\n",
       "    <tr>\n",
       "      <th>10001</th>\n",
       "      <td>2017-04-19</td>\n",
       "      <td>2017-03-13</td>\n",
       "      <td>3</td>\n",
       "      <td>2017-03-13</td>\n",
       "      <td>2017-04-19</td>\n",
       "      <td>18 days 12:00:00</td>\n",
       "    </tr>\n",
       "    <tr>\n",
       "      <th>10002</th>\n",
       "      <td>2017-04-24</td>\n",
       "      <td>2017-03-12</td>\n",
       "      <td>7</td>\n",
       "      <td>2017-03-12</td>\n",
       "      <td>2017-04-24</td>\n",
       "      <td>7 days 04:00:00</td>\n",
       "    </tr>\n",
       "    <tr>\n",
       "      <th>10003</th>\n",
       "      <td>2017-03-31</td>\n",
       "      <td>2017-03-04</td>\n",
       "      <td>3</td>\n",
       "      <td>2017-03-04</td>\n",
       "      <td>2017-03-31</td>\n",
       "      <td>13 days 12:00:00</td>\n",
       "    </tr>\n",
       "    <tr>\n",
       "      <th>10004</th>\n",
       "      <td>2017-04-09</td>\n",
       "      <td>2017-03-06</td>\n",
       "      <td>4</td>\n",
       "      <td>2017-03-06</td>\n",
       "      <td>2017-04-09</td>\n",
       "      <td>11 days 08:00:00</td>\n",
       "    </tr>\n",
       "    <tr>\n",
       "      <th>10005</th>\n",
       "      <td>2017-04-16</td>\n",
       "      <td>2017-03-10</td>\n",
       "      <td>6</td>\n",
       "      <td>2017-03-10</td>\n",
       "      <td>2017-04-16</td>\n",
       "      <td>7 days 09:36:00</td>\n",
       "    </tr>\n",
       "  </tbody>\n",
       "</table>\n",
       "</div>"
      ],
      "text/plain": [
       "             max_date    min_date  times std_min_date std_max_date  \\\n",
       "member_id                                                            \n",
       "10001      2017-04-19  2017-03-13      3   2017-03-13   2017-04-19   \n",
       "10002      2017-04-24  2017-03-12      7   2017-03-12   2017-04-24   \n",
       "10003      2017-03-31  2017-03-04      3   2017-03-04   2017-03-31   \n",
       "10004      2017-04-09  2017-03-06      4   2017-03-06   2017-04-09   \n",
       "10005      2017-04-16  2017-03-10      6   2017-03-10   2017-04-16   \n",
       "\n",
       "          average_interval  \n",
       "member_id                   \n",
       "10001     18 days 12:00:00  \n",
       "10002      7 days 04:00:00  \n",
       "10003     13 days 12:00:00  \n",
       "10004     11 days 08:00:00  \n",
       "10005      7 days 09:36:00  "
      ]
     },
     "execution_count": 27,
     "metadata": {},
     "output_type": "execute_result"
    }
   ],
   "source": [
    "d = {'min_date' : df2,\n",
    "     'max_date' : df3,\n",
    "        'times':df4,}\n",
    "dg = pd.DataFrame(d)\n",
    "dg['std_min_date']=pd.to_datetime(dg.min_date,format='%Y-%m-%d')\n",
    "dg['std_max_date']=pd.to_datetime(dg.max_date,format='%Y-%m-%d')\n",
    "dg['average_interval']=(dg.std_max_date-dg.std_min_date)/(dg.times-1)\n",
    "dg.head()"
   ]
  },
  {
   "cell_type": "code",
   "execution_count": 41,
   "metadata": {
    "scrolled": true
   },
   "outputs": [
    {
     "data": {
      "text/html": [
       "<div>\n",
       "<style>\n",
       "    .dataframe thead tr:only-child th {\n",
       "        text-align: right;\n",
       "    }\n",
       "\n",
       "    .dataframe thead th {\n",
       "        text-align: left;\n",
       "    }\n",
       "\n",
       "    .dataframe tbody tr th {\n",
       "        vertical-align: top;\n",
       "    }\n",
       "</style>\n",
       "<table border=\"1\" class=\"dataframe\">\n",
       "  <thead>\n",
       "    <tr style=\"text-align: right;\">\n",
       "      <th></th>\n",
       "      <th>max_date</th>\n",
       "      <th>min_date</th>\n",
       "      <th>times</th>\n",
       "      <th>std_min_date</th>\n",
       "      <th>std_max_date</th>\n",
       "      <th>average_interval</th>\n",
       "      <th>average_interval_days</th>\n",
       "    </tr>\n",
       "    <tr>\n",
       "      <th>member_id</th>\n",
       "      <th></th>\n",
       "      <th></th>\n",
       "      <th></th>\n",
       "      <th></th>\n",
       "      <th></th>\n",
       "      <th></th>\n",
       "      <th></th>\n",
       "    </tr>\n",
       "  </thead>\n",
       "  <tbody>\n",
       "    <tr>\n",
       "      <th>10001</th>\n",
       "      <td>2017-04-19</td>\n",
       "      <td>2017-03-13</td>\n",
       "      <td>3</td>\n",
       "      <td>2017-03-13</td>\n",
       "      <td>2017-04-19</td>\n",
       "      <td>18 days 12:00:00</td>\n",
       "      <td>18</td>\n",
       "    </tr>\n",
       "    <tr>\n",
       "      <th>10002</th>\n",
       "      <td>2017-04-24</td>\n",
       "      <td>2017-03-12</td>\n",
       "      <td>7</td>\n",
       "      <td>2017-03-12</td>\n",
       "      <td>2017-04-24</td>\n",
       "      <td>7 days 04:00:00</td>\n",
       "      <td>7</td>\n",
       "    </tr>\n",
       "    <tr>\n",
       "      <th>10003</th>\n",
       "      <td>2017-03-31</td>\n",
       "      <td>2017-03-04</td>\n",
       "      <td>3</td>\n",
       "      <td>2017-03-04</td>\n",
       "      <td>2017-03-31</td>\n",
       "      <td>13 days 12:00:00</td>\n",
       "      <td>13</td>\n",
       "    </tr>\n",
       "    <tr>\n",
       "      <th>10004</th>\n",
       "      <td>2017-04-09</td>\n",
       "      <td>2017-03-06</td>\n",
       "      <td>4</td>\n",
       "      <td>2017-03-06</td>\n",
       "      <td>2017-04-09</td>\n",
       "      <td>11 days 08:00:00</td>\n",
       "      <td>11</td>\n",
       "    </tr>\n",
       "    <tr>\n",
       "      <th>10005</th>\n",
       "      <td>2017-04-16</td>\n",
       "      <td>2017-03-10</td>\n",
       "      <td>6</td>\n",
       "      <td>2017-03-10</td>\n",
       "      <td>2017-04-16</td>\n",
       "      <td>7 days 09:36:00</td>\n",
       "      <td>7</td>\n",
       "    </tr>\n",
       "  </tbody>\n",
       "</table>\n",
       "</div>"
      ],
      "text/plain": [
       "             max_date    min_date  times std_min_date std_max_date  \\\n",
       "member_id                                                            \n",
       "10001      2017-04-19  2017-03-13      3   2017-03-13   2017-04-19   \n",
       "10002      2017-04-24  2017-03-12      7   2017-03-12   2017-04-24   \n",
       "10003      2017-03-31  2017-03-04      3   2017-03-04   2017-03-31   \n",
       "10004      2017-04-09  2017-03-06      4   2017-03-06   2017-04-09   \n",
       "10005      2017-04-16  2017-03-10      6   2017-03-10   2017-04-16   \n",
       "\n",
       "          average_interval  average_interval_days  \n",
       "member_id                                          \n",
       "10001     18 days 12:00:00                     18  \n",
       "10002      7 days 04:00:00                      7  \n",
       "10003     13 days 12:00:00                     13  \n",
       "10004     11 days 08:00:00                     11  \n",
       "10005      7 days 09:36:00                      7  "
      ]
     },
     "execution_count": 41,
     "metadata": {},
     "output_type": "execute_result"
    }
   ],
   "source": [
    "#分平均购买间隔的用户数\n",
    "import numpy as np\n",
    "dg['average_interval_days']=(dg.average_interval / np.timedelta64(1, 'D')).astype(int)\n",
    "dg.head()"
   ]
  },
  {
   "cell_type": "code",
   "execution_count": 52,
   "metadata": {
    "scrolled": true
   },
   "outputs": [
    {
     "data": {
      "text/plain": [
       "<matplotlib.axes._subplots.AxesSubplot at 0xa539be0>"
      ]
     },
     "execution_count": 52,
     "metadata": {},
     "output_type": "execute_result"
    },
    {
     "data": {
      "image/png": "[encoded data removed]",
      "text/plain": [
       "<matplotlib.figure.Figure at 0xa4dceb8>"
      ]
     },
     "metadata": {},
     "output_type": "display_data"
    }
   ],
   "source": [
    "#作图\n",
    "dg.groupby('average_interval_days').times.count()\n",
    "import pandas as pd\n",
    "import numpy as np\n",
    "import matplotlib as mpl\n",
    "from matplotlib.pyplot import plot\n",
    "normals = pd.Series(dg.groupby('average_interval_days').times.count())\n",
    "normals.plot()"
   ]
  },
  {
   "cell_type": "code",
   "execution_count": 55,
   "metadata": {},
   "outputs": [
    {
     "data": {
      "text/plain": [
       "average_interval_days\n",
       "6     2\n",
       "7     2\n",
       "8     2\n",
       "9     4\n",
       "11    1\n",
       "12    1\n",
       "13    2\n",
       "14    1\n",
       "18    3\n",
       "19    1\n",
       "35    1\n",
       "Name: times, dtype: int64"
      ]
     },
     "execution_count": 55,
     "metadata": {},
     "output_type": "execute_result"
    }
   ],
   "source": [
    "dg.groupby('average_interval_days').times.count()"
   ]
  },
  {
   "cell_type": "code",
   "execution_count": 72,
   "metadata": {
    "collapsed": true
   },
   "outputs": [],
   "source": [
    "iter_s=[]\n",
    "for x in dg.average_interval:\n",
    "    m=(x/ np.timedelta64(1, 'D')).astype(int)\n",
    "    if m<=5:\n",
    "        iter_s.append('1~5 days')\n",
    "    elif m<=15:\n",
    "        iter_s.append('6~15 days')\n",
    "    elif m<=30:\n",
    "        iter_s.append('16~30 days')\n",
    "    else:\n",
    "        iter_s.append('30+ days')\n",
    "\n",
    "dg['interval']=iter_s\n"
   ]
  },
  {
   "cell_type": "code",
   "execution_count": 73,
   "metadata": {},
   "outputs": [
    {
     "data": {
      "text/plain": [
       "             max_date    min_date  times std_min_date std_max_date  \\\n",
       "member_id                                                            \n",
       "10001      2017-04-19  2017-03-13      3   2017-03-13   2017-04-19   \n",
       "10002      2017-04-24  2017-03-12      7   2017-03-12   2017-04-24   \n",
       "10003      2017-03-31  2017-03-04      3   2017-03-04   2017-03-31   \n",
       "10004      2017-04-09  2017-03-06      4   2017-03-06   2017-04-09   \n",
       "10005      2017-04-16  2017-03-10      6   2017-03-10   2017-04-16   \n",
       "10006      2017-04-30  2017-03-03      7   2017-03-03   2017-04-30   \n",
       "10007      2017-04-27  2017-03-02      4   2017-03-02   2017-04-27   \n",
       "10008      2017-04-24  2017-03-07      5   2017-03-07   2017-04-24   \n",
       "10009      2017-04-25  2017-03-01      4   2017-03-01   2017-04-25   \n",
       "10010      2017-04-07  2017-03-03      2   2017-03-03   2017-04-07   \n",
       "10011      2017-04-20  2017-03-09      4   2017-03-09   2017-04-20   \n",
       "10012      2017-04-26  2017-03-05      9   2017-03-05   2017-04-26   \n",
       "10013      2017-04-27  2017-03-13      6   2017-03-13   2017-04-27   \n",
       "10014      2017-04-30  2017-03-03      8   2017-03-03   2017-04-30   \n",
       "10015      2017-04-21  2017-03-14      3   2017-03-14   2017-04-21   \n",
       "10016      2017-04-21  2017-03-15      5   2017-03-15   2017-04-21   \n",
       "10017      2017-04-15  2017-03-20      3   2017-03-20   2017-04-15   \n",
       "10018      2017-04-29  2017-03-06      7   2017-03-06   2017-04-29   \n",
       "10019      2017-04-14  2017-03-27      4   2017-03-27   2017-04-14   \n",
       "10020      2017-04-16  2017-03-07      6   2017-03-07   2017-04-16   \n",
       "\n",
       "                average_interval  average_interval_days  \\\n",
       "member_id                                                 \n",
       "10001           18 days 12:00:00                     18   \n",
       "10002            7 days 04:00:00                      7   \n",
       "10003           13 days 12:00:00                     13   \n",
       "10004           11 days 08:00:00                     11   \n",
       "10005            7 days 09:36:00                      7   \n",
       "10006            9 days 16:00:00                      9   \n",
       "10007           18 days 16:00:00                     18   \n",
       "10008           12 days 00:00:00                     12   \n",
       "10009           18 days 08:00:00                     18   \n",
       "10010           35 days 00:00:00                     35   \n",
       "10011           14 days 00:00:00                     14   \n",
       "10012            6 days 12:00:00                      6   \n",
       "10013            9 days 00:00:00                      9   \n",
       "10014     8 days 06:51:25.714285                      8   \n",
       "10015           19 days 00:00:00                     19   \n",
       "10016            9 days 06:00:00                      9   \n",
       "10017           13 days 00:00:00                     13   \n",
       "10018            9 days 00:00:00                      9   \n",
       "10019            6 days 00:00:00                      6   \n",
       "10020            8 days 00:00:00                      8   \n",
       "\n",
       "          average_interval_days_2    interval  \n",
       "member_id                                      \n",
       "10001                  16~30 days  16~30 days  \n",
       "10002                   6~15 days   6~15 days  \n",
       "10003                   6~15 days   6~15 days  \n",
       "10004                   6~15 days   6~15 days  \n",
       "10005                   6~15 days   6~15 days  \n",
       "10006                   6~15 days   6~15 days  \n",
       "10007                  16~30 days  16~30 days  \n",
       "10008                   6~15 days   6~15 days  \n",
       "10009                  16~30 days  16~30 days  \n",
       "10010                    30+ days    30+ days  \n",
       "10011                   6~15 days   6~15 days  \n",
       "10012                   6~15 days   6~15 days  \n",
       "10013                   6~15 days   6~15 days  \n",
       "10014                   6~15 days   6~15 days  \n",
       "10015                  16~30 days  16~30 days  \n",
       "10016                   6~15 days   6~15 days  \n",
       "10017                   6~15 days   6~15 days  \n",
       "10018                   6~15 days   6~15 days  \n",
       "10019                   6~15 days   6~15 days  \n",
       "10020                   6~15 days   6~15 days  "
      ]
     },
     "execution_count": 73,
     "metadata": {},
     "output_type": "execute_result"
    }
   ],
   "source": [
    "dg"
   ]
  },
  {
   "cell_type": "code",
   "execution_count": 67,
   "metadata": {},
   "outputs": [
    {
     "data": {
      "text/plain": [
       "Index(['max_date', 'min_date', 'times', 'std_min_date', 'std_max_date',\n",
       "       'average_interval', 'average_interval_days', 'average_interval_days_2'],\n",
       "      dtype='object')"
      ]
     },
     "execution_count": 67,
     "metadata": {},
     "output_type": "execute_result"
    }
   ],
   "source": [
    "dg.columns"
   ]
  },
  {
   "cell_type": "code",
   "execution_count": null,
   "metadata": {
    "collapsed": true
   },
   "outputs": [],
   "source": []
  }
 ],
 "metadata": {
  "kernelspec": {
   "display_name": "Python 3",
   "language": "python",
   "name": "python3"
  },
  "language_info": {
   "codemirror_mode": {
    "name": "ipython",
    "version": 3
   },
   "file_extension": ".py",
   "mimetype": "text/x-python",
   "name": "python",
   "nbconvert_exporter": "python",
   "pygments_lexer": "ipython3",
   "version": "3.6.3"
  }
 },
 "nbformat": 4,
 "nbformat_minor": 2
}
