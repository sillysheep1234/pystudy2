{
 "cells": [
  {
   "cell_type": "code",
   "execution_count": 7,
   "metadata": {},
   "outputs": [
    {
     "name": "stdout",
     "output_type": "stream",
     "text": [
      "hello\n"
     ]
    },
    {
     "data": {
      "text/plain": [
       "'hello'"
      ]
     },
     "execution_count": 7,
     "metadata": {},
     "output_type": "execute_result"
    }
   ],
   "source": [
    "a='hello's = \"hello world\"\n",
    "s.split()\n",
    "print(a)\n",
    "a"
   ]
  },
  {
   "cell_type": "code",
   "execution_count": 11,
   "metadata": {},
   "outputs": [
    {
     "data": {
      "text/plain": [
       "['he', '', 'o wor', 'd']"
      ]
     },
     "execution_count": 11,
     "metadata": {},
     "output_type": "execute_result"
    }
   ],
   "source": [
    "s = \"hello world\"\n",
    "s.split('l')"
   ]
  },
  {
   "cell_type": "code",
   "execution_count": 126,
   "metadata": {
    "scrolled": true
   },
   "outputs": [
    {
     "data": {
      "text/plain": [
       "[1, 2, 'hello', 6.1, 5, 1, 2, 'hello', 6.1, 5]"
      ]
     },
     "execution_count": 126,
     "metadata": {},
     "output_type": "execute_result"
    }
   ],
   "source": [
    "a = list([1, 2, 'hello', 5 + 1.1])\n",
    "a+a\n",
    "a.append(5)\n",
    "a+a"
   ]
  },
  {
   "cell_type": "code",
   "execution_count": 31,
   "metadata": {},
   "outputs": [
    {
     "data": {
      "text/plain": [
       "['x', 'y']"
      ]
     },
     "execution_count": 31,
     "metadata": {},
     "output_type": "execute_result"
    }
   ],
   "source": [
    "a=['x','y']\n",
    "a"
   ]
  },
  {
   "cell_type": "code",
   "execution_count": 70,
   "metadata": {},
   "outputs": [
    {
     "data": {
      "text/plain": [
       "[1, 2, 3, 4, 5]"
      ]
     },
     "execution_count": 70,
     "metadata": {},
     "output_type": "execute_result"
    }
   ],
   "source": [
    "s=[1,2,3,4]\n",
    "s.append(5)\n",
    "s"
   ]
  },
  {
   "cell_type": "code",
   "execution_count": 73,
   "metadata": {},
   "outputs": [
    {
     "data": {
      "text/plain": [
       "[1, 2, 3, 4, 5]"
      ]
     },
     "execution_count": 73,
     "metadata": {},
     "output_type": "execute_result"
    }
   ],
   "source": [
    "b=[1,2,3,4]\n",
    "b.append(5)\n",
    "b"
   ]
  },
  {
   "cell_type": "code",
   "execution_count": 66,
   "metadata": {
    "scrolled": true
   },
   "outputs": [
    {
     "ename": "TypeError",
     "evalue": "unsupported operand type(s) for &: 'list' and 'list'",
     "output_type": "error",
     "traceback": [
      "\u001b[1;31m---------------------------------------------------------------------------\u001b[0m",
      "\u001b[1;31mTypeError\u001b[0m                                 Traceback (most recent call last)",
      "\u001b[1;32m<ipython-input-66-861f0b7d6081>\u001b[0m in \u001b[0;36m<module>\u001b[1;34m()\u001b[0m\n\u001b[0;32m      1\u001b[0m \u001b[0ma\u001b[0m\u001b[1;33m=\u001b[0m\u001b[1;33m[\u001b[0m\u001b[1;36m1\u001b[0m\u001b[1;33m,\u001b[0m\u001b[1;36m2\u001b[0m\u001b[1;33m,\u001b[0m\u001b[1;36m3\u001b[0m\u001b[1;33m,\u001b[0m\u001b[1;36m4\u001b[0m\u001b[1;33m,\u001b[0m\u001b[1;36m5\u001b[0m\u001b[1;33m]\u001b[0m\u001b[1;33m\u001b[0m\u001b[0m\n\u001b[0;32m      2\u001b[0m \u001b[0mb\u001b[0m\u001b[1;33m=\u001b[0m\u001b[1;33m[\u001b[0m\u001b[1;36m2\u001b[0m\u001b[1;33m,\u001b[0m\u001b[1;36m3\u001b[0m\u001b[1;33m,\u001b[0m\u001b[1;36m4\u001b[0m\u001b[1;33m,\u001b[0m\u001b[1;36m5\u001b[0m\u001b[1;33m,\u001b[0m\u001b[1;36m7\u001b[0m\u001b[1;33m]\u001b[0m\u001b[1;33m\u001b[0m\u001b[0m\n\u001b[1;32m----> 3\u001b[1;33m \u001b[0ma\u001b[0m \u001b[1;33m&\u001b[0m \u001b[0mb\u001b[0m\u001b[1;33m\u001b[0m\u001b[0m\n\u001b[0m",
      "\u001b[1;31mTypeError\u001b[0m: unsupported operand type(s) for &: 'list' and 'list'"
     ]
    }
   ],
   "source": [
    "a=[1,2,3,4,5]\n",
    "b=[2,3,4,5,7]\n",
    "a & b"
   ]
  },
  {
   "cell_type": "code",
   "execution_count": 23,
   "metadata": {},
   "outputs": [
    {
     "name": "stdout",
     "output_type": "stream",
     "text": [
      "[-100  -99  -98  -97  -96  -95  -94  -93  -92  -91  -90  -89  -88  -87  -86\n",
      "  -85  -84  -83  -82  -81  -80  -79  -78  -77  -76  -75  -74  -73  -72  -71\n",
      "  -70  -69  -68  -67  -66  -65  -64  -63  -62  -61  -60  -59  -58  -57  -56\n",
      "  -55  -54  -53  -52  -51  -50  -49  -48  -47  -46  -45  -44  -43  -42  -41\n",
      "  -40  -39  -38  -37  -36  -35  -34  -33  -32  -31  -30  -29  -28  -27  -26\n",
      "  -25  -24  -23  -22  -21  -20  -19  -18  -17  -16  -15  -14  -13  -12  -11\n",
      "  -10   -9   -8   -7   -6   -5   -4   -3   -2   -1    0    1    2    3    4\n",
      "    5    6    7    8    9   10   11   12   13   14   15   16   17   18   19\n",
      "   20   21   22   23   24   25   26   27   28   29   30   31   32   33   34\n",
      "   35   36   37   38   39   40   41   42   43   44   45   46   47   48   49\n",
      "   50   51   52   53   54   55   56   57   58   59   60   61   62   63   64\n",
      "   65   66   67   68   69   70   71   72   73   74   75   76   77   78   79\n",
      "   80   81   82   83   84   85   86   87   88   89   90   91   92   93   94\n",
      "   95   96   97   98   99  100]\n",
      "[10000  9801  9604  9409  9216  9025  8836  8649  8464  8281  8100  7921\n",
      "  7744  7569  7396  7225  7056  6889  6724  6561  6400  6241  6084  5929\n",
      "  5776  5625  5476  5329  5184  5041  4900  4761  4624  4489  4356  4225\n",
      "  4096  3969  3844  3721  3600  3481  3364  3249  3136  3025  2916  2809\n",
      "  2704  2601  2500  2401  2304  2209  2116  2025  1936  1849  1764  1681\n",
      "  1600  1521  1444  1369  1296  1225  1156  1089  1024   961   900   841\n",
      "   784   729   676   625   576   529   484   441   400   361   324   289\n",
      "   256   225   196   169   144   121   100    81    64    49    36    25\n",
      "    16     9     4     1     0     1     4     9    16    25    36    49\n",
      "    64    81   100   121   144   169   196   225   256   289   324   361\n",
      "   400   441   484   529   576   625   676   729   784   841   900   961\n",
      "  1024  1089  1156  1225  1296  1369  1444  1521  1600  1681  1764  1849\n",
      "  1936  2025  2116  2209  2304  2401  2500  2601  2704  2809  2916  3025\n",
      "  3136  3249  3364  3481  3600  3721  3844  3969  4096  4225  4356  4489\n",
      "  4624  4761  4900  5041  5184  5329  5476  5625  5776  5929  6084  6241\n",
      "  6400  6561  6724  6889  7056  7225  7396  7569  7744  7921  8100  8281\n",
      "  8464  8649  8836  9025  9216  9409  9604  9801 10000]\n"
     ]
    },
    {
     "data": {
      "image/png": "[encoded data removed]",
      "text/plain": [
       "<matplotlib.figure.Figure at 0x24bb64e7748>"
      ]
     },
     "metadata": {},
     "output_type": "display_data"
    }
   ],
   "source": [
    "from numpy import array\n",
    "a=[]\n",
    "i=-100\n",
    "while i<=100:\n",
    "    a.append(i)\n",
    "    i=i+1\n",
    "x=array(a)\n",
    "y=x**2\n",
    "\n",
    "%matplotlib inline\n",
    "from matplotlib.pyplot import plot\n",
    "plot(x, y)\n",
    "print(x)\n",
    "print(y)"
   ]
  },
  {
   "cell_type": "code",
   "execution_count": 24,
   "metadata": {},
   "outputs": [
    {
     "name": "stdout",
     "output_type": "stream",
     "text": [
      "1\n",
      "3\n",
      "6\n",
      "10\n",
      "15\n"
     ]
    }
   ],
   "source": [
    "line = '1 2 3 4 5'\n",
    "fields = line.split()\n",
    "total = 0\n",
    "for field in fields:\n",
    "    total =total+ int(field)\n",
    "    print(total)"
   ]
  },
  {
   "cell_type": "code",
   "execution_count": 31,
   "metadata": {
    "collapsed": true
   },
   "outputs": [],
   "source": [
    "f = open('data1.txt', 'w')\n",
    "f.write('1 2 3 4\\n')\n",
    "f.write('2 3 4 5\\n')\n",
    "f.close()"
   ]
  },
  {
   "cell_type": "code",
   "execution_count": 42,
   "metadata": {},
   "outputs": [
    {
     "name": "stdout",
     "output_type": "stream",
     "text": [
      "['1', '2', '3', '4']\n",
      "['2', '3', '4', '5']\n"
     ]
    }
   ],
   "source": [
    "f = open('data.txt')\n",
    "data = []\n",
    "for line in f:\n",
    "    #print(int(field) for field in line.split())\n",
    "    print(line.split())\n"
   ]
  },
  {
   "cell_type": "code",
   "execution_count": 44,
   "metadata": {
    "scrolled": true
   },
   "outputs": [
    {
     "data": {
      "text/plain": [
       "[<matplotlib.lines.Line2D at 0x24bb67aeba8>]"
      ]
     },
     "execution_count": 44,
     "metadata": {},
     "output_type": "execute_result"
    },
    {
     "data": {
      "image/png": "[encoded data removed]",
      "text/plain": [
       "<matplotlib.figure.Figure at 0x24bb6611780>"
      ]
     },
     "metadata": {},
     "output_type": "display_data"
    }
   ],
   "source": [
    "def x_3(x):\n",
    "    y=x**3\n",
    "    return y\n",
    "\n",
    "i=0\n",
    "a=[]\n",
    "b=[]\n",
    "while i<=100:\n",
    "    a.append(i)\n",
    "    b.append(x_3(i))\n",
    "    i=i+1\n",
    "%matplotlib inline\n",
    "from matplotlib.pyplot import plot\n",
    "plot(a, b)"
   ]
  },
  {
   "cell_type": "code",
   "execution_count": 54,
   "metadata": {},
   "outputs": [
    {
     "name": "stdout",
     "output_type": "stream",
     "text": [
      "0.2\n"
     ]
    }
   ],
   "source": [
    "a=3.4-3.2\n",
    "print(round(a,2))"
   ]
  },
  {
   "cell_type": "code",
   "execution_count": 55,
   "metadata": {},
   "outputs": [
    {
     "data": {
      "text/plain": [
       "-9.805259713214728"
      ]
     },
     "execution_count": 55,
     "metadata": {},
     "output_type": "execute_result"
    }
   ],
   "source": [
    "1 + 2 - (3 * 4 / 7) ** 5 + 7 % 5"
   ]
  },
  {
   "cell_type": "code",
   "execution_count": 58,
   "metadata": {},
   "outputs": [
    {
     "data": {
      "text/plain": [
       "3"
      ]
     },
     "execution_count": 58,
     "metadata": {},
     "output_type": "execute_result"
    }
   ],
   "source": [
    "7%4"
   ]
  },
  {
   "cell_type": "code",
   "execution_count": 60,
   "metadata": {},
   "outputs": [
    {
     "ename": "TypeError",
     "evalue": "count() takes at least 1 argument (0 given)",
     "output_type": "error",
     "traceback": [
      "\u001b[1;31m---------------------------------------------------------------------------\u001b[0m",
      "\u001b[1;31mTypeError\u001b[0m                                 Traceback (most recent call last)",
      "\u001b[1;32m<ipython-input-60-e44884f02bd2>\u001b[0m in \u001b[0;36m<module>\u001b[1;34m()\u001b[0m\n\u001b[0;32m      1\u001b[0m \u001b[0ms\u001b[0m\u001b[1;33m=\u001b[0m\u001b[1;34m'hello'\u001b[0m\u001b[1;33m\u001b[0m\u001b[0m\n\u001b[1;32m----> 2\u001b[1;33m \u001b[0ms\u001b[0m\u001b[1;33m.\u001b[0m\u001b[0mcount\u001b[0m\u001b[1;33m(\u001b[0m\u001b[1;33m)\u001b[0m\u001b[1;33m\u001b[0m\u001b[0m\n\u001b[0m",
      "\u001b[1;31mTypeError\u001b[0m: count() takes at least 1 argument (0 given)"
     ]
    }
   ],
   "source": [
    "s='hello'\n",
    "s."
   ]
  },
  {
   "cell_type": "code",
   "execution_count": 66,
   "metadata": {},
   "outputs": [
    {
     "name": "stdout",
     "output_type": "stream",
     "text": [
      "1_2_3_4_5\n"
     ]
    }
   ],
   "source": [
    "a='1,2,3,4,5'\n",
    "#s=a.split(',')\n",
    "#s\n",
    "#b='_'\n",
    "#b.join(s)\n",
    "b=a.replace(',','_')\n",
    "print(b)"
   ]
  },
  {
   "cell_type": "code",
   "execution_count": 5,
   "metadata": {
    "scrolled": true
   },
   "outputs": [
    {
     "name": "stdout",
     "output_type": "stream",
     "text": [
      "C:\\Users\\Zhenqi\n"
     ]
    }
   ],
   "source": [
    "%cd C:\\Users\\Zhenqi\\\n",
    "        "
   ]
  },
  {
   "cell_type": "code",
   "execution_count": 6,
   "metadata": {},
   "outputs": [
    {
     "name": "stdout",
     "output_type": "stream",
     "text": [
      " 驱动器 C 中的卷是 Windows\n",
      " 卷的序列号是 781C-54BE\n",
      "\n",
      " C:\\Users\\Zhenqi 的目录\n",
      "\n",
      "2018/01/01  22:23    <DIR>          .\n",
      "2018/01/01  22:23    <DIR>          ..\n",
      "2017/12/31  02:11    <DIR>          .anaconda\n",
      "2015/11/01  18:27    <DIR>          .android\n",
      "2017/12/31  04:04    <DIR>          .conda\n",
      "2017/12/31  03:52                43 .condarc\n",
      "2015/11/20  00:12    <DIR>          .idlerc\n",
      "2017/12/31  02:15    <DIR>          .ipynb_checkpoints\n",
      "2017/12/31  02:13    <DIR>          .ipython\n",
      "2017/12/31  02:47    <DIR>          .jupyter\n",
      "2017/12/31  04:02    <DIR>          .matplotlib\n",
      "2016/10/16  17:03    <DIR>          .QtWebEngineProcess\n",
      "2016/10/16  17:03    <DIR>          .SimulationCraft\n",
      "2017/12/31  04:02    <DIR>          .spyder-py3\n",
      "2017/01/25  16:29    <DIR>          .YYBox\n",
      "2017/12/31  02:11    <DIR>          Anaconda3\n",
      "2017/12/31  03:14    <DIR>          AnacondaProjects\n",
      "2016/01/04  21:28    <DIR>          CMB\n",
      "2017/07/31  21:54    <DIR>          Contacts\n",
      "2018/01/01  00:51                18 data1.txt\n",
      "2017/12/31  03:50    <DIR>          Desktop\n",
      "2017/12/31  02:11    <DIR>          Documents\n",
      "2016/11/26  01:40    <DIR>          Downloads\n",
      "2017/11/12  00:51    <DIR>          Favorites\n",
      "2018/01/01  18:54    <DIR>          iCloudDrive\n",
      "2017/11/12  00:51    <DIR>          Links\n",
      "2017/07/31  21:54    <DIR>          Music\n",
      "2015/11/03  22:16    <DIR>          OneDrive\n",
      "2017/12/19  00:20    <DIR>          OpenVPN\n",
      "2017/11/12  00:49    <DIR>          Pictures\n",
      "2017/12/02  17:54               600 PUTTY.RND\n",
      "2018/01/01  22:53    <DIR>          py_script\n",
      "2017/10/05  15:16    <DIR>          Saved Games\n",
      "2017/07/31  21:54    <DIR>          Searches\n",
      "2017/07/31  21:54    <DIR>          Videos\n",
      "               3 个文件            661 字节\n",
      "              32 个目录 33,829,486,592 可用字节\n"
     ]
    }
   ],
   "source": [
    "%ls"
   ]
  },
  {
   "cell_type": "code",
   "execution_count": 7,
   "metadata": {},
   "outputs": [
    {
     "name": "stdout",
     "output_type": "stream",
     "text": [
      "1 2 3 4\n",
      "\n",
      "2 3 4 5\n",
      "\n"
     ]
    }
   ],
   "source": [
    "f = open('data1.txt')\n",
    "for line in f:\n",
    "    print(line)"
   ]
  },
  {
   "cell_type": "code",
   "execution_count": 92,
   "metadata": {},
   "outputs": [
    {
     "name": "stdout",
     "output_type": "stream",
     "text": [
      "['1', '2', '3', '4']\n",
      "['2', '3', '4', '5']\n"
     ]
    },
    {
     "data": {
      "text/plain": [
       "'2 3 4 5\\n'"
      ]
     },
     "execution_count": 92,
     "metadata": {},
     "output_type": "execute_result"
    }
   ],
   "source": [
    "f = open('data1.txt')\n",
    "data=[]\n",
    "for a in f:\n",
    "    print(a.split())\n",
    "    data.append([a.])"
   ]
  },
  {
   "cell_type": "code",
   "execution_count": null,
   "metadata": {
    "collapsed": true
   },
   "outputs": [],
   "source": [
    "f = open('data.txt')\n",
    "data = []\n",
    "for line in f:\n",
    "    data.append([int(field) for field in line.split()])\n",
    "f.close()\n",
    "data"
   ]
  },
  {
   "cell_type": "code",
   "execution_count": 9,
   "metadata": {},
   "outputs": [
    {
     "data": {
      "text/plain": [
       "[10, 11, 13, 11]"
      ]
     },
     "execution_count": 9,
     "metadata": {},
     "output_type": "execute_result"
    }
   ],
   "source": [
    "a = [10, 11, 12, 13, 11]\n",
    "del a[2]\n",
    "a"
   ]
  },
  {
   "cell_type": "code",
   "execution_count": 23,
   "metadata": {},
   "outputs": [
    {
     "name": "stdout",
     "output_type": "stream",
     "text": [
      "[2, 1, 3, 4, 5, 6]\n",
      "[6, 5, 4, 3, 2, 1]\n"
     ]
    },
    {
     "data": {
      "text/plain": [
       "[1, 2, 3, 4, 5, 6]"
      ]
     },
     "execution_count": 23,
     "metadata": {},
     "output_type": "execute_result"
    }
   ],
   "source": [
    "a = [2, 1, 3, 4, 5, 6]\n",
    "b=sorted(a,reverse=True)\n",
    "c=sorted(a)\n",
    "print(a)\n",
    "print(b)\n",
    "c"
   ]
  },
  {
   "cell_type": "code",
   "execution_count": 24,
   "metadata": {},
   "outputs": [
    {
     "ename": "TypeError",
     "evalue": "string argument without an encoding",
     "output_type": "error",
     "traceback": [
      "\u001b[1;31m---------------------------------------------------------------------------\u001b[0m",
      "\u001b[1;31mTypeError\u001b[0m                                 Traceback (most recent call last)",
      "\u001b[1;32m<ipython-input-24-00f2a6ecbecb>\u001b[0m in \u001b[0;36m<module>\u001b[1;34m()\u001b[0m\n\u001b[1;32m----> 1\u001b[1;33m \u001b[0ms\u001b[0m \u001b[1;33m=\u001b[0m \u001b[0mbytearray\u001b[0m\u001b[1;33m(\u001b[0m\u001b[1;34m'abcde'\u001b[0m\u001b[1;33m)\u001b[0m\u001b[1;33m\u001b[0m\u001b[0m\n\u001b[0m\u001b[0;32m      2\u001b[0m \u001b[0ms\u001b[0m\u001b[1;33m\u001b[0m\u001b[0m\n",
      "\u001b[1;31mTypeError\u001b[0m: string argument without an encoding"
     ]
    }
   ],
   "source": [
    "s = bytearray('abcde')\n",
    "s"
   ]
  },
  {
   "cell_type": "code",
   "execution_count": 25,
   "metadata": {},
   "outputs": [
    {
     "name": "stdout",
     "output_type": "stream",
     "text": [
      "(10, 11, 12, 13, 14)\n",
      "[10, 11, 12, 13, 14]\n"
     ]
    }
   ],
   "source": [
    "a = [10, 11, 12, 13, 14]\n",
    "print(tuple(a))\n",
    "print(a)"
   ]
  },
  {
   "cell_type": "code",
   "execution_count": 27,
   "metadata": {},
   "outputs": [
    {
     "name": "stdout",
     "output_type": "stream",
     "text": [
      "[1, 2, 3, 3, 4]\n",
      "(1, 2, 3, 3, 4)\n"
     ]
    }
   ],
   "source": [
    "x=[1,2,3]\n",
    "x.extend([3,4])\n",
    "print(x)\n",
    "print(tuple(x))"
   ]
  },
  {
   "cell_type": "code",
   "execution_count": 33,
   "metadata": {},
   "outputs": [
    {
     "data": {
      "text/plain": [
       "{1, 2, 3, 4}"
      ]
     },
     "execution_count": 33,
     "metadata": {},
     "output_type": "execute_result"
    }
   ],
   "source": [
    "x={1,2,3}\n",
    "x.add(4)\n",
    "x"
   ]
  },
  {
   "cell_type": "code",
   "execution_count": 47,
   "metadata": {
    "scrolled": true
   },
   "outputs": [
    {
     "data": {
      "text/plain": [
       "[[0.98983115994486981, 0.67375628813061783],\n",
       " [0.072381101033023421, 0.40949064041682692],\n",
       " [0.62679420432362953, 0.66181455298688796],\n",
       " [0.98463166450506678, 0.34148359061038847],\n",
       " [0.13704810412877655, 0.51537982769183821],\n",
       " [0.44202149329706009, 0.19114609642187663],\n",
       " [0.87347825984430694, 0.35837515015137766],\n",
       " [0.40819253242027964, 0.99952812618952547],\n",
       " [0.69971118685683464, 0.017236342595788212],\n",
       " [0.45016040153682491, 0.6535846881974462],\n",
       " [0.99354192165424182, 0.46335510109977507],\n",
       " [0.41306177043795766, 0.56138109698708405],\n",
       " [0.14958439806298707, 0.63708927957654504],\n",
       " [0.98870714904858115, 0.91478274713977692],\n",
       " [0.14994477759143254, 0.41204333071434118],\n",
       " [0.66488761957094589, 0.72713456446496527],\n",
       " [0.95090183159324104, 0.2646962863561535],\n",
       " [0.64866041397548935, 0.88363530760896813],\n",
       " [0.062465327729519737, 0.12260987407319646],\n",
       " [0.77763228076474977, 0.66715962537108775],\n",
       " [0.47566584679257107, 0.61572757473316408],\n",
       " [0.18631573219850495, 0.54009108741670508],\n",
       " [0.26178633854269873, 0.97980896631992143],\n",
       " [0.32132785210593284, 0.13580957668657534],\n",
       " [0.3752833178214926, 0.1903256748050941],\n",
       " [0.82176932908170797, 0.21854830251773871],\n",
       " [0.55121570675151021, 0.62129868666804833],\n",
       " [0.22425116009261992, 0.35609741484434876],\n",
       " [0.37528359672003841, 0.028136396225985072],\n",
       " [0.36699214795354917, 0.74299603454842456],\n",
       " [0.53911600410336702, 0.39823486050418633],\n",
       " [0.59647017432524785, 0.11508900660276611],\n",
       " [0.071515628230739314, 0.81671726718260829],\n",
       " [0.28112490500990728, 0.37771677700318251],\n",
       " [0.3114508551347408, 0.36384453499615632],\n",
       " [0.29030100505703893, 0.065390653039779756],\n",
       " [0.81597993360789878, 0.54140034145462057],\n",
       " [0.20891671965640812, 0.82364852282028267],\n",
       " [0.56148360494928296, 0.93415869647882499],\n",
       " [0.15019574643307576, 0.03939833135134907],\n",
       " [0.98309754461125498, 0.91305941057920503],\n",
       " [0.16507164055445256, 0.78304952127504579],\n",
       " [0.17367896557555507, 0.11273000503021635],\n",
       " [0.98559997908611641, 0.59798198004433867],\n",
       " [0.065261208011869964, 0.20347739341922866],\n",
       " [0.69489068851701885, 0.41680796371431961],\n",
       " [0.20362645478463948, 0.22230027347567549],\n",
       " [0.84753398615227071, 0.35533246270634999],\n",
       " [0.34254405282075329, 0.40510606755599821],\n",
       " [0.71556678197313317, 0.54840006486315618],\n",
       " [0.12762633002587753, 0.78469284163525754],\n",
       " [0.16620625636100439, 0.87896670471966809],\n",
       " [0.18479480701561946, 0.49149604560732785],\n",
       " [0.28040927602082732, 0.7061908633081031],\n",
       " [0.25064763183231464, 0.38574872627910739],\n",
       " [0.43514507058546137, 0.94456491950268506],\n",
       " [0.39124253476519766, 0.90233780845016764],\n",
       " [0.81619900993350247, 0.77803252206790841],\n",
       " [0.60852380453598565, 0.36344332555342462],\n",
       " [0.72388164799780019, 0.67098733710888447],\n",
       " [0.30717485758037388, 0.055793891574734134],\n",
       " [0.69109796093509157, 0.95110086294808349],\n",
       " [0.032740836038777088, 0.88934029917089474],\n",
       " [0.59366417089292001, 0.4790043860817208],\n",
       " [0.93634168318996525, 0.48211517954181271],\n",
       " [0.78632069890753664, 0.097712263767873564],\n",
       " [0.17771939012271076, 0.97846864056379212],\n",
       " [0.42042626712303888, 0.92670371089376957],\n",
       " [0.23374175295301769, 0.5169238305594468],\n",
       " [0.89538415688108031, 0.62930787656000042],\n",
       " [0.073235753348026122, 0.35234051301729419],\n",
       " [0.42223992036914493, 0.93576488521185375],\n",
       " [0.43011145343778401, 0.99097283236241418],\n",
       " [0.023234492306522747, 0.83542510014571747],\n",
       " [0.3474799836255571, 0.90193317662529993],\n",
       " [0.12851753032379121, 0.7560412820432113],\n",
       " [0.72373563976709221, 0.025736676423846916],\n",
       " [0.87514576455745074, 0.80842716864167363],\n",
       " [0.81022805390276165, 0.44484727688037418],\n",
       " [0.69256142203521964, 0.013958283564253104],\n",
       " [0.40086899512385465, 0.11583087060988551],\n",
       " [0.23285503543399255, 0.49029479318323643],\n",
       " [0.047581533689145417, 0.6806451402042446],\n",
       " [0.82883962467785466, 0.56875515136542887],\n",
       " [0.84709942122437909, 0.82344708158183222],\n",
       " [0.045907687598943481, 0.8197316549777095],\n",
       " [0.96127597290053546, 0.26793093667057755],\n",
       " [0.51627127925248983, 0.25994537059951028],\n",
       " [0.083158558150028705, 0.84612099571997967],\n",
       " [0.24239310932357216, 0.35605889776861233],\n",
       " [0.48940441675926294, 0.3971119527445256],\n",
       " [0.57718431636738465, 0.12805091096609245],\n",
       " [0.34823557125934368, 0.42990691494036581],\n",
       " [0.55938150087766592, 0.64156746357839578],\n",
       " [0.71090362523619177, 0.19803651285769963],\n",
       " [0.82027811864697808, 0.3780898916968114],\n",
       " [0.36518683586764911, 0.84510097330084266],\n",
       " [0.43435940071128554, 0.081670577450218551],\n",
       " [0.16762525272755069, 0.82545605376705611],\n",
       " [0.45651277055690953, 0.2945881347861925]]"
      ]
     },
     "execution_count": 47,
     "metadata": {},
     "output_type": "execute_result"
    }
   ],
   "source": [
    "from numpy.random import rand\n",
    "values = rand(100,2)\n",
    "lst = [list(row) for row in values]\n",
    "tup = tuple(tuple(row) for row in values)\n",
    "lst"
   ]
  },
  {
   "cell_type": "code",
   "execution_count": 58,
   "metadata": {},
   "outputs": [
    {
     "data": {
      "text/plain": [
       "147.16805568873176"
      ]
     },
     "execution_count": 58,
     "metadata": {},
     "output_type": "execute_result"
    }
   ],
   "source": [
    "b=0\n",
    "for row in lst: \n",
    "    a = row[0] + 1\n",
    "    b=b+a\n",
    "b"
   ]
  },
  {
   "cell_type": "code",
   "execution_count": 65,
   "metadata": {
    "scrolled": true
   },
   "outputs": [
    {
     "name": "stdout",
     "output_type": "stream",
     "text": [
      "{'one': 'this is number 1', 'two': 'this is number 2', '3': 'this is number 3', '4': 'this is number 4'}\n",
      "{'one': 'this is number 1', 'two': 'this is number 2', '3': 'this is number 3', '4': 'this is number 4'}\n",
      "{'one': 'this is number 1', 'two': 'this is number 2', '3': 'this is number 3', '4': 'this is number 4'}\n",
      "{'one': 'this is number 1', 'two': 'this is number 2', '3': 'this is number 3', '4': 'this is number 4'}\n",
      "{'one': 'this is number 1', 'two': 'this is number 2', '3': 'this is number 3', '4': 'this is number 4'}\n",
      "{'one': 'this is number 1', 'two': 'this is number 2', '3': 'this is number 3', '4': 'this is number 4'}\n",
      "{'one': 'this is number 1', 'two': 'this is number 2', '3': 'this is number 3', '4': 'this is number 4'}\n",
      "{'one': 'this is number 1', 'two': 'this is number 2', '3': 'this is number 3', '4': 'this is number 4'}\n",
      "{'one': 'this is number 1', 'two': 'this is number 2', '3': 'this is number 3', '4': 'this is number 4'}\n",
      "{'one': 'this is number 1', 'two': 'this is number 2', '3': 'this is number 3', '4': 'this is number 4'}\n",
      "{'one': 'this is number 1', 'two': 'this is number 2', '3': 'this is number 3', '4': 'this is number 4'}\n",
      "{'one': 'this is number 1', 'two': 'this is number 2', '3': 'this is number 3', '4': 'this is number 4'}\n",
      "{'one': 'this is number 1', 'two': 'this is number 2', '3': 'this is number 3', '4': 'this is number 4'}\n",
      "{'one': 'this is number 1', 'two': 'this is number 2', '3': 'this is number 3', '4': 'this is number 4'}\n",
      "{'one': 'this is number 1', 'two': 'this is number 2', '3': 'this is number 3', '4': 'this is number 4'}\n",
      "{'one': 'this is number 1', 'two': 'this is number 2', '3': 'this is number 3', '4': 'this is number 4'}\n",
      "{'one': 'this is number 1', 'two': 'this is number 2', '3': 'this is number 3', '4': 'this is number 4'}\n",
      "{'one': 'this is number 1', 'two': 'this is number 2', '3': 'this is number 3', '4': 'this is number 4'}\n",
      "{'one': 'this is number 1', 'two': 'this is number 2', '3': 'this is number 3', '4': 'this is number 4'}\n",
      "{'one': 'this is number 1', 'two': 'this is number 2', '3': 'this is number 3', '4': 'this is number 4'}\n",
      "{'one': 'this is number 1', 'two': 'this is number 2', '3': 'this is number 3', '4': 'this is number 4'}\n",
      "{'one': 'this is number 1', 'two': 'this is number 2', '3': 'this is number 3', '4': 'this is number 4'}\n",
      "{'one': 'this is number 1', 'two': 'this is number 2', '3': 'this is number 3', '4': 'this is number 4'}\n",
      "{'one': 'this is number 1', 'two': 'this is number 2', '3': 'this is number 3', '4': 'this is number 4'}\n",
      "{'one': 'this is number 1', 'two': 'this is number 2', '3': 'this is number 3', '4': 'this is number 4'}\n",
      "{'one': 'this is number 1', 'two': 'this is number 2', '3': 'this is number 3', '4': 'this is number 4'}\n",
      "{'one': 'this is number 1', 'two': 'this is number 2', '3': 'this is number 3', '4': 'this is number 4'}\n",
      "{'one': 'this is number 1', 'two': 'this is number 2', '3': 'this is number 3', '4': 'this is number 4'}\n",
      "{'one': 'this is number 1', 'two': 'this is number 2', '3': 'this is number 3', '4': 'this is number 4'}\n",
      "{'one': 'this is number 1', 'two': 'this is number 2', '3': 'this is number 3', '4': 'this is number 4'}\n",
      "{'one': 'this is number 1', 'two': 'this is number 2', '3': 'this is number 3', '4': 'this is number 4'}\n",
      "{'one': 'this is number 1', 'two': 'this is number 2', '3': 'this is number 3', '4': 'this is number 4'}\n",
      "{'one': 'this is number 1', 'two': 'this is number 2', '3': 'this is number 3', '4': 'this is number 4'}\n",
      "{'one': 'this is number 1', 'two': 'this is number 2', '3': 'this is number 3', '4': 'this is number 4'}\n",
      "{'one': 'this is number 1', 'two': 'this is number 2', '3': 'this is number 3', '4': 'this is number 4'}\n",
      "{'one': 'this is number 1', 'two': 'this is number 2', '3': 'this is number 3', '4': 'this is number 4'}\n",
      "{'one': 'this is number 1', 'two': 'this is number 2', '3': 'this is number 3', '4': 'this is number 4'}\n",
      "{'one': 'this is number 1', 'two': 'this is number 2', '3': 'this is number 3', '4': 'this is number 4'}\n",
      "{'one': 'this is number 1', 'two': 'this is number 2', '3': 'this is number 3', '4': 'this is number 4'}\n",
      "{'one': 'this is number 1', 'two': 'this is number 2', '3': 'this is number 3', '4': 'this is number 4'}\n",
      "{'one': 'this is number 1', 'two': 'this is number 2', '3': 'this is number 3', '4': 'this is number 4'}\n",
      "{'one': 'this is number 1', 'two': 'this is number 2', '3': 'this is number 3', '4': 'this is number 4'}\n",
      "{'one': 'this is number 1', 'two': 'this is number 2', '3': 'this is number 3', '4': 'this is number 4'}\n",
      "{'one': 'this is number 1', 'two': 'this is number 2', '3': 'this is number 3', '4': 'this is number 4'}\n",
      "{'one': 'this is number 1', 'two': 'this is number 2', '3': 'this is number 3', '4': 'this is number 4'}\n",
      "{'one': 'this is number 1', 'two': 'this is number 2', '3': 'this is number 3', '4': 'this is number 4'}\n",
      "{'one': 'this is number 1', 'two': 'this is number 2', '3': 'this is number 3', '4': 'this is number 4'}\n",
      "{'one': 'this is number 1', 'two': 'this is number 2', '3': 'this is number 3', '4': 'this is number 4'}\n",
      "{'one': 'this is number 1', 'two': 'this is number 2', '3': 'this is number 3', '4': 'this is number 4'}\n",
      "{'one': 'this is number 1', 'two': 'this is number 2', '3': 'this is number 3', '4': 'this is number 4'}\n",
      "{'one': 'this is number 1', 'two': 'this is number 2', '3': 'this is number 3', '4': 'this is number 4'}\n",
      "{'one': 'this is number 1', 'two': 'this is number 2', '3': 'this is number 3', '4': 'this is number 4'}\n",
      "{'one': 'this is number 1', 'two': 'this is number 2', '3': 'this is number 3', '4': 'this is number 4'}\n",
      "{'one': 'this is number 1', 'two': 'this is number 2', '3': 'this is number 3', '4': 'this is number 4'}\n",
      "{'one': 'this is number 1', 'two': 'this is number 2', '3': 'this is number 3', '4': 'this is number 4'}\n",
      "{'one': 'this is number 1', 'two': 'this is number 2', '3': 'this is number 3', '4': 'this is number 4'}\n",
      "{'one': 'this is number 1', 'two': 'this is number 2', '3': 'this is number 3', '4': 'this is number 4'}\n",
      "{'one': 'this is number 1', 'two': 'this is number 2', '3': 'this is number 3', '4': 'this is number 4'}\n",
      "{'one': 'this is number 1', 'two': 'this is number 2', '3': 'this is number 3', '4': 'this is number 4'}\n",
      "{'one': 'this is number 1', 'two': 'this is number 2', '3': 'this is number 3', '4': 'this is number 4'}\n",
      "{'one': 'this is number 1', 'two': 'this is number 2', '3': 'this is number 3', '4': 'this is number 4'}\n",
      "{'one': 'this is number 1', 'two': 'this is number 2', '3': 'this is number 3', '4': 'this is number 4'}\n",
      "{'one': 'this is number 1', 'two': 'this is number 2', '3': 'this is number 3', '4': 'this is number 4'}\n",
      "{'one': 'this is number 1', 'two': 'this is number 2', '3': 'this is number 3', '4': 'this is number 4'}\n",
      "{'one': 'this is number 1', 'two': 'this is number 2', '3': 'this is number 3', '4': 'this is number 4'}\n",
      "{'one': 'this is number 1', 'two': 'this is number 2', '3': 'this is number 3', '4': 'this is number 4'}\n",
      "{'one': 'this is number 1', 'two': 'this is number 2', '3': 'this is number 3', '4': 'this is number 4'}\n",
      "{'one': 'this is number 1', 'two': 'this is number 2', '3': 'this is number 3', '4': 'this is number 4'}\n",
      "{'one': 'this is number 1', 'two': 'this is number 2', '3': 'this is number 3', '4': 'this is number 4'}\n",
      "{'one': 'this is number 1', 'two': 'this is number 2', '3': 'this is number 3', '4': 'this is number 4'}\n",
      "{'one': 'this is number 1', 'two': 'this is number 2', '3': 'this is number 3', '4': 'this is number 4'}\n",
      "{'one': 'this is number 1', 'two': 'this is number 2', '3': 'this is number 3', '4': 'this is number 4'}\n",
      "{'one': 'this is number 1', 'two': 'this is number 2', '3': 'this is number 3', '4': 'this is number 4'}\n",
      "{'one': 'this is number 1', 'two': 'this is number 2', '3': 'this is number 3', '4': 'this is number 4'}\n",
      "{'one': 'this is number 1', 'two': 'this is number 2', '3': 'this is number 3', '4': 'this is number 4'}\n",
      "{'one': 'this is number 1', 'two': 'this is number 2', '3': 'this is number 3', '4': 'this is number 4'}\n",
      "{'one': 'this is number 1', 'two': 'this is number 2', '3': 'this is number 3', '4': 'this is number 4'}\n",
      "{'one': 'this is number 1', 'two': 'this is number 2', '3': 'this is number 3', '4': 'this is number 4'}\n",
      "{'one': 'this is number 1', 'two': 'this is number 2', '3': 'this is number 3', '4': 'this is number 4'}\n",
      "{'one': 'this is number 1', 'two': 'this is number 2', '3': 'this is number 3', '4': 'this is number 4'}\n",
      "{'one': 'this is number 1', 'two': 'this is number 2', '3': 'this is number 3', '4': 'this is number 4'}\n",
      "{'one': 'this is number 1', 'two': 'this is number 2', '3': 'this is number 3', '4': 'this is number 4'}\n",
      "{'one': 'this is number 1', 'two': 'this is number 2', '3': 'this is number 3', '4': 'this is number 4'}\n",
      "{'one': 'this is number 1', 'two': 'this is number 2', '3': 'this is number 3', '4': 'this is number 4'}\n",
      "{'one': 'this is number 1', 'two': 'this is number 2', '3': 'this is number 3', '4': 'this is number 4'}\n",
      "{'one': 'this is number 1', 'two': 'this is number 2', '3': 'this is number 3', '4': 'this is number 4'}\n",
      "{'one': 'this is number 1', 'two': 'this is number 2', '3': 'this is number 3', '4': 'this is number 4'}\n",
      "{'one': 'this is number 1', 'two': 'this is number 2', '3': 'this is number 3', '4': 'this is number 4'}\n",
      "{'one': 'this is number 1', 'two': 'this is number 2', '3': 'this is number 3', '4': 'this is number 4'}\n",
      "{'one': 'this is number 1', 'two': 'this is number 2', '3': 'this is number 3', '4': 'this is number 4'}\n",
      "{'one': 'this is number 1', 'two': 'this is number 2', '3': 'this is number 3', '4': 'this is number 4'}\n",
      "{'one': 'this is number 1', 'two': 'this is number 2', '3': 'this is number 3', '4': 'this is number 4'}\n",
      "{'one': 'this is number 1', 'two': 'this is number 2', '3': 'this is number 3', '4': 'this is number 4'}\n",
      "{'one': 'this is number 1', 'two': 'this is number 2', '3': 'this is number 3', '4': 'this is number 4'}\n",
      "{'one': 'this is number 1', 'two': 'this is number 2', '3': 'this is number 3', '4': 'this is number 4'}\n",
      "{'one': 'this is number 1', 'two': 'this is number 2', '3': 'this is number 3', '4': 'this is number 4'}\n",
      "{'one': 'this is number 1', 'two': 'this is number 2', '3': 'this is number 3', '4': 'this is number 4'}\n",
      "{'one': 'this is number 1', 'two': 'this is number 2', '3': 'this is number 3', '4': 'this is number 4'}\n",
      "{'one': 'this is number 1', 'two': 'this is number 2', '3': 'this is number 3', '4': 'this is number 4'}\n",
      "{'one': 'this is number 1', 'two': 'this is number 2', '3': 'this is number 3', '4': 'this is number 4'}\n",
      "{'one': 'this is number 1', 'two': 'this is number 2', '3': 'this is number 3', '4': 'this is number 4'}\n"
     ]
    }
   ],
   "source": [
    "b = {'one': 'this is number 1', 'two': 'this is number 2'}\n",
    "b['3']='this is number 3'\n",
    "b['4']='this is number 4'\n",
    "i=0\n",
    "while i<=100:\n",
    "    print(b)\n",
    "    i=i+1"
   ]
  },
  {
   "cell_type": "code",
   "execution_count": 70,
   "metadata": {},
   "outputs": [
    {
     "data": {
      "text/plain": [
       "'WoodyMalone'"
      ]
     },
     "execution_count": 70,
     "metadata": {},
     "output_type": "execute_result"
    }
   ],
   "source": [
    "people = [\n",
    "    {'first': 'Sam', 'last': 'Malone', 'name': 35},\n",
    "    {'first': 'Woody', 'last': 'Boyd', 'name': 21},\n",
    "    {'first': 'Norm', 'last': 'Peterson', 'name': 34},\n",
    "    {'first': 'Diane', 'last': 'Chambers', 'name': 33}\n",
    "]\n",
    "people[1]['first']+people[0]['last']"
   ]
  },
  {
   "cell_type": "code",
   "execution_count": 77,
   "metadata": {},
   "outputs": [
    {
     "name": "stdout",
     "output_type": "stream",
     "text": [
      "this is number 1\n"
     ]
    }
   ],
   "source": [
    "a = {}\n",
    "a[\"one\"] = \"this is number 1\"\n",
    "a[\"two\"] = \"this is number 2\"\n",
    "print(a.get('one','not found'))"
   ]
  },
  {
   "cell_type": "code",
   "execution_count": 94,
   "metadata": {},
   "outputs": [
    {
     "name": "stdout",
     "output_type": "stream",
     "text": [
      "{'first': 'Jmes', 'last': 'Maxwell', 'born': 1831}\n",
      "{'first': 'shao', 'last': 'zs'}\n",
      "{'first': 'shao', 'last': 'zs', 'born': 1831}\n",
      "True\n",
      "True\n",
      "True\n"
     ]
    }
   ],
   "source": [
    "person = {}\n",
    "person['first'] = \"Jmes\"\n",
    "person['last'] = \"Maxwell\"\n",
    "person['born'] = 1831\n",
    "print(person)\n",
    "person_modify={'first':'shao','last':'zs'}\n",
    "print(person_modify)\n",
    "person.update(person_modify)\n",
    "print(person)\n",
    "\n",
    "print(('first','shao')in person.items())\n",
    "print('first' in person)\n",
    "print('first' in person.keys())"
   ]
  },
  {
   "cell_type": "code",
   "execution_count": null,
   "metadata": {
    "collapsed": true
   },
   "outputs": [],
   "source": []
  }
 ],
 "metadata": {
  "kernelspec": {
   "display_name": "Python 3",
   "language": "python",
   "name": "python3"
  },
  "language_info": {
   "codemirror_mode": {
    "name": "ipython",
    "version": 3
   },
   "file_extension": ".py",
   "mimetype": "text/x-python",
   "name": "python",
   "nbconvert_exporter": "python",
   "pygments_lexer": "ipython3",
   "version": "3.6.3"
  }
 },
 "nbformat": 4,
 "nbformat_minor": 2
}
